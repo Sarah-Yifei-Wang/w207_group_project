{
 "cells": [
  {
   "cell_type": "markdown",
   "metadata": {},
   "source": [
    "## Let's do some real estate data-sourcing\n",
    "\n",
    "We have 3 basic data sources:\n",
    "\n",
    "[Merged Sales](data/zip/merged_sales_stats.csv) - This is sales data by zip code for California. It came from https://www.redfin.com/news/data-center/ and it's got a lot of stats in there. Most of the data is medians so it doesn't tell us much about the outliers which almost certainly are skewing some of the data pretty heavily. There's a lot of mansions in California. The Price per SQ Foot is one way to see a little bit of how the market is shaped. These are broken out by zip code and month.\n",
    "\n",
    "[Merged Bedrooms](data/zip/merged_bedrooms.csv) - This is also sales data but broken out by the number of bedrooms in the property. That helps us get some sense of how the market is shaped, though of course there are probably $4M one bedrooms skewing things, likely most of those are small condos/townhomes, and we get a little more of a histogram-ish view of the market. These are also broken out by zip code and month though confusingly, in a way that's different than merged sales.\n",
    "\n",
    "[ca_demographics](data/zip/ca_demographics.csv) - This is 2019 demographic info about the counties in CA. It has tons of info on the county but we need to look up what county a zip code is in for this to be useful. There's examples of that below. What this tends to tell us is \"urban/rural\", \"high income/lower income\", really simple categorizations. I might be able to dig up more data by zip code but it's likely to be a bit older. Examples of how to do this are below."
   ]
  },
  {
   "cell_type": "code",
   "execution_count": 95,
   "metadata": {},
   "outputs": [
    {
     "name": "stdout",
     "output_type": "stream",
     "text": [
      "\n",
      "DataFrame Shape : (137166, 23)\n",
      "Index(['Unnamed: 0', 'Zip Code', 'Month of Period End', 'Median Sale Price',\n",
      "       'Median Sale Price MoM ', 'Median Sale Price YoY ', 'Homes Sold',\n",
      "       'Homes Sold MoM ', 'Homes Sold YoY ', 'New Listings',\n",
      "       'New Listings MoM ', 'New Listings YoY ', 'Inventory', 'Inventory MoM ',\n",
      "       ' Inventory YoY ', 'Days on Market', 'Days on Market MoM',\n",
      "       'Days on Market YoY', 'Average Sale To List',\n",
      "       'Average Sale To List MoM ', 'Average Sale To List YoY ',\n",
      "       'record_month', 'PSSF'],\n",
      "      dtype='object')\n"
     ]
    }
   ],
   "source": [
    "import pandas as pd\n",
    "import numpy as np\n",
    "\n",
    "#load dataframe from csv\n",
    "merged_sales = pd.read_csv(\"data/zip/merged_sales_stats.csv\", delimiter='\t')\n",
    "\n",
    "#print dataframe shape\n",
    "shape = merged_sales.shape\n",
    "print('\\nDataFrame Shape :', shape)\n",
    "\n",
    "print(merged_sales.columns)"
   ]
  },
  {
   "cell_type": "markdown",
   "metadata": {},
   "source": [
    "The merged_sales_statistics file has all the statistics as columns and zip codes and dates as the rows. I tried to transpose these but it got weird. So let's get some stuff from the merged_sales:"
   ]
  },
  {
   "cell_type": "code",
   "execution_count": 16,
   "metadata": {},
   "outputs": [
    {
     "data": {
      "text/html": [
       "<div>\n",
       "<style scoped>\n",
       "    .dataframe tbody tr th:only-of-type {\n",
       "        vertical-align: middle;\n",
       "    }\n",
       "\n",
       "    .dataframe tbody tr th {\n",
       "        vertical-align: top;\n",
       "    }\n",
       "\n",
       "    .dataframe thead th {\n",
       "        text-align: right;\n",
       "    }\n",
       "</style>\n",
       "<table border=\"1\" class=\"dataframe\">\n",
       "  <thead>\n",
       "    <tr style=\"text-align: right;\">\n",
       "      <th></th>\n",
       "      <th>Unnamed: 0</th>\n",
       "      <th>Zip Code</th>\n",
       "      <th>Month of Period End</th>\n",
       "      <th>Median Sale Price</th>\n",
       "      <th>Median Sale Price MoM</th>\n",
       "      <th>Median Sale Price YoY</th>\n",
       "      <th>Homes Sold</th>\n",
       "      <th>Homes Sold MoM</th>\n",
       "      <th>Homes Sold YoY</th>\n",
       "      <th>New Listings</th>\n",
       "      <th>...</th>\n",
       "      <th>Inventory MoM</th>\n",
       "      <th>Inventory YoY</th>\n",
       "      <th>Days on Market</th>\n",
       "      <th>Days on Market MoM</th>\n",
       "      <th>Days on Market YoY</th>\n",
       "      <th>Average Sale To List</th>\n",
       "      <th>Average Sale To List MoM</th>\n",
       "      <th>Average Sale To List YoY</th>\n",
       "      <th>record_month</th>\n",
       "      <th>PSSF</th>\n",
       "    </tr>\n",
       "  </thead>\n",
       "  <tbody>\n",
       "    <tr>\n",
       "      <th>0</th>\n",
       "      <td>0</td>\n",
       "      <td>90001</td>\n",
       "      <td>February 2012</td>\n",
       "      <td>175000</td>\n",
       "      <td>0.0</td>\n",
       "      <td>-7.9</td>\n",
       "      <td>55</td>\n",
       "      <td>-17.9</td>\n",
       "      <td>-6.8</td>\n",
       "      <td>90.0</td>\n",
       "      <td>...</td>\n",
       "      <td>-15.1</td>\n",
       "      <td>-13.5</td>\n",
       "      <td>62.0</td>\n",
       "      <td>27.0</td>\n",
       "      <td>-17.0</td>\n",
       "      <td>95.7</td>\n",
       "      <td>-0.8</td>\n",
       "      <td>-4.5</td>\n",
       "      <td>Zip Code: 900012012-02-01</td>\n",
       "      <td>140.0</td>\n",
       "    </tr>\n",
       "    <tr>\n",
       "      <th>1</th>\n",
       "      <td>1</td>\n",
       "      <td>90001</td>\n",
       "      <td>March 2012</td>\n",
       "      <td>165000</td>\n",
       "      <td>-5.7</td>\n",
       "      <td>-8.3</td>\n",
       "      <td>60</td>\n",
       "      <td>9.1</td>\n",
       "      <td>-1.6</td>\n",
       "      <td>92.0</td>\n",
       "      <td>...</td>\n",
       "      <td>-3.3</td>\n",
       "      <td>-5.4</td>\n",
       "      <td>61.0</td>\n",
       "      <td>-1.0</td>\n",
       "      <td>10.0</td>\n",
       "      <td>96.1</td>\n",
       "      <td>0.5</td>\n",
       "      <td>-3.2</td>\n",
       "      <td>Zip Code: 900012012-03-01</td>\n",
       "      <td>145.0</td>\n",
       "    </tr>\n",
       "  </tbody>\n",
       "</table>\n",
       "<p>2 rows × 23 columns</p>\n",
       "</div>"
      ],
      "text/plain": [
       "   Unnamed: 0  Zip Code Month of Period End  Median Sale Price  \\\n",
       "0           0     90001       February 2012             175000   \n",
       "1           1     90001          March 2012             165000   \n",
       "\n",
       "   Median Sale Price MoM   Median Sale Price YoY   Homes Sold  \\\n",
       "0                     0.0                    -7.9          55   \n",
       "1                    -5.7                    -8.3          60   \n",
       "\n",
       "   Homes Sold MoM   Homes Sold YoY   New Listings  ...  Inventory MoM   \\\n",
       "0            -17.9             -6.8          90.0  ...           -15.1   \n",
       "1              9.1             -1.6          92.0  ...            -3.3   \n",
       "\n",
       "    Inventory YoY   Days on Market  Days on Market MoM  Days on Market YoY  \\\n",
       "0            -13.5            62.0                27.0               -17.0   \n",
       "1             -5.4            61.0                -1.0                10.0   \n",
       "\n",
       "   Average Sale To List  Average Sale To List MoM   Average Sale To List YoY   \\\n",
       "0                  95.7                       -0.8                       -4.5   \n",
       "1                  96.1                        0.5                       -3.2   \n",
       "\n",
       "                record_month   PSSF  \n",
       "0  Zip Code: 900012012-02-01  140.0  \n",
       "1  Zip Code: 900012012-03-01  145.0  \n",
       "\n",
       "[2 rows x 23 columns]"
      ]
     },
     "execution_count": 16,
     "metadata": {},
     "output_type": "execute_result"
    }
   ],
   "source": [
    "zip90001 = merged_sales[merged_sales['Zip Code'] == 90001] #zip codes are ints\n",
    "zip90001.head(2)"
   ]
  },
  {
   "cell_type": "code",
   "execution_count": 94,
   "metadata": {},
   "outputs": [
    {
     "name": "stdout",
     "output_type": "stream",
     "text": [
      "count   1347.0000\n",
      "mean      48.6630\n",
      "std       45.2295\n",
      "min        1.0000\n",
      "25%       24.0000\n",
      "50%       41.0000\n",
      "75%       56.0000\n",
      "max      654.0000\n",
      "Name: Days on Market, dtype: float64\n",
      "count   1338.0000\n",
      "mean      45.6637\n",
      "std       46.1157\n",
      "min        2.0000\n",
      "25%       22.0000\n",
      "50%       37.0000\n",
      "75%       52.0000\n",
      "max      678.0000\n",
      "Name: Days on Market, dtype: float64\n"
     ]
    }
   ],
   "source": [
    "august19 = merged_sales[merged_sales['Month of Period End'] == \"August 2019\"] #months are strings\n",
    "august20 = merged_sales[merged_sales['Month of Period End'] == \"August 2020\"] #months are strings\n",
    "\n",
    "print(august19['Days on Market'].describe())\n",
    "print(august20['Days on Market'].describe())"
   ]
  },
  {
   "cell_type": "code",
   "execution_count": 96,
   "metadata": {},
   "outputs": [
    {
     "name": "stdout",
     "output_type": "stream",
     "text": [
      "count   1348.0000\n",
      "mean      99.4702\n",
      "std        4.3382\n",
      "min       78.4000\n",
      "25%       98.2000\n",
      "50%       99.3000\n",
      "75%      100.1000\n",
      "max      179.0000\n",
      "Name: Average Sale To List, dtype: float64\n",
      "count   1339.0000\n",
      "mean      99.5865\n",
      "std        2.8212\n",
      "min       70.3000\n",
      "25%       98.7000\n",
      "50%       99.8000\n",
      "75%      100.5000\n",
      "max      119.4000\n",
      "Name: Average Sale To List, dtype: float64\n"
     ]
    }
   ],
   "source": [
    "print(august19['Average Sale To List'].describe())\n",
    "print(august20['Average Sale To List'].describe())\n"
   ]
  },
  {
   "cell_type": "code",
   "execution_count": 21,
   "metadata": {},
   "outputs": [
    {
     "name": "stdout",
     "output_type": "stream",
     "text": [
      "(1688, 682)\n",
      "Index(['Unnamed: 0', 'Zip Code', 'June 2009 1bd', 'July 2009 1bd',\n",
      "       'August 2009 1bd', 'September 2009 1bd', 'October 2009 1bd',\n",
      "       'November 2009 1bd', 'December 2009 1bd', 'January 2010 1bd',\n",
      "       ...\n",
      "       'December 2019 5bd', 'January 2020 5bd', 'February 2020 5bd',\n",
      "       'March 2020 5bd', 'April 2020 5bd', 'May 2020 5bd', 'June 2020 5bd',\n",
      "       'July 2020 5bd', 'August 2020 5bd', 'September 2020 5bd'],\n",
      "      dtype='object', length=682)\n"
     ]
    }
   ],
   "source": [
    "\n",
    "\n",
    "#load dataframe from csv\n",
    "merged_bedroom_data = pd.read_csv(\"data/zip/merged_bedrooms.csv\", delimiter='\t')\n",
    "print(merged_bedroom_data.shape)\n",
    "print(merged_bedroom_data.columns)\n"
   ]
  },
  {
   "cell_type": "code",
   "execution_count": 27,
   "metadata": {},
   "outputs": [],
   "source": [
    "# let's get all bedrooms for all zipcodes for August 2020\n",
    "aug2020_bedrooms = pd.DataFrame(merged_bedroom_data, columns=[\"Zip Code\", \"August 2020 1bd\", \"August 2020 2bd\", \"August 2020 3bd\", \"August 2020 4bd\", \"August 2020 5bd\"])"
   ]
  },
  {
   "cell_type": "code",
   "execution_count": 28,
   "metadata": {},
   "outputs": [
    {
     "data": {
      "text/html": [
       "<div>\n",
       "<style scoped>\n",
       "    .dataframe tbody tr th:only-of-type {\n",
       "        vertical-align: middle;\n",
       "    }\n",
       "\n",
       "    .dataframe tbody tr th {\n",
       "        vertical-align: top;\n",
       "    }\n",
       "\n",
       "    .dataframe thead th {\n",
       "        text-align: right;\n",
       "    }\n",
       "</style>\n",
       "<table border=\"1\" class=\"dataframe\">\n",
       "  <thead>\n",
       "    <tr style=\"text-align: right;\">\n",
       "      <th></th>\n",
       "      <th>Zip Code</th>\n",
       "      <th>August 2020 1bd</th>\n",
       "      <th>August 2020 2bd</th>\n",
       "      <th>August 2020 3bd</th>\n",
       "      <th>August 2020 4bd</th>\n",
       "      <th>August 2020 5bd</th>\n",
       "    </tr>\n",
       "  </thead>\n",
       "  <tbody>\n",
       "    <tr>\n",
       "      <th>0</th>\n",
       "      <td>94109</td>\n",
       "      <td>852358.0</td>\n",
       "      <td>1359790.0</td>\n",
       "      <td>2061146.0</td>\n",
       "      <td>4374846.0</td>\n",
       "      <td>6729337.0</td>\n",
       "    </tr>\n",
       "    <tr>\n",
       "      <th>1</th>\n",
       "      <td>90250</td>\n",
       "      <td>495890.0</td>\n",
       "      <td>646922.0</td>\n",
       "      <td>698144.0</td>\n",
       "      <td>782495.0</td>\n",
       "      <td>902262.0</td>\n",
       "    </tr>\n",
       "    <tr>\n",
       "      <th>2</th>\n",
       "      <td>94565</td>\n",
       "      <td>227150.0</td>\n",
       "      <td>333446.0</td>\n",
       "      <td>368518.0</td>\n",
       "      <td>514257.0</td>\n",
       "      <td>669362.0</td>\n",
       "    </tr>\n",
       "    <tr>\n",
       "      <th>3</th>\n",
       "      <td>90046</td>\n",
       "      <td>595040.0</td>\n",
       "      <td>1058531.0</td>\n",
       "      <td>1919896.0</td>\n",
       "      <td>2830699.0</td>\n",
       "      <td>3621369.0</td>\n",
       "    </tr>\n",
       "  </tbody>\n",
       "</table>\n",
       "</div>"
      ],
      "text/plain": [
       "   Zip Code  August 2020 1bd  August 2020 2bd  August 2020 3bd  \\\n",
       "0     94109         852358.0        1359790.0        2061146.0   \n",
       "1     90250         495890.0         646922.0         698144.0   \n",
       "2     94565         227150.0         333446.0         368518.0   \n",
       "3     90046         595040.0        1058531.0        1919896.0   \n",
       "\n",
       "   August 2020 4bd  August 2020 5bd  \n",
       "0        4374846.0        6729337.0  \n",
       "1         782495.0         902262.0  \n",
       "2         514257.0         669362.0  \n",
       "3        2830699.0        3621369.0  "
      ]
     },
     "execution_count": 28,
     "metadata": {},
     "output_type": "execute_result"
    }
   ],
   "source": [
    "# what's our dataframe look like?\n",
    "aug2020_bedrooms.head(5)"
   ]
  },
  {
   "cell_type": "code",
   "execution_count": 30,
   "metadata": {},
   "outputs": [
    {
     "data": {
      "text/plain": [
       "count      1550.0000\n",
       "mean     845059.2310\n",
       "std      738127.1771\n",
       "min       69945.0000\n",
       "25%      401323.7500\n",
       "50%      621232.5000\n",
       "75%      985655.7500\n",
       "max     6528913.0000\n",
       "Name: August 2020 4bd, dtype: float64"
      ]
     },
     "execution_count": 30,
     "metadata": {},
     "output_type": "execute_result"
    }
   ],
   "source": [
    "pd.options.display.float_format = '{:.4f}'.format\n",
    "# how do we find out things about just 4 bedroom houses in Aug 2020?\n",
    "aug2020_bedrooms[\"August 2020 4bd\"].describe() "
   ]
  },
  {
   "cell_type": "code",
   "execution_count": 49,
   "metadata": {},
   "outputs": [
    {
     "name": "stdout",
     "output_type": "stream",
     "text": [
      "(41, 207)\n",
      "Geo_FILEID\n",
      "Geo_STUSAB\n",
      "Geo_GEOCOMP\n",
      "Geo_LOGRECNO\n",
      "Geo_US\n",
      "Geo_REGION\n",
      "Geo_DIVISION\n",
      "Geo_STATECE\n",
      "Geo_STATE\n",
      "Geo_COUNTY\n",
      "Geo_COUSUB\n",
      "Geo_PLACE\n",
      "Geo_TRACT\n",
      "Geo_BLKGRP\n",
      "Geo_CONCIT\n",
      "Geo_AIANHH\n",
      "Geo_AIANHHFP\n",
      "Geo_AIHHTLI\n",
      "Geo_AITSCE\n",
      "Geo_AITS\n",
      "Geo_ANRC\n",
      "Geo_CBSA\n",
      "Geo_CSA\n",
      "Geo_METDIV\n",
      "Geo_MACC\n",
      "Geo_MEMI\n",
      "Geo_NECTA\n",
      "Geo_CNECTA\n",
      "Geo_NECTADIV\n",
      "Geo_UA\n",
      "Geo_UACP\n",
      "Geo_CDCURR\n",
      "Geo_SLDU\n",
      "Geo_SLDL\n",
      "Geo_VTD\n",
      "Geo_ZCTA3\n",
      "Geo_ZCTA5\n",
      "Geo_SUBMCD\n",
      "Geo_SDELM\n",
      "Geo_SDSEC\n",
      "Geo_SDUNI\n",
      "Geo_UR\n",
      "Geo_PCI\n",
      "Geo_TAZ\n",
      "Geo_UGA\n",
      "Geo_PUMA5\n",
      "Geo_PUMA1\n",
      "Geo_GEOID\n",
      "Geo_NAME\n",
      "Geo_BTTR\n",
      "Geo_BTBG\n",
      "Geo_FIPS\n",
      "Geo_QName\n",
      "SE_A00001_001\n",
      "SE_A00002_001\n",
      "SE_A00002_002\n",
      "SE_A00002_003\n",
      "SE_A00003_001\n",
      "SE_A00003_002\n",
      "SE_A00003_003\n",
      "SE_A10008_001\n",
      "SE_A10008_002\n",
      "SE_A10008_003\n",
      "SE_A10008_004\n",
      "SE_A10008_005\n",
      "SE_A10008_006\n",
      "SE_A10008_007\n",
      "SE_A10008_008\n",
      "SE_A10008_009\n",
      "SE_A10003_001\n",
      "SE_A12002_001\n",
      "SE_A12002_002\n",
      "SE_A12002_003\n",
      "SE_A12002_004\n",
      "SE_A12002_005\n",
      "SE_A12002_006\n",
      "SE_A12002_007\n",
      "SE_A12002_008\n",
      "SE_A12003_001\n",
      "SE_A12003_002\n",
      "SE_A12003_003\n",
      "SE_A17002_001\n",
      "SE_A17002_002\n",
      "SE_A17002_003\n",
      "SE_A17002_004\n",
      "SE_A17002_005\n",
      "SE_A17002_006\n",
      "SE_A17002_007\n",
      "SE_A17005_001\n",
      "SE_A17005_002\n",
      "SE_A17005_003\n",
      "SE_A14001_001\n",
      "SE_A14001_002\n",
      "SE_A14001_003\n",
      "SE_A14001_004\n",
      "SE_A14001_005\n",
      "SE_A14001_006\n",
      "SE_A14001_007\n",
      "SE_A14001_008\n",
      "SE_A14001_009\n",
      "SE_A14001_010\n",
      "SE_A14001_011\n",
      "SE_A14001_012\n",
      "SE_A14001_013\n",
      "SE_A14001_014\n",
      "SE_A14001_015\n",
      "SE_A14001_016\n",
      "SE_A14001_017\n",
      "SE_A10026_001\n",
      "SE_A10026_002\n",
      "SE_A10026_003\n",
      "SE_A10026_004\n",
      "SE_A10026_005\n",
      "SE_A10026_006\n",
      "SE_A10026_007\n",
      "SE_A10026_008\n",
      "SE_A10026_009\n",
      "SE_A10026_010\n",
      "SE_A10026_011\n",
      "SE_A10026_012\n",
      "SE_A10026_013\n",
      "SE_A10026_014\n",
      "SE_A10026_015\n",
      "SE_A10026_016\n",
      "SE_A10026_017\n",
      "SE_A10026_018\n",
      "SE_A10026_019\n",
      "SE_A10026_020\n",
      "SE_A10026_021\n",
      "SE_A10026_022\n",
      "SE_A10026_023\n",
      "SE_A14024_001\n",
      "SE_A14028_001\n",
      "SE_A10001_001\n",
      "SE_A10060_001\n",
      "SE_A10060_002\n",
      "SE_A10060_003\n",
      "SE_A10044_001\n",
      "SE_A10044_002\n",
      "SE_A10044_003\n",
      "SE_A10047_001\n",
      "SE_A10047_002\n",
      "SE_A10047_003\n",
      "SE_A10047_004\n",
      "SE_A10035_001\n",
      "SE_A10035_002\n",
      "SE_A10035_003\n",
      "SE_A10035_004\n",
      "SE_A10035_005\n",
      "SE_A10035_006\n",
      "SE_A10035_007\n",
      "SE_A10035_008\n",
      "SE_A10035_009\n",
      "SE_A10035_010\n",
      "SE_A18001_001\n",
      "SE_A18001_002\n",
      "SE_A18001_003\n",
      "SE_A18001_004\n",
      "SE_A18001_005\n",
      "SE_A18001_006\n",
      "SE_A18001_007\n",
      "SE_A18001_008\n",
      "SE_A18001_009\n",
      "SE_A18002_001\n",
      "SE_A18002_002\n",
      "SE_A18002_003\n",
      "SE_A18002_004\n",
      "SE_A18002_005\n",
      "SE_A18002_006\n",
      "SE_A18003_001\n",
      "SE_A18010_001\n",
      "SE_A18010_002\n",
      "SE_A18010_003\n",
      "SE_A18010_004\n",
      "SE_A18010_005\n",
      "SE_A18010_006\n",
      "SE_A18010_007\n",
      "SE_A13004_001\n",
      "SE_A13004_002\n",
      "SE_A13004_003\n",
      "SE_A13004_004\n",
      "SE_A13004_005\n",
      "SE_A13004_006\n",
      "SE_A13004_007\n",
      "SE_A09001_001\n",
      "SE_A09001_002\n",
      "SE_A09001_003\n",
      "SE_A09001_004\n",
      "SE_A09001_005\n",
      "SE_A09001_006\n",
      "SE_A09001_007\n",
      "SE_A09001_008\n",
      "SE_A09001_009\n",
      "SE_A09001_010\n",
      "SE_A08001_001\n",
      "SE_A08001_002\n",
      "SE_A08001_003\n",
      "SE_A08001_004\n",
      "SE_A08001_005\n",
      "SE_A08001_006\n",
      "SE_A08002B_007\n",
      "SE_A08002B_001\n",
      "SE_A08002B_002\n",
      "SE_A08002B_003\n",
      "SE_A08002B_004\n",
      "SE_A08002B_005\n",
      "SE_A08002B_006\n"
     ]
    }
   ],
   "source": [
    "''' \n",
    "now for our demographic info, it's from 2019 so not super up to date, but pretty close and there's a lot of it\n",
    "'''\n",
    "demographics = pd.read_csv(\"data/zip/ca_demographics.csv\", delimiter='\t')\n",
    "zip_to_county = pd.read_csv(\"data/zip/zip_to_county.csv\", delimiter='\t')\n",
    "\n",
    "print(demographics.shape) # a lot of blank columns\n",
    "\n",
    "for ind in demographics.columns:\n",
    "    print(ind)"
   ]
  },
  {
   "cell_type": "markdown",
   "metadata": {},
   "source": [
    "Most of the column names are gibberish, so we'll need to use the [ca_demographics_key.txt](data/zip/ca_demographics_key.txt) to make sense of them."
   ]
  },
  {
   "cell_type": "code",
   "execution_count": 37,
   "metadata": {},
   "outputs": [
    {
     "data": {
      "text/plain": [
       "Index(['Zip Code', 'State', 'County'], dtype='object')"
      ]
     },
     "execution_count": 37,
     "metadata": {},
     "output_type": "execute_result"
    }
   ],
   "source": [
    "zip_to_county.columns # more straightforward"
   ]
  },
  {
   "cell_type": "code",
   "execution_count": 84,
   "metadata": {},
   "outputs": [
    {
     "name": "stdout",
     "output_type": "stream",
     "text": [
      "Los Angeles County\n"
     ]
    }
   ],
   "source": [
    "'''\n",
    "Ok, so let's find out some things about 90001, more or less.\n",
    "First, which county is it in?\n",
    "Then, what's that county like?\n",
    "'''\n",
    "\n",
    "county90001 = zip_to_county[zip_to_county['Zip Code'] == 90001].iloc[0]['County']\n",
    "print(county90001)"
   ]
  },
  {
   "cell_type": "code",
   "execution_count": 85,
   "metadata": {},
   "outputs": [
    {
     "name": "stdout",
     "output_type": "stream",
     "text": [
      "10   2473.7873\n",
      "Name: SE_A00002_002, dtype: float64\n"
     ]
    }
   ],
   "source": [
    "\n",
    "#convoluted, but it works\n",
    "density = demographics[demographics['Geo_NAME'] == county90001]['SE_A00002_002']\n",
    "print(density)"
   ]
  },
  {
   "cell_type": "markdown",
   "metadata": {},
   "source": [
    "So LA is urban. Wow. Mind blown :)\n",
    "Slightly more interesting: what's the gini co-efficient of LA?"
   ]
  },
  {
   "cell_type": "code",
   "execution_count": 93,
   "metadata": {},
   "outputs": [
    {
     "name": "stdout",
     "output_type": "stream",
     "text": [
      "0.494\n"
     ]
    }
   ],
   "source": [
    "print(demographics[demographics['Geo_NAME'] == county90001].iloc[0]['SE_A14028_001'])"
   ]
  },
  {
   "cell_type": "markdown",
   "metadata": {},
   "source": [
    "What percentage of houses are owner occupied?"
   ]
  },
  {
   "cell_type": "code",
   "execution_count": 91,
   "metadata": {},
   "outputs": [
    {
     "name": "stdout",
     "output_type": "stream",
     "text": [
      "0.4541608305256763\n"
     ]
    }
   ],
   "source": [
    "owner = demographics[demographics['Geo_NAME'] == county90001].iloc[0]['SE_A10060_002']\n",
    "renter = demographics[demographics['Geo_NAME'] == county90001].iloc[0]['SE_A10060_003']\n",
    "\n",
    "print(owner / (owner + renter))\n"
   ]
  },
  {
   "cell_type": "markdown",
   "metadata": {},
   "source": [
    "\n",
    "We have a lot of this same data for zip codes but it's older, but let's load it anyways. Here's the key file for this: [ca_zip_demographics_key](data/zip/ca_zip_demographics_key.txt) which we'll definitely need because again, Social Explorer uses weird codes."
   ]
  },
  {
   "cell_type": "code",
   "execution_count": 115,
   "metadata": {},
   "outputs": [
    {
     "name": "stdout",
     "output_type": "stream",
     "text": [
      "(1763, 217)\n"
     ]
    }
   ],
   "source": [
    "zipdemo = pd.read_csv(\"data/zip/ca_zip_demograhics.csv\", delimiter='\t')\n",
    "print(zipdemo.shape)"
   ]
  },
  {
   "cell_type": "code",
   "execution_count": 116,
   "metadata": {},
   "outputs": [
    {
     "name": "stdout",
     "output_type": "stream",
     "text": [
      "Geo_FILEID\n",
      "Geo_STUSAB\n",
      "Geo_GEOCOMP\n",
      "Geo_LOGRECNO\n",
      "Geo_US\n",
      "Geo_REGION\n",
      "Geo_DIVISION\n",
      "Geo_STATECE\n",
      "Geo_STATE\n",
      "Geo_COUNTY\n",
      "Geo_COUSUB\n",
      "Geo_PLACE\n",
      "Geo_TRACT\n",
      "Geo_BLKGRP\n",
      "Geo_CONCIT\n",
      "Geo_AIANHH\n",
      "Geo_AIANHHFP\n",
      "Geo_AIHHTLI\n",
      "Geo_AITSCE\n",
      "Geo_AITS\n",
      "Geo_ANRC\n",
      "Geo_CBSA\n",
      "Geo_CSA\n",
      "Geo_METDIV\n",
      "Geo_MACC\n",
      "Geo_MEMI\n",
      "Geo_NECTA\n",
      "Geo_CNECTA\n",
      "Geo_NECTADIV\n",
      "Geo_UA\n",
      "Geo_UACP\n",
      "Geo_CDCURR\n",
      "Geo_SLDU\n",
      "Geo_SLDL\n",
      "Geo_VTD\n",
      "Geo_ZCTA3\n",
      "Geo_ZCTA5\n",
      "Geo_SUBMCD\n",
      "Geo_SDELM\n",
      "Geo_SDSEC\n",
      "Geo_SDUNI\n",
      "Geo_UR\n",
      "Geo_PCI\n",
      "Geo_TAZ\n",
      "Geo_UGA\n",
      "Geo_PUMA5\n",
      "Geo_PUMA1\n",
      "Geo_GEOID\n",
      "Geo_NAME\n",
      "Geo_BTTR\n",
      "Geo_BTBG\n",
      "Geo_FIPS\n",
      "Geo_QName\n",
      "SE_A00001_001\n",
      "SE_A00002_001\n",
      "SE_A00002_002\n",
      "SE_A00002_003\n",
      "SE_A00003_001\n",
      "SE_A00003_002\n",
      "SE_A00003_003\n",
      "SE_A10008_001\n",
      "SE_A10008_002\n",
      "SE_A10008_003\n",
      "SE_A10008_004\n",
      "SE_A10008_005\n",
      "SE_A10008_006\n",
      "SE_A10008_007\n",
      "SE_A10008_008\n",
      "SE_A10008_009\n",
      "SE_A10003_001\n",
      "SE_A12002_001\n",
      "SE_A12002_002\n",
      "SE_A12002_003\n",
      "SE_A12002_004\n",
      "SE_A12002_005\n",
      "SE_A12002_006\n",
      "SE_A12002_007\n",
      "SE_A12002_008\n",
      "SE_A12003_001\n",
      "SE_A12003_002\n",
      "SE_A12003_003\n",
      "SE_A17002_001\n",
      "SE_A17002_002\n",
      "SE_A17002_003\n",
      "SE_A17002_004\n",
      "SE_A17002_005\n",
      "SE_A17002_006\n",
      "SE_A17002_007\n",
      "SE_A17005_001\n",
      "SE_A17005_002\n",
      "SE_A17005_003\n",
      "SE_A14001_001\n",
      "SE_A14001_002\n",
      "SE_A14001_003\n",
      "SE_A14001_004\n",
      "SE_A14001_005\n",
      "SE_A14001_006\n",
      "SE_A14001_007\n",
      "SE_A14001_008\n",
      "SE_A14001_009\n",
      "SE_A14001_010\n",
      "SE_A14001_011\n",
      "SE_A14001_012\n",
      "SE_A14001_013\n",
      "SE_A14001_014\n",
      "SE_A14001_015\n",
      "SE_A14001_016\n",
      "SE_A14001_017\n",
      "SE_A10026_001\n",
      "SE_A10026_002\n",
      "SE_A10026_003\n",
      "SE_A10026_004\n",
      "SE_A10026_005\n",
      "SE_A10026_006\n",
      "SE_A10026_007\n",
      "SE_A10026_008\n",
      "SE_A10026_009\n",
      "SE_A10026_010\n",
      "SE_A10026_011\n",
      "SE_A10026_012\n",
      "SE_A10026_013\n",
      "SE_A10026_014\n",
      "SE_A10026_015\n",
      "SE_A10026_016\n",
      "SE_A10026_017\n",
      "SE_A10026_018\n",
      "SE_A10026_019\n",
      "SE_A10026_020\n",
      "SE_A10026_021\n",
      "SE_A10026_022\n",
      "SE_A10026_023\n",
      "SE_A14024_001\n",
      "SE_A14028_001\n",
      "SE_A10001_001\n",
      "SE_A10060_001\n",
      "SE_A10060_002\n",
      "SE_A10060_003\n",
      "SE_A10044_001\n",
      "SE_A10044_002\n",
      "SE_A10044_003\n",
      "SE_A10047_001\n",
      "SE_A10047_002\n",
      "SE_A10047_003\n",
      "SE_A10047_004\n",
      "SE_A10035_001\n",
      "SE_A10035_002\n",
      "SE_A10035_003\n",
      "SE_A10035_004\n",
      "SE_A10035_005\n",
      "SE_A10035_006\n",
      "SE_A10035_007\n",
      "SE_A10035_008\n",
      "SE_A10035_009\n",
      "SE_A10035_010\n",
      "SE_A18001_001\n",
      "SE_A18001_002\n",
      "SE_A18001_003\n",
      "SE_A18001_004\n",
      "SE_A18001_005\n",
      "SE_A18001_006\n",
      "SE_A18001_007\n",
      "SE_A18001_008\n",
      "SE_A18001_009\n",
      "SE_A18002_001\n",
      "SE_A18002_002\n",
      "SE_A18002_003\n",
      "SE_A18002_004\n",
      "SE_A18002_005\n",
      "SE_A18002_006\n",
      "SE_A18003_001\n",
      "SE_A18010_001\n",
      "SE_A18010_002\n",
      "SE_A18010_003\n",
      "SE_A18010_004\n",
      "SE_A18010_005\n",
      "SE_A18010_006\n",
      "SE_A18010_007\n",
      "SE_A13004_001\n",
      "SE_A13004_002\n",
      "SE_A13004_003\n",
      "SE_A13004_004\n",
      "SE_A13004_005\n",
      "SE_A13004_006\n",
      "SE_A13004_007\n",
      "SE_A09001_001\n",
      "SE_A09001_002\n",
      "SE_A09001_003\n",
      "SE_A09001_004\n",
      "SE_A09001_005\n",
      "SE_A09001_006\n",
      "SE_A09001_007\n",
      "SE_A09001_008\n",
      "SE_A09001_009\n",
      "SE_A09001_010\n",
      "SE_A08001_001\n",
      "SE_A08001_002\n",
      "SE_A08001_003\n",
      "SE_A08001_004\n",
      "SE_A08001_005\n",
      "SE_A08001_006\n",
      "SE_A08002B_007\n",
      "SE_A08002B_001\n",
      "SE_A08002B_002\n",
      "SE_A08002B_003\n",
      "SE_A08002B_004\n",
      "SE_A08002B_005\n",
      "SE_A08002B_006\n"
     ]
    }
   ],
   "source": [
    "# again, a loooooot of data\n",
    "for ind in demographics.columns:\n",
    "    print(ind)"
   ]
  },
  {
   "cell_type": "code",
   "execution_count": 212,
   "metadata": {},
   "outputs": [
    {
     "data": {
      "text/plain": [
       "<matplotlib.legend.Legend at 0x12319dc8808>"
      ]
     },
     "execution_count": 212,
     "metadata": {},
     "output_type": "execute_result"
    },
    {
     "data": {
      "image/png": "[encoded data removed]",
      "text/plain": [
       "<Figure size 864x432 with 1 Axes>"
      ]
     },
     "metadata": {
      "needs_background": "light"
     },
     "output_type": "display_data"
    }
   ],
   "source": [
    "import matplotlib.pyplot as plt\n",
    "\n",
    "# let's get a histogram\n",
    "zip90001 = zipdemo.loc[(zipdemo['Geo_ZCTA5'] == 90001) | (zipdemo['Geo_ZCTA5'] == 96130)]\n",
    "\n",
    "income_start = zip90001.columns.get_loc('SE_A14001_002')\n",
    "income_end = zip90001.columns.get_loc('SE_A14001_017') + 1\n",
    "brackets = zip90001.iloc[:, income_start:income_end]\n",
    "brackets[\"zips\"] = [\"Los Angeles 90001\", \"Susanville 96130\"]\n",
    "\n",
    "labels = [\"<$10k\",\"$10k to $15k\",\"$15k to $20k\",\"$20k to $25k\",\"$25k to $30k\",\"$30k to $35k\",\"$35k to $40k\",\"$40k to $45k\",\"$45k to $50k\",\"$50k to $60k\",\"$60k to $75k\",\"$75k to $100k\",\"$100k to $125k\",\"$125k to $150k\",\"$150k to $200k\",\"$>200k\"]\n",
    "brackets.plot(kind=\"bar\", x=\"zips\", figsize=(12,6), rot=60).legend(labels)"
   ]
  },
  {
   "cell_type": "markdown",
   "metadata": {},
   "source": [
    "There's a lot to look at in that dataset, but certainly all the key indicators about the zip should give us at least some picture of what the housing market there might look like."
   ]
  },
  {
   "cell_type": "code",
   "execution_count": 215,
   "metadata": {},
   "outputs": [
    {
     "data": {
      "text/plain": [
       "0       90001\n",
       "1       90002\n",
       "2       90003\n",
       "3       90004\n",
       "4       90005\n",
       "        ...  \n",
       "1758    96146\n",
       "1759    96148\n",
       "1760    96150\n",
       "1761    96155\n",
       "1762    96161\n",
       "Name: Geo_ZCTA5, Length: 1763, dtype: int64"
      ]
     },
     "execution_count": 215,
     "metadata": {},
     "output_type": "execute_result"
    }
   ],
   "source": [
    "zipdemo[\"Geo_ZCTA5\"]"
   ]
  }
 ],
 "metadata": {
  "kernelspec": {
   "display_name": "Python 3",
   "language": "python",
   "name": "python3"
  },
  "language_info": {
   "codemirror_mode": {
    "name": "ipython",
    "version": 3
   },
   "file_extension": ".py",
   "mimetype": "text/x-python",
   "name": "python",
   "nbconvert_exporter": "python",
   "pygments_lexer": "ipython3",
   "version": "3.7.6"
  }
 },
 "nbformat": 4,
 "nbformat_minor": 2
}
