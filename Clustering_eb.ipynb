{
 "cells": [
  {
   "cell_type": "markdown",
   "metadata": {},
   "source": [
    "## Clustering and Regressions\n",
    "\n",
    "We have 2 basic data sources:\n",
    "\n",
    "[Merged Sales] - This is sales data by zip code. It came from https://www.redfin.com/news/data-center/ and it's got a lot of stats in there. Most of the data is medians so it doesn't tell us much about the outliers which almost certainly are skewing some of the data pretty heavily. The Price per SQ Foot is one way to see a little bit of how the market is shaped. These are broken out by zip code and month.\n",
    "\n",
    "[2018_demographic data] - This is 2018 demographic info by zip code."
   ]
  },
  {
   "cell_type": "code",
   "execution_count": 9,
   "metadata": {},
   "outputs": [],
   "source": [
    "import pandas as pd\n",
    "import numpy as np\n",
    "import matplotlib.pyplot as plt\n",
    "from sklearn.cluster import KMeans"
   ]
  },
  {
   "cell_type": "markdown",
   "metadata": {},
   "source": [
    "### Import Data\n",
    "#### Demographics"
   ]
  },
  {
   "cell_type": "code",
   "execution_count": 19,
   "metadata": {},
   "outputs": [
    {
     "name": "stdout",
     "output_type": "stream",
     "text": [
      "(33120, 2151)\n"
     ]
    }
   ],
   "source": [
    "demographics = pd.read_csv(\"2018_demographic_data_edited.csv\", delimiter=',')\n",
    "\n",
    "print(demographics.shape) # removed some of the blank columns and columns with strings in excel\n",
    "\n",
    "demo = demographics.fillna(demographics.mean())"
   ]
  },
  {
   "cell_type": "markdown",
   "metadata": {},
   "source": [
    "#### Sales"
   ]
  },
  {
   "cell_type": "code",
   "execution_count": 36,
   "metadata": {},
   "outputs": [
    {
     "data": {
      "text/html": [
       "<div>\n",
       "<style scoped>\n",
       "    .dataframe tbody tr th:only-of-type {\n",
       "        vertical-align: middle;\n",
       "    }\n",
       "\n",
       "    .dataframe tbody tr th {\n",
       "        vertical-align: top;\n",
       "    }\n",
       "\n",
       "    .dataframe thead th {\n",
       "        text-align: right;\n",
       "    }\n",
       "</style>\n",
       "<table border=\"1\" class=\"dataframe\">\n",
       "  <thead>\n",
       "    <tr style=\"text-align: right;\">\n",
       "      <th></th>\n",
       "      <th>zip</th>\n",
       "      <th>Feb-16</th>\n",
       "      <th>Mar-16</th>\n",
       "      <th>Apr-16</th>\n",
       "      <th>May-16</th>\n",
       "      <th>Jun-16</th>\n",
       "      <th>Jul-16</th>\n",
       "      <th>Aug-16</th>\n",
       "      <th>Sep-16</th>\n",
       "      <th>Oct-16</th>\n",
       "      <th>...</th>\n",
       "      <th>Dec-19</th>\n",
       "      <th>Jan-20</th>\n",
       "      <th>Feb-20</th>\n",
       "      <th>Mar-20</th>\n",
       "      <th>Apr-20</th>\n",
       "      <th>May-20</th>\n",
       "      <th>Jun-20</th>\n",
       "      <th>Jul-20</th>\n",
       "      <th>Aug-20</th>\n",
       "      <th>Sep-20</th>\n",
       "    </tr>\n",
       "  </thead>\n",
       "  <tbody>\n",
       "    <tr>\n",
       "      <th>0</th>\n",
       "      <td>501</td>\n",
       "      <td>NaN</td>\n",
       "      <td>NaN</td>\n",
       "      <td>NaN</td>\n",
       "      <td>NaN</td>\n",
       "      <td>NaN</td>\n",
       "      <td>NaN</td>\n",
       "      <td>NaN</td>\n",
       "      <td>NaN</td>\n",
       "      <td>NaN</td>\n",
       "      <td>...</td>\n",
       "      <td>NaN</td>\n",
       "      <td>NaN</td>\n",
       "      <td>NaN</td>\n",
       "      <td>NaN</td>\n",
       "      <td>NaN</td>\n",
       "      <td>NaN</td>\n",
       "      <td>NaN</td>\n",
       "      <td>NaN</td>\n",
       "      <td>NaN</td>\n",
       "      <td>NaN</td>\n",
       "    </tr>\n",
       "    <tr>\n",
       "      <th>1</th>\n",
       "      <td>1005</td>\n",
       "      <td>15.40%</td>\n",
       "      <td>5.70%</td>\n",
       "      <td>-29.70%</td>\n",
       "      <td>-24.00%</td>\n",
       "      <td>33.70%</td>\n",
       "      <td>8.60%</td>\n",
       "      <td>5.70%</td>\n",
       "      <td>-9.10%</td>\n",
       "      <td>-4.10%</td>\n",
       "      <td>...</td>\n",
       "      <td>7.30%</td>\n",
       "      <td>-4.30%</td>\n",
       "      <td>6.30%</td>\n",
       "      <td>-7.90%</td>\n",
       "      <td>2.20%</td>\n",
       "      <td>-4.40%</td>\n",
       "      <td>12.40%</td>\n",
       "      <td>-1.30%</td>\n",
       "      <td>4.50%</td>\n",
       "      <td>1.30%</td>\n",
       "    </tr>\n",
       "    <tr>\n",
       "      <th>2</th>\n",
       "      <td>1010</td>\n",
       "      <td>NaN</td>\n",
       "      <td>NaN</td>\n",
       "      <td>NaN</td>\n",
       "      <td>NaN</td>\n",
       "      <td>NaN</td>\n",
       "      <td>NaN</td>\n",
       "      <td>NaN</td>\n",
       "      <td>NaN</td>\n",
       "      <td>NaN</td>\n",
       "      <td>...</td>\n",
       "      <td>NaN</td>\n",
       "      <td>NaN</td>\n",
       "      <td>NaN</td>\n",
       "      <td>NaN</td>\n",
       "      <td>NaN</td>\n",
       "      <td>NaN</td>\n",
       "      <td>NaN</td>\n",
       "      <td>NaN</td>\n",
       "      <td>NaN</td>\n",
       "      <td>NaN</td>\n",
       "    </tr>\n",
       "    <tr>\n",
       "      <th>3</th>\n",
       "      <td>1031</td>\n",
       "      <td>705.00%</td>\n",
       "      <td>612.00%</td>\n",
       "      <td>-24.60%</td>\n",
       "      <td>-24.60%</td>\n",
       "      <td>-83.20%</td>\n",
       "      <td>-13.70%</td>\n",
       "      <td>-3.30%</td>\n",
       "      <td>-2.00%</td>\n",
       "      <td>27.60%</td>\n",
       "      <td>...</td>\n",
       "      <td>43.90%</td>\n",
       "      <td>-13.80%</td>\n",
       "      <td>70.90%</td>\n",
       "      <td>162.00%</td>\n",
       "      <td>126.90%</td>\n",
       "      <td>-1.00%</td>\n",
       "      <td>-37.80%</td>\n",
       "      <td>-48.30%</td>\n",
       "      <td>-51.10%</td>\n",
       "      <td>681.40%</td>\n",
       "    </tr>\n",
       "    <tr>\n",
       "      <th>4</th>\n",
       "      <td>1037</td>\n",
       "      <td>NaN</td>\n",
       "      <td>NaN</td>\n",
       "      <td>-23.90%</td>\n",
       "      <td>NaN</td>\n",
       "      <td>102.70%</td>\n",
       "      <td>150.40%</td>\n",
       "      <td>150.40%</td>\n",
       "      <td>NaN</td>\n",
       "      <td>NaN</td>\n",
       "      <td>...</td>\n",
       "      <td>NaN</td>\n",
       "      <td>NaN</td>\n",
       "      <td>NaN</td>\n",
       "      <td>NaN</td>\n",
       "      <td>NaN</td>\n",
       "      <td>NaN</td>\n",
       "      <td>NaN</td>\n",
       "      <td>NaN</td>\n",
       "      <td>-24.40%</td>\n",
       "      <td>-14.50%</td>\n",
       "    </tr>\n",
       "  </tbody>\n",
       "</table>\n",
       "<p>5 rows × 57 columns</p>\n",
       "</div>"
      ],
      "text/plain": [
       "    zip   Feb-16   Mar-16   Apr-16   May-16   Jun-16   Jul-16   Aug-16  \\\n",
       "0   501      NaN      NaN      NaN      NaN      NaN      NaN      NaN   \n",
       "1  1005   15.40%    5.70%  -29.70%  -24.00%   33.70%    8.60%    5.70%   \n",
       "2  1010      NaN      NaN      NaN      NaN      NaN      NaN      NaN   \n",
       "3  1031  705.00%  612.00%  -24.60%  -24.60%  -83.20%  -13.70%   -3.30%   \n",
       "4  1037      NaN      NaN  -23.90%      NaN  102.70%  150.40%  150.40%   \n",
       "\n",
       "   Sep-16  Oct-16  ...  Dec-19   Jan-20  Feb-20   Mar-20   Apr-20  May-20  \\\n",
       "0     NaN     NaN  ...     NaN      NaN     NaN      NaN      NaN     NaN   \n",
       "1  -9.10%  -4.10%  ...   7.30%   -4.30%   6.30%   -7.90%    2.20%  -4.40%   \n",
       "2     NaN     NaN  ...     NaN      NaN     NaN      NaN      NaN     NaN   \n",
       "3  -2.00%  27.60%  ...  43.90%  -13.80%  70.90%  162.00%  126.90%  -1.00%   \n",
       "4     NaN     NaN  ...     NaN      NaN     NaN      NaN      NaN     NaN   \n",
       "\n",
       "    Jun-20   Jul-20   Aug-20   Sep-20  \n",
       "0      NaN      NaN      NaN      NaN  \n",
       "1   12.40%   -1.30%    4.50%    1.30%  \n",
       "2      NaN      NaN      NaN      NaN  \n",
       "3  -37.80%  -48.30%  -51.10%  681.40%  \n",
       "4      NaN      NaN  -24.40%  -14.50%  \n",
       "\n",
       "[5 rows x 57 columns]"
      ]
     },
     "execution_count": 36,
     "metadata": {},
     "output_type": "execute_result"
    }
   ],
   "source": [
    "sales = pd.read_csv(\"med_sale_price_yoy.csv\", delimiter=',')\n",
    "sales.rename(columns={\"Zip Code\": \"zip\"}, inplace = True)\n",
    "sales.head()"
   ]
  },
  {
   "cell_type": "markdown",
   "metadata": {},
   "source": [
    "## Clustering Algorithm\n",
    "### K Means\n",
    "#### Run Model"
   ]
  },
  {
   "cell_type": "code",
   "execution_count": 21,
   "metadata": {},
   "outputs": [
    {
     "name": "stdout",
     "output_type": "stream",
     "text": [
      "(6, 2151)\n",
      "[1 3 3 ... 1 1 1]\n"
     ]
    }
   ],
   "source": [
    "km = KMeans(n_clusters=6, init='k-means++')\n",
    "clstrs = km.fit(demo)\n",
    "print (clstrs.cluster_centers_.shape)\n",
    "print (clstrs.labels_)"
   ]
  },
  {
   "cell_type": "markdown",
   "metadata": {},
   "source": [
    "#### Add cluster labels and sales data"
   ]
  },
  {
   "cell_type": "code",
   "execution_count": 31,
   "metadata": {},
   "outputs": [
    {
     "name": "stdout",
     "output_type": "stream",
     "text": [
      "(33120, 2152)\n",
      "(162174, 2173)\n"
     ]
    }
   ],
   "source": [
    "#add the column for clusters\n",
    "demo['cluster'] = clstrs.labels_\n",
    "print(demo.shape)\n",
    "\n",
    "\n",
    "#join the sales data\n",
    "data = demo.set_index('zip').join(sales.set_index('zip'))\n",
    "\n",
    "print(data.shape)"
   ]
  },
  {
   "cell_type": "markdown",
   "metadata": {},
   "source": [
    "#### Separate into groups"
   ]
  },
  {
   "cell_type": "code",
   "execution_count": null,
   "metadata": {},
   "outputs": [],
   "source": []
  },
  {
   "cell_type": "markdown",
   "metadata": {},
   "source": [
    "#### Run Linear Regressions for each Group"
   ]
  },
  {
   "cell_type": "code",
   "execution_count": null,
   "metadata": {},
   "outputs": [],
   "source": []
  }
 ],
 "metadata": {
  "kernelspec": {
   "display_name": "Python 3",
   "language": "python",
   "name": "python3"
  },
  "language_info": {
   "codemirror_mode": {
    "name": "ipython",
    "version": 3
   },
   "file_extension": ".py",
   "mimetype": "text/x-python",
   "name": "python",
   "nbconvert_exporter": "python",
   "pygments_lexer": "ipython3",
   "version": "3.8.3"
  }
 },
 "nbformat": 4,
 "nbformat_minor": 4
}
