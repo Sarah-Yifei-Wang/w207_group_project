{
 "cells": [
  {
   "cell_type": "code",
   "execution_count": 1,
   "metadata": {},
   "outputs": [],
   "source": [
    "import numpy as np\n",
    "\n",
    "from matplotlib import pyplot\n",
    "import matplotlib.pyplot as plt\n",
    "from sklearn.datasets import make_classification\n",
    "from sklearn.cluster import DBSCAN\n",
    "from sklearn import metrics\n",
    "from sklearn.preprocessing import StandardScaler\n",
    "from sklearn.preprocessing import MinMaxScaler\n",
    "\n",
    "import pandas as pd"
   ]
  },
  {
   "cell_type": "code",
   "execution_count": 2,
   "metadata": {},
   "outputs": [
    {
     "name": "stdout",
     "output_type": "stream",
     "text": [
      "(33120, 2151)\n"
     ]
    }
   ],
   "source": [
    "#load dataframe from csv\n",
    "demographics_data = pd.read_csv(\"data/newdata/2018_demographic_data_edited.csv\", delimiter=',')\n",
    "print(demographics_data.shape)\n",
    "demographics_data = demographics_data.drop(columns=[\"Geo_ZCTA5\", \"Geo_ZCTA3\", \"Geo_LOGRECNO\", \"Geo_GEOCOMP\", \"Geo_SUMLEV\"])"
   ]
  },
  {
   "cell_type": "code",
   "execution_count": 3,
   "metadata": {},
   "outputs": [
    {
     "name": "stdout",
     "output_type": "stream",
     "text": [
      "SE_A01004_001      564\n",
      "SE_A01004_002      843\n",
      "SE_A01004_003      897\n",
      "SE_A10003_001      726\n",
      "SE_A10003B_001    2496\n",
      "                  ... \n",
      "SE_A13007_009       35\n",
      "SE_A13007_010       35\n",
      "SE_A13007_011       35\n",
      "SE_A10064_001       35\n",
      "SE_A10064_002       35\n",
      "Length: 870, dtype: int64\n"
     ]
    }
   ],
   "source": [
    "null_counts = demographics_data.isnull().sum()\n",
    "print(null_counts[null_counts > 0])"
   ]
  },
  {
   "cell_type": "code",
   "execution_count": 4,
   "metadata": {},
   "outputs": [],
   "source": [
    "# drop any column with missing values greater than 5%\n",
    "demographics_data.drop(columns=[\"SE_A18007_006\",\"SE_A18007_007\",\"SE_A18007_005\",\"SE_A18007_004\",\n",
    "                     \"SE_A18007_003\",\"SE_A18007_002\",\"SE_A18008_011\",\n",
    "                     \"SE_A18008_010\",\"SE_A18008_009\",\"SE_A18010_002\",\n",
    "                     \"SE_A18010_003\",\"SE_A18010_004\",\"SE_A18010_005\",\n",
    "                     \"SE_A18010_006\",\"SE_A18010_007\",\"SE_A18008_001\",\"SE_A18008_002\",\n",
    "                     \"SE_A18008_003\",\"SE_A18008_008\",\"SE_A18008_007\",\"SE_A18008_006\",\"SE_A18008_005\",\n",
    "                     \"SE_A18008_004\"], axis=1, inplace=True)"
   ]
  },
  {
   "cell_type": "code",
   "execution_count": 47,
   "metadata": {},
   "outputs": [],
   "source": [
    "reduced_demos = demographics_data[[\"SE_A00002_002\", \"SE_A14028_001\", \"SE_A14011_001\", \"SE_A14008_001\", \"SE_B10040_002\", \"SE_B10040_003\"]]"
   ]
  },
  {
   "cell_type": "code",
   "execution_count": 352,
   "metadata": {},
   "outputs": [
    {
     "name": "stdout",
     "output_type": "stream",
     "text": [
      "Series([], dtype: int64)\n",
      "(30450, 6)\n"
     ]
    }
   ],
   "source": [
    "null_counts = reduced_demos.isnull().sum()\n",
    "print(null_counts[null_counts > 0])\n",
    "# reduced_demos = reduced_demos.dropna()\n",
    "print(reduced_demos.shape)\n",
    "reduced_demos = MinMaxScaler().fit_transform(reduced_demos)"
   ]
  },
  {
   "cell_type": "markdown",
   "metadata": {},
   "source": [
    "What does MinMaxScaler Scaler do to our data?"
   ]
  },
  {
   "cell_type": "code",
   "execution_count": 353,
   "metadata": {},
   "outputs": [
    {
     "name": "stdout",
     "output_type": "stream",
     "text": [
      "[[0.00000000e+00 5.96827262e-01 1.33404604e-02 5.31552611e-03\n",
      "  1.15684897e-01 3.71390621e-01]\n",
      " [1.00676546e-05 5.72855464e-01 2.60706254e-02 6.47371025e-03\n",
      "  8.56184512e-02 1.98953996e-01]\n",
      " [2.01353093e-05 6.47121034e-01 3.27100321e-02 4.66711518e-03\n",
      "  1.08074472e-01 3.53363194e-01]\n",
      " [5.03382732e-05 5.47473561e-01 9.28144512e-03 6.62659364e-03\n",
      "  1.38496648e-01 1.96948845e-01]\n",
      " [9.06088918e-05 5.32314924e-01 3.06754736e-02 7.07829024e-03\n",
      "  8.03188582e-02 1.76877240e-01]]\n"
     ]
    }
   ],
   "source": [
    "print(reduced_demos[0:5])"
   ]
  },
  {
   "cell_type": "code",
   "execution_count": 351,
   "metadata": {},
   "outputs": [
    {
     "data": {
      "image/png": "[encoded data removed]",
      "text/plain": [
       "<Figure size 432x288 with 2 Axes>"
      ]
     },
     "metadata": {
      "needs_background": "light"
     },
     "output_type": "display_data"
    }
   ],
   "source": [
    "fig, axs = plt.subplots(1, 2, sharey=True, tight_layout=True)\n",
    "\n",
    "n_bins = 30\n",
    "\n",
    "# We can set the number of bins with the `bins` kwarg\n",
    "axs[0].hist(reduced_demos[\"SE_A14028_001\"], bins=n_bins)\n",
    "axs[1].hist(reduced_demos[\"SE_A14011_001\"], bins=n_bins)\n",
    "plt.show()"
   ]
  },
  {
   "cell_type": "markdown",
   "metadata": {},
   "source": [
    "How does our best DBSCAN approach look?"
   ]
  },
  {
   "cell_type": "markdown",
   "metadata": {},
   "source": [
    "Ok, maybe all along we've been picking bad datapoints to look at, lets just Gini index, Average household income, and rent as a percentage of income."
   ]
  },
  {
   "cell_type": "code",
   "execution_count": 257,
   "metadata": {},
   "outputs": [
    {
     "name": "stderr",
     "output_type": "stream",
     "text": [
      "C:\\Users\\winbase\\Anaconda3\\envs\\mids\\lib\\site-packages\\ipykernel_launcher.py:3: SettingWithCopyWarning: \n",
      "A value is trying to be set on a copy of a slice from a DataFrame.\n",
      "Try using .loc[row_indexer,col_indexer] = value instead\n",
      "\n",
      "See the caveats in the documentation: https://pandas.pydata.org/pandas-docs/stable/user_guide/indexing.html#returning-a-view-versus-a-copy\n",
      "  This is separate from the ipykernel package so we can avoid doing imports until\n",
      "C:\\Users\\winbase\\Anaconda3\\envs\\mids\\lib\\site-packages\\ipykernel_launcher.py:4: SettingWithCopyWarning: \n",
      "A value is trying to be set on a copy of a slice from a DataFrame.\n",
      "Try using .loc[row_indexer,col_indexer] = value instead\n",
      "\n",
      "See the caveats in the documentation: https://pandas.pydata.org/pandas-docs/stable/user_guide/indexing.html#returning-a-view-versus-a-copy\n",
      "  after removing the cwd from sys.path.\n",
      "C:\\Users\\winbase\\Anaconda3\\envs\\mids\\lib\\site-packages\\ipykernel_launcher.py:5: SettingWithCopyWarning: \n",
      "A value is trying to be set on a copy of a slice from a DataFrame.\n",
      "Try using .loc[row_indexer,col_indexer] = value instead\n",
      "\n",
      "See the caveats in the documentation: https://pandas.pydata.org/pandas-docs/stable/user_guide/indexing.html#returning-a-view-versus-a-copy\n",
      "  \"\"\"\n"
     ]
    },
    {
     "name": "stdout",
     "output_type": "stream",
     "text": [
      "SE_A14028_001           948\n",
      "SE_A14011_001          1662\n",
      "vacancy_rate            490\n",
      "income_to_homevalue    2670\n",
      "renters_pct             490\n",
      "dtype: int64\n",
      "(30450, 6)\n",
      " clusters:  155  and noise points  2913 , noise as :  0.09566502463054187\n"
     ]
    },
    {
     "data": {
      "image/png": "[encoded data removed]",
      "text/plain": [
       "<Figure size 432x288 with 1 Axes>"
      ]
     },
     "metadata": {
      "needs_background": "light"
     },
     "output_type": "display_data"
    }
   ],
   "source": [
    "\n",
    "# just gini index and average household income\n",
    "reduced_demos = demographics_data[[\"zip\", \"SE_A14028_001\", \"SE_A14011_001\"]]\n",
    "reduced_demos[\"vacancy_rate\"] = demographics_data[\"SE_A10001_001\"].divide(demographics_data[\"SE_A10044_002\"])\n",
    "reduced_demos[\"income_to_homevalue\"] = demographics_data[\"SE_A10036_001\"].divide(demographics_data[\"SE_A14011_001\"])\n",
    "reduced_demos[\"renters_pct\"] = demographics_data[\"SE_A10060_003\"].divide(demographics_data[\"SE_A10001_001\"])\n",
    "\n",
    "null_counts = reduced_demos.isnull().sum()\n",
    "print(null_counts[null_counts > 0])\n",
    "reduced_demos = reduced_demos.dropna()\n",
    "print(reduced_demos.shape)\n",
    "#reduced_demos = StandardScaler().fit_transform(reduced_demos)\n",
    "\n",
    "reduced_demos_no_zip = reduced_demos.drop(\"zip\", axis=1)\n",
    "\n",
    "clusterer = hdbscan.HDBSCAN(min_cluster_size=100, min_samples=3, cluster_selection_method='leaf')\n",
    "clusterer.fit(reduced_demos_no_zip)\n",
    "\n",
    "labels = clusterer.labels_\n",
    "unique_labels = set(labels)\n",
    "print( \" clusters: \", len(unique_labels), \" and noise points \", (labels == -1).sum(), \", noise as : \", (labels == -1).sum()/len(labels))\n",
    "\n",
    "label_sum = []\n",
    "\n",
    "for k in unique_labels:\n",
    "    label_sum.append((labels == k).sum())\n",
    "    \n",
    "non_noise = labels[labels != -1]\n",
    "\n",
    "plt.hist(non_noise, bins=len(unique_labels)-1)\n",
    "plt.show()"
   ]
  },
  {
   "cell_type": "code",
   "execution_count": 258,
   "metadata": {},
   "outputs": [
    {
     "name": "stderr",
     "output_type": "stream",
     "text": [
      "C:\\Users\\winbase\\Anaconda3\\envs\\mids\\lib\\site-packages\\ipykernel_launcher.py:2: SettingWithCopyWarning: \n",
      "A value is trying to be set on a copy of a slice from a DataFrame.\n",
      "Try using .loc[row_indexer,col_indexer] = value instead\n",
      "\n",
      "See the caveats in the documentation: https://pandas.pydata.org/pandas-docs/stable/user_guide/indexing.html#returning-a-view-versus-a-copy\n",
      "  \n"
     ]
    },
    {
     "data": {
      "text/html": [
       "<div>\n",
       "<style scoped>\n",
       "    .dataframe tbody tr th:only-of-type {\n",
       "        vertical-align: middle;\n",
       "    }\n",
       "\n",
       "    .dataframe tbody tr th {\n",
       "        vertical-align: top;\n",
       "    }\n",
       "\n",
       "    .dataframe thead th {\n",
       "        text-align: right;\n",
       "    }\n",
       "</style>\n",
       "<table border=\"1\" class=\"dataframe\">\n",
       "  <thead>\n",
       "    <tr style=\"text-align: right;\">\n",
       "      <th></th>\n",
       "      <th>zip</th>\n",
       "      <th>cluster</th>\n",
       "    </tr>\n",
       "  </thead>\n",
       "  <tbody>\n",
       "    <tr>\n",
       "      <th>0</th>\n",
       "      <td>601</td>\n",
       "      <td>-1</td>\n",
       "    </tr>\n",
       "    <tr>\n",
       "      <th>1</th>\n",
       "      <td>602</td>\n",
       "      <td>-1</td>\n",
       "    </tr>\n",
       "    <tr>\n",
       "      <th>2</th>\n",
       "      <td>603</td>\n",
       "      <td>10</td>\n",
       "    </tr>\n",
       "    <tr>\n",
       "      <th>3</th>\n",
       "      <td>606</td>\n",
       "      <td>-1</td>\n",
       "    </tr>\n",
       "    <tr>\n",
       "      <th>4</th>\n",
       "      <td>610</td>\n",
       "      <td>-1</td>\n",
       "    </tr>\n",
       "  </tbody>\n",
       "</table>\n",
       "</div>"
      ],
      "text/plain": [
       "   zip  cluster\n",
       "0  601       -1\n",
       "1  602       -1\n",
       "2  603       10\n",
       "3  606       -1\n",
       "4  610       -1"
      ]
     },
     "execution_count": 258,
     "metadata": {},
     "output_type": "execute_result"
    }
   ],
   "source": [
    "clusters = reduced_demos[['zip']]\n",
    "clusters[\"cluster\"] = labels\n",
    "clusters.head()"
   ]
  },
  {
   "cell_type": "markdown",
   "metadata": {},
   "source": [
    "So using just those statistics we can get some pretty reasonable clusters. Now let's join those up with the sales data."
   ]
  },
  {
   "cell_type": "code",
   "execution_count": 259,
   "metadata": {},
   "outputs": [
    {
     "name": "stdout",
     "output_type": "stream",
     "text": [
      "    zip February 2016 March 2016 April 2016 May 2016 June 2016 July 2016  \\\n",
      "0   501             0          0          0        0         0         0   \n",
      "1  1005         15.4%       5.7%     -29.7%   -24.0%     33.7%      8.6%   \n",
      "2  1010             0          0          0        0         0         0   \n",
      "3  1031        705.0%     612.0%     -24.6%   -24.6%    -83.2%    -13.7%   \n",
      "4  1037             0          0     -23.9%        0    102.7%    150.4%   \n",
      "\n",
      "  August 2016 September 2016 October 2016  ... December 2019 January 2020  \\\n",
      "0           0              0            0  ...             0            0   \n",
      "1        5.7%          -9.1%        -4.1%  ...          7.3%        -4.3%   \n",
      "2           0              0            0  ...             0            0   \n",
      "3       -3.3%          -2.0%        27.6%  ...         43.9%       -13.8%   \n",
      "4      150.4%              0            0  ...             0            0   \n",
      "\n",
      "  February 2020 March 2020 April 2020 May 2020 June 2020 July 2020  \\\n",
      "0             0          0          0        0         0         0   \n",
      "1          6.3%      -7.9%       2.2%    -4.4%     12.4%     -1.3%   \n",
      "2             0          0          0        0         0         0   \n",
      "3         70.9%     162.0%     126.9%    -1.0%    -37.8%    -48.3%   \n",
      "4             0          0          0        0         0         0   \n",
      "\n",
      "  August 2020 September 2020  \n",
      "0           0              0  \n",
      "1        4.5%           1.3%  \n",
      "2           0              0  \n",
      "3      -51.1%         681.4%  \n",
      "4      -24.4%         -14.5%  \n",
      "\n",
      "[5 rows x 57 columns]\n"
     ]
    }
   ],
   "source": [
    "sales_data = pd.read_csv(\"data/newdata/med_sale_price_yoy.csv\", delimiter=\"\t\")\n",
    "sales_data.index = sales_data.index.astype(int)\n",
    "sales_data = sales_data.rename(columns={\"Region\":\"zip\"})\n",
    "sales_data = sales_data.fillna(0)\n",
    "print(sales_data.head())"
   ]
  },
  {
   "cell_type": "code",
   "execution_count": 260,
   "metadata": {},
   "outputs": [
    {
     "data": {
      "text/html": [
       "<div>\n",
       "<style scoped>\n",
       "    .dataframe tbody tr th:only-of-type {\n",
       "        vertical-align: middle;\n",
       "    }\n",
       "\n",
       "    .dataframe tbody tr th {\n",
       "        vertical-align: top;\n",
       "    }\n",
       "\n",
       "    .dataframe thead th {\n",
       "        text-align: right;\n",
       "    }\n",
       "</style>\n",
       "<table border=\"1\" class=\"dataframe\">\n",
       "  <thead>\n",
       "    <tr style=\"text-align: right;\">\n",
       "      <th></th>\n",
       "      <th>zip</th>\n",
       "      <th>January 2020</th>\n",
       "      <th>cluster</th>\n",
       "    </tr>\n",
       "  </thead>\n",
       "  <tbody>\n",
       "    <tr>\n",
       "      <th>0</th>\n",
       "      <td>1005</td>\n",
       "      <td>-4.3</td>\n",
       "      <td>33</td>\n",
       "    </tr>\n",
       "    <tr>\n",
       "      <th>1</th>\n",
       "      <td>1010</td>\n",
       "      <td>0</td>\n",
       "      <td>29</td>\n",
       "    </tr>\n",
       "    <tr>\n",
       "      <th>2</th>\n",
       "      <td>1031</td>\n",
       "      <td>-13.8</td>\n",
       "      <td>68</td>\n",
       "    </tr>\n",
       "    <tr>\n",
       "      <th>3</th>\n",
       "      <td>1037</td>\n",
       "      <td>0</td>\n",
       "      <td>17</td>\n",
       "    </tr>\n",
       "    <tr>\n",
       "      <th>4</th>\n",
       "      <td>1057</td>\n",
       "      <td>0</td>\n",
       "      <td>29</td>\n",
       "    </tr>\n",
       "  </tbody>\n",
       "</table>\n",
       "</div>"
      ],
      "text/plain": [
       "    zip January 2020  cluster\n",
       "0  1005         -4.3       33\n",
       "1  1010            0       29\n",
       "2  1031        -13.8       68\n",
       "3  1037            0       17\n",
       "4  1057            0       29"
      ]
     },
     "execution_count": 260,
     "metadata": {},
     "output_type": "execute_result"
    }
   ],
   "source": [
    "Jan2020_sales = sales_data[['zip','January 2020']]\n",
    "Jan2020_sales = Jan2020_sales.merge(clusters, on=\"zip\")\n",
    "Jan2020_sales[\"January 2020\"] = Jan2020_sales[\"January 2020\"].str.replace(r'%', r'')\n",
    "Jan2020_sales = Jan2020_sales.fillna(0)\n",
    "Jan2020_sales.head()"
   ]
  },
  {
   "cell_type": "code",
   "execution_count": 261,
   "metadata": {},
   "outputs": [
    {
     "data": {
      "text/plain": [
       "<matplotlib.collections.PathCollection at 0x253f4aa1c88>"
      ]
     },
     "execution_count": 261,
     "metadata": {},
     "output_type": "execute_result"
    },
    {
     "data": {
      "image/png": "[encoded data removed]",
      "text/plain": [
       "<Figure size 1080x720 with 1 Axes>"
      ]
     },
     "metadata": {
      "needs_background": "light"
     },
     "output_type": "display_data"
    }
   ],
   "source": [
    "#colors = np.random.rand(N)\n",
    "fig, ax = plt.subplots(figsize=(15, 10))\n",
    "ax.scatter( Jan2020_sales[\"cluster\"].astype(int), Jan2020_sales[\"January 2020\"].astype(float), alpha=0.5)"
   ]
  },
  {
   "cell_type": "markdown",
   "metadata": {},
   "source": [
    "Let's get the standard deviation of each cluster and see what happens"
   ]
  },
  {
   "cell_type": "code",
   "execution_count": 262,
   "metadata": {
    "scrolled": true
   },
   "outputs": [
    {
     "data": {
      "text/plain": [
       "<matplotlib.collections.PathCollection at 0x25385294e48>"
      ]
     },
     "execution_count": 262,
     "metadata": {},
     "output_type": "execute_result"
    },
    {
     "data": {
      "image/png": "[encoded data removed]",
      "text/plain": [
       "<Figure size 1080x432 with 1 Axes>"
      ]
     },
     "metadata": {
      "needs_background": "light"
     },
     "output_type": "display_data"
    }
   ],
   "source": [
    "\n",
    "med_yoy_by_cluster = []\n",
    "\n",
    "for cluster in np.unique(Jan2020_sales[\"cluster\"]):\n",
    "    sub = Jan2020_sales[Jan2020_sales.cluster == cluster]\n",
    "    med_yoy_by_cluster.append(sub[\"January 2020\"].astype(float).std())\n",
    "\n",
    "\n",
    "fig, ax = plt.subplots(figsize=(15, 6))\n",
    "ax.scatter( np.unique(Jan2020_sales[\"cluster\"]), med_yoy_by_cluster, alpha=0.5)"
   ]
  },
  {
   "cell_type": "markdown",
   "metadata": {},
   "source": [
    "## Now to the regression part:\n",
    "\n",
    "\n",
    "First off, we'll make our joined data"
   ]
  },
  {
   "cell_type": "code",
   "execution_count": 263,
   "metadata": {},
   "outputs": [
    {
     "name": "stdout",
     "output_type": "stream",
     "text": [
      "(14616, 57)\n"
     ]
    },
    {
     "data": {
      "text/html": [
       "<div>\n",
       "<style scoped>\n",
       "    .dataframe tbody tr th:only-of-type {\n",
       "        vertical-align: middle;\n",
       "    }\n",
       "\n",
       "    .dataframe tbody tr th {\n",
       "        vertical-align: top;\n",
       "    }\n",
       "\n",
       "    .dataframe thead th {\n",
       "        text-align: right;\n",
       "    }\n",
       "</style>\n",
       "<table border=\"1\" class=\"dataframe\">\n",
       "  <thead>\n",
       "    <tr style=\"text-align: right;\">\n",
       "      <th></th>\n",
       "      <th>cluster</th>\n",
       "      <th>February 2016</th>\n",
       "      <th>March 2016</th>\n",
       "      <th>April 2016</th>\n",
       "      <th>May 2016</th>\n",
       "      <th>June 2016</th>\n",
       "      <th>July 2016</th>\n",
       "      <th>August 2016</th>\n",
       "      <th>September 2016</th>\n",
       "      <th>October 2016</th>\n",
       "      <th>...</th>\n",
       "      <th>December 2019</th>\n",
       "      <th>January 2020</th>\n",
       "      <th>February 2020</th>\n",
       "      <th>March 2020</th>\n",
       "      <th>April 2020</th>\n",
       "      <th>May 2020</th>\n",
       "      <th>June 2020</th>\n",
       "      <th>July 2020</th>\n",
       "      <th>August 2020</th>\n",
       "      <th>September 2020</th>\n",
       "    </tr>\n",
       "    <tr>\n",
       "      <th>zip</th>\n",
       "      <th></th>\n",
       "      <th></th>\n",
       "      <th></th>\n",
       "      <th></th>\n",
       "      <th></th>\n",
       "      <th></th>\n",
       "      <th></th>\n",
       "      <th></th>\n",
       "      <th></th>\n",
       "      <th></th>\n",
       "      <th></th>\n",
       "      <th></th>\n",
       "      <th></th>\n",
       "      <th></th>\n",
       "      <th></th>\n",
       "      <th></th>\n",
       "      <th></th>\n",
       "      <th></th>\n",
       "      <th></th>\n",
       "      <th></th>\n",
       "      <th></th>\n",
       "    </tr>\n",
       "  </thead>\n",
       "  <tbody>\n",
       "    <tr>\n",
       "      <th>1005</th>\n",
       "      <td>33.0</td>\n",
       "      <td>15.4%</td>\n",
       "      <td>5.7%</td>\n",
       "      <td>-29.7%</td>\n",
       "      <td>-24.0%</td>\n",
       "      <td>33.7%</td>\n",
       "      <td>8.6%</td>\n",
       "      <td>5.7%</td>\n",
       "      <td>-9.1%</td>\n",
       "      <td>-4.1%</td>\n",
       "      <td>...</td>\n",
       "      <td>7.3%</td>\n",
       "      <td>-4.3%</td>\n",
       "      <td>6.3%</td>\n",
       "      <td>-7.9%</td>\n",
       "      <td>2.2%</td>\n",
       "      <td>-4.4%</td>\n",
       "      <td>12.4%</td>\n",
       "      <td>-1.3%</td>\n",
       "      <td>4.5%</td>\n",
       "      <td>1.3%</td>\n",
       "    </tr>\n",
       "    <tr>\n",
       "      <th>1010</th>\n",
       "      <td>29.0</td>\n",
       "      <td>0</td>\n",
       "      <td>0</td>\n",
       "      <td>0</td>\n",
       "      <td>0</td>\n",
       "      <td>0</td>\n",
       "      <td>0</td>\n",
       "      <td>0</td>\n",
       "      <td>0</td>\n",
       "      <td>0</td>\n",
       "      <td>...</td>\n",
       "      <td>0</td>\n",
       "      <td>0</td>\n",
       "      <td>0</td>\n",
       "      <td>0</td>\n",
       "      <td>0</td>\n",
       "      <td>0</td>\n",
       "      <td>0</td>\n",
       "      <td>0</td>\n",
       "      <td>0</td>\n",
       "      <td>0</td>\n",
       "    </tr>\n",
       "    <tr>\n",
       "      <th>1031</th>\n",
       "      <td>68.0</td>\n",
       "      <td>705.0%</td>\n",
       "      <td>612.0%</td>\n",
       "      <td>-24.6%</td>\n",
       "      <td>-24.6%</td>\n",
       "      <td>-83.2%</td>\n",
       "      <td>-13.7%</td>\n",
       "      <td>-3.3%</td>\n",
       "      <td>-2.0%</td>\n",
       "      <td>27.6%</td>\n",
       "      <td>...</td>\n",
       "      <td>43.9%</td>\n",
       "      <td>-13.8%</td>\n",
       "      <td>70.9%</td>\n",
       "      <td>162.0%</td>\n",
       "      <td>126.9%</td>\n",
       "      <td>-1.0%</td>\n",
       "      <td>-37.8%</td>\n",
       "      <td>-48.3%</td>\n",
       "      <td>-51.1%</td>\n",
       "      <td>681.4%</td>\n",
       "    </tr>\n",
       "    <tr>\n",
       "      <th>1037</th>\n",
       "      <td>17.0</td>\n",
       "      <td>0</td>\n",
       "      <td>0</td>\n",
       "      <td>-23.9%</td>\n",
       "      <td>0</td>\n",
       "      <td>102.7%</td>\n",
       "      <td>150.4%</td>\n",
       "      <td>150.4%</td>\n",
       "      <td>0</td>\n",
       "      <td>0</td>\n",
       "      <td>...</td>\n",
       "      <td>0</td>\n",
       "      <td>0</td>\n",
       "      <td>0</td>\n",
       "      <td>0</td>\n",
       "      <td>0</td>\n",
       "      <td>0</td>\n",
       "      <td>0</td>\n",
       "      <td>0</td>\n",
       "      <td>-24.4%</td>\n",
       "      <td>-14.5%</td>\n",
       "    </tr>\n",
       "    <tr>\n",
       "      <th>1057</th>\n",
       "      <td>29.0</td>\n",
       "      <td>0</td>\n",
       "      <td>0</td>\n",
       "      <td>0</td>\n",
       "      <td>0</td>\n",
       "      <td>0</td>\n",
       "      <td>0</td>\n",
       "      <td>0</td>\n",
       "      <td>0</td>\n",
       "      <td>0</td>\n",
       "      <td>...</td>\n",
       "      <td>0</td>\n",
       "      <td>0</td>\n",
       "      <td>0</td>\n",
       "      <td>0</td>\n",
       "      <td>0</td>\n",
       "      <td>0</td>\n",
       "      <td>0</td>\n",
       "      <td>0</td>\n",
       "      <td>0</td>\n",
       "      <td>0</td>\n",
       "    </tr>\n",
       "  </tbody>\n",
       "</table>\n",
       "<p>5 rows × 57 columns</p>\n",
       "</div>"
      ],
      "text/plain": [
       "      cluster February 2016 March 2016 April 2016 May 2016 June 2016  \\\n",
       "zip                                                                    \n",
       "1005     33.0         15.4%       5.7%     -29.7%   -24.0%     33.7%   \n",
       "1010     29.0             0          0          0        0         0   \n",
       "1031     68.0        705.0%     612.0%     -24.6%   -24.6%    -83.2%   \n",
       "1037     17.0             0          0     -23.9%        0    102.7%   \n",
       "1057     29.0             0          0          0        0         0   \n",
       "\n",
       "     July 2016 August 2016 September 2016 October 2016  ... December 2019  \\\n",
       "zip                                                     ...                 \n",
       "1005      8.6%        5.7%          -9.1%        -4.1%  ...          7.3%   \n",
       "1010         0           0              0            0  ...             0   \n",
       "1031    -13.7%       -3.3%          -2.0%        27.6%  ...         43.9%   \n",
       "1037    150.4%      150.4%              0            0  ...             0   \n",
       "1057         0           0              0            0  ...             0   \n",
       "\n",
       "     January 2020 February 2020 March 2020 April 2020 May 2020 June 2020  \\\n",
       "zip                                                                        \n",
       "1005        -4.3%          6.3%      -7.9%       2.2%    -4.4%     12.4%   \n",
       "1010            0             0          0          0        0         0   \n",
       "1031       -13.8%         70.9%     162.0%     126.9%    -1.0%    -37.8%   \n",
       "1037            0             0          0          0        0         0   \n",
       "1057            0             0          0          0        0         0   \n",
       "\n",
       "     July 2020 August 2020 September 2020  \n",
       "zip                                        \n",
       "1005     -1.3%        4.5%           1.3%  \n",
       "1010         0           0              0  \n",
       "1031    -48.3%      -51.1%         681.4%  \n",
       "1037         0      -24.4%         -14.5%  \n",
       "1057         0           0              0  \n",
       "\n",
       "[5 rows x 57 columns]"
      ]
     },
     "execution_count": 263,
     "metadata": {},
     "output_type": "execute_result"
    }
   ],
   "source": [
    "#join the sales data (has less zip codes, so right join)\n",
    "joined_sales_data = clusters.set_index('zip').join(sales_data.set_index('zip'), how ='right')\n",
    "\n",
    "# we still get NaN clusters, so let's drop those\n",
    "joined_sales_data = joined_sales_data.dropna()\n",
    "joined_sales_data = joined_sales_data.replace(np.nan,0)\n",
    "print(joined_sales_data.shape)\n",
    "joined_sales_data.head()\n"
   ]
  },
  {
   "cell_type": "markdown",
   "metadata": {},
   "source": [
    " Now let's get a training and a test set so we can evaluate what's happening. I think we can put most of our data in the "
   ]
  },
  {
   "cell_type": "code",
   "execution_count": 269,
   "metadata": {},
   "outputs": [],
   "source": [
    "# get 5% of the rows to save for testing\n",
    "joined_sales_data_test = joined_sales_data.sample(frac=0.05) \n",
    "\n",
    "# get 95% of the rows for training\n",
    "joined_sales_data_train = joined_sales_data.drop(joined_sales_data_test.index) \n"
   ]
  },
  {
   "cell_type": "code",
   "execution_count": 301,
   "metadata": {},
   "outputs": [
    {
     "name": "stdout",
     "output_type": "stream",
     "text": [
      "       cluster February 2016 March 2016 April 2016 May 2016 June 2016  \\\n",
      "zip                                                                     \n",
      "89178     36.0          4.9%       9.9%       9.3%    12.6%     11.8%   \n",
      "37221     21.0         13.2%      12.7%      10.4%     8.8%      4.7%   \n",
      "15628     97.0             0          0          0        0         0   \n",
      "33880    117.0         11.4%      25.2%      23.5%    45.3%     27.4%   \n",
      "33444     -1.0          6.6%      -7.0%     -11.8%    13.2%     25.7%   \n",
      "\n",
      "      July 2016 August 2016 September 2016 October 2016  ... December 2019  \\\n",
      "zip                                                      ...                 \n",
      "89178     10.7%        9.6%           8.9%         5.7%  ...          3.6%   \n",
      "37221      6.4%        5.0%           5.2%         4.0%  ...          6.2%   \n",
      "15628         0           0              0            0  ...             0   \n",
      "33880     23.2%       19.5%           6.7%        13.4%  ...          5.6%   \n",
      "33444      9.8%       -1.9%          -9.3%         1.5%  ...         61.2%   \n",
      "\n",
      "      January 2020 February 2020 March 2020 April 2020 May 2020 June 2020  \\\n",
      "zip                                                                         \n",
      "89178        -0.7%         -1.1%       1.1%       7.6%     9.6%      9.9%   \n",
      "37221         9.0%          2.0%       8.7%       6.2%     6.2%      6.6%   \n",
      "15628            0             0          0          0        0         0   \n",
      "33880         6.3%         13.2%      12.2%       8.3%     4.6%     -2.7%   \n",
      "33444        43.3%         20.7%      15.3%      29.3%    27.5%     13.4%   \n",
      "\n",
      "      July 2020 August 2020 September 2020  \n",
      "zip                                         \n",
      "89178      7.5%        5.4%           3.1%  \n",
      "37221      7.6%       10.8%          12.7%  \n",
      "15628         0           0              0  \n",
      "33880      0.6%       -1.1%           3.9%  \n",
      "33444     28.5%       11.4%           8.2%  \n",
      "\n",
      "[5 rows x 57 columns]\n"
     ]
    }
   ],
   "source": [
    "print(joined_sales_data_test.head())"
   ]
  },
  {
   "cell_type": "code",
   "execution_count": 328,
   "metadata": {},
   "outputs": [],
   "source": [
    "\n",
    "from sklearn import linear_model\n",
    "\n",
    "#copied from emily\n",
    "def cluster_regression( regression_data, cluster_index ):\n",
    "#     print('cluster_index ', cluster_index)\n",
    "    clust0 = regression_data[regression_data['cluster']==cluster_index]\n",
    "#     print(clust0.shape)\n",
    "    clust0 = clust0.drop(columns=['cluster'])\n",
    "    clust0_melt = pd.melt(clust0.reset_index(), id_vars=['zip'], value_vars=list(clust0.columns), var_name='date', value_name='yoy')\n",
    "#     print(clust0_melt.shape)\n",
    "    clust0 = clust0_melt.dropna()\n",
    "    clust0.reset_index(drop=True, inplace=True)\n",
    "    clust0['parsed_date'] = pd.to_datetime(clust0.loc[:,'date'], infer_datetime_format=True)\n",
    "    clust0['days_from_start'] = clust0.loc[:,'parsed_date'] - clust0.loc[0, 'parsed_date']\n",
    "    if('%' in str(clust0['yoy'].any())):\n",
    "        clust0['yoy'] = clust0['yoy'].str.replace(r'%', r'')\n",
    "        clust0['yoy'] = pd.to_numeric(clust0[\"yoy\"], downcast=\"float\")\n",
    "    clust0 = clust0.replace(np.nan,0) #sometimes removing the '%' gets weird\n",
    "#     print(clust0.shape)\n",
    "#     print(clust0.head(-10))\n",
    "    \n",
    "    x = clust0['days_from_start'].values\n",
    "    y = clust0['yoy'].values\n",
    "    x = x.reshape(-1, 1)\n",
    "\n",
    "    model = linear_model.LinearRegression().fit(x, y)\n",
    "    return model\n",
    "\n",
    "    # The coefficients\n",
    "    #print('Coefficients: \\n', model.coef_)\n",
    "    \n",
    "    \n",
    "# not sure if this is possible :(\n",
    "def cluster_regression_all_clusters( regression_data ):\n",
    "    \n",
    "    # is there a way to have our x be:\n",
    "    for cl in np.unique(joined_sales_data[\"cluster\"]):\n",
    "        x = [clust0['days_from_start'].values, clust0['yoy'].values]\n",
    "        y = cl\n",
    "\n",
    "    "
   ]
  },
  {
   "cell_type": "markdown",
   "metadata": {},
   "source": [
    "Now we make a Linear Regresion model for each cluster"
   ]
  },
  {
   "cell_type": "code",
   "execution_count": 329,
   "metadata": {},
   "outputs": [],
   "source": [
    "clusters_and_models = []\n",
    "\n",
    "for cl in np.unique(joined_sales_data_train[\"cluster\"]):\n",
    "    clusters_and_models.append([cl, cluster_regression(joined_sales_data_train, cl)])"
   ]
  },
  {
   "cell_type": "markdown",
   "metadata": {},
   "source": [
    "Now some way of checking which of our generated linear models is closest to the linear model of another member of the clusters\n"
   ]
  },
  {
   "cell_type": "code",
   "execution_count": 330,
   "metadata": {},
   "outputs": [
    {
     "name": "stdout",
     "output_type": "stream",
     "text": [
      "[-2.20984459e-17] 7.740011290676983 [3.41027737e+18]\n"
     ]
    }
   ],
   "source": [
    "# what do we know about the model?\n",
    "which_model = 3\n",
    "print(clusters_and_models[which_model][1].coef_, clusters_and_models[which_model][1].intercept_, clusters_and_models[which_model][1].singular_)"
   ]
  },
  {
   "cell_type": "code",
   "execution_count": 337,
   "metadata": {},
   "outputs": [
    {
     "name": "stderr",
     "output_type": "stream",
     "text": [
      "C:\\Users\\winbase\\Anaconda3\\envs\\mids\\lib\\site-packages\\numpy\\core\\_asarray.py:83: VisibleDeprecationWarning: Creating an ndarray from ragged nested sequences (which is a list-or-tuple of lists-or-tuples-or ndarrays with different lengths or shapes) is deprecated. If you meant to do this, you must specify 'dtype=object' when creating the ndarray\n",
      "  return array(a, dtype, copy=False, order=order)\n"
     ]
    },
    {
     "data": {
      "text/plain": [
       "GaussianNB(var_smoothing=0.5)"
      ]
     },
     "execution_count": 337,
     "metadata": {},
     "output_type": "execute_result"
    }
   ],
   "source": [
    "from sklearn.naive_bayes import MultinomialNB\n",
    "from sklearn.naive_bayes import GaussianNB\n",
    "from sklearn.metrics import confusion_matrix\n",
    "\n",
    "cluster_labels_train = []\n",
    "cluster_models_train = []\n",
    "\n",
    "for cm in clusters_and_models:\n",
    "    cluster_labels_train.append(cm[0])\n",
    "    cluster_models_train.append([cm[1].coef_, cm[1].intercept_, cm[1].singular_])\n",
    "\n",
    "gaussNB = GaussianNB(var_smoothing=0.5)\n",
    "gaussNB.fit(cluster_models_train, cluster_labels_train)"
   ]
  },
  {
   "cell_type": "markdown",
   "metadata": {},
   "source": [
    "Now we can see what happens with our testing data"
   ]
  },
  {
   "cell_type": "code",
   "execution_count": 339,
   "metadata": {},
   "outputs": [],
   "source": [
    "test_clusters_and_models = []\n",
    "\n",
    "for cl in np.unique(joined_sales_data_test[\"cluster\"]):\n",
    "    test_clusters_and_models.append([cl, cluster_regression(joined_sales_data_test, cl)])\n",
    "    \n",
    "\n",
    "cluster_labels_test = []\n",
    "cluster_models_test = []\n",
    "\n",
    "for cm in clusters_and_models:\n",
    "    cluster_labels_test.append(cm[0])\n",
    "    cluster_models_test.append([cm[1].coef_, cm[1].intercept_, cm[1].singular_])\n"
   ]
  },
  {
   "cell_type": "code",
   "execution_count": 350,
   "metadata": {},
   "outputs": [
    {
     "name": "stdout",
     "output_type": "stream",
     "text": [
      "0.5741935483870968\n",
      "              precision    recall  f1-score   support\n",
      "\n",
      "        -1.0       1.00      1.00      1.00         1\n",
      "         0.0       0.50      1.00      0.67         1\n",
      "         1.0       1.00      1.00      1.00         1\n",
      "         2.0       1.00      1.00      1.00         1\n",
      "         3.0       0.50      1.00      0.67         1\n",
      "         4.0       1.00      1.00      1.00         1\n",
      "         5.0       0.00      0.00      0.00         1\n",
      "         6.0       1.00      1.00      1.00         1\n",
      "         7.0       0.50      1.00      0.67         1\n",
      "         8.0       0.25      1.00      0.40         1\n",
      "         9.0       0.50      1.00      0.67         1\n",
      "        10.0       1.00      1.00      1.00         1\n",
      "        11.0       1.00      1.00      1.00         1\n",
      "        12.0       1.00      1.00      1.00         1\n",
      "        13.0       0.50      1.00      0.67         1\n",
      "        14.0       1.00      1.00      1.00         1\n",
      "        15.0       0.33      1.00      0.50         1\n",
      "        16.0       0.50      1.00      0.67         1\n",
      "        17.0       1.00      1.00      1.00         1\n",
      "        18.0       1.00      1.00      1.00         1\n",
      "        19.0       0.25      1.00      0.40         1\n",
      "        20.0       0.00      0.00      0.00         1\n",
      "        21.0       1.00      1.00      1.00         1\n",
      "        22.0       1.00      1.00      1.00         1\n",
      "        23.0       1.00      1.00      1.00         1\n",
      "        24.0       0.00      0.00      0.00         1\n",
      "        25.0       1.00      1.00      1.00         1\n",
      "        26.0       0.33      1.00      0.50         1\n",
      "        27.0       0.33      1.00      0.50         1\n",
      "        28.0       1.00      1.00      1.00         1\n",
      "        29.0       1.00      1.00      1.00         1\n",
      "        30.0       0.50      1.00      0.67         1\n",
      "        31.0       0.00      0.00      0.00         1\n",
      "        32.0       0.50      1.00      0.67         1\n",
      "        33.0       1.00      1.00      1.00         1\n",
      "        34.0       1.00      1.00      1.00         1\n",
      "        35.0       0.50      1.00      0.67         1\n",
      "        36.0       1.00      1.00      1.00         1\n",
      "        37.0       0.50      1.00      0.67         1\n",
      "        38.0       0.25      1.00      0.40         1\n",
      "        39.0       1.00      1.00      1.00         1\n",
      "        40.0       0.25      1.00      0.40         1\n",
      "        41.0       0.00      0.00      0.00         1\n",
      "        42.0       0.50      1.00      0.67         1\n",
      "        43.0       0.33      1.00      0.50         1\n",
      "        44.0       0.50      1.00      0.67         1\n",
      "        45.0       1.00      1.00      1.00         1\n",
      "        46.0       1.00      1.00      1.00         1\n",
      "        47.0       0.33      1.00      0.50         1\n",
      "        48.0       0.50      1.00      0.67         1\n",
      "        49.0       0.50      1.00      0.67         1\n",
      "        50.0       1.00      1.00      1.00         1\n",
      "        51.0       0.33      1.00      0.50         1\n",
      "        52.0       0.50      1.00      0.67         1\n",
      "        53.0       0.50      1.00      0.67         1\n",
      "        54.0       0.00      0.00      0.00         1\n",
      "        55.0       0.00      0.00      0.00         1\n",
      "        56.0       1.00      1.00      1.00         1\n",
      "        57.0       1.00      1.00      1.00         1\n",
      "        58.0       0.50      1.00      0.67         1\n",
      "        59.0       0.33      1.00      0.50         1\n",
      "        60.0       0.00      0.00      0.00         1\n",
      "        61.0       0.00      0.00      0.00         1\n",
      "        62.0       1.00      1.00      1.00         1\n",
      "        63.0       1.00      1.00      1.00         1\n",
      "        64.0       0.00      0.00      0.00         1\n",
      "        65.0       0.20      1.00      0.33         1\n",
      "        66.0       0.00      0.00      0.00         1\n",
      "        67.0       1.00      1.00      1.00         1\n",
      "        68.0       1.00      1.00      1.00         1\n",
      "        69.0       0.00      0.00      0.00         1\n",
      "        70.0       1.00      1.00      1.00         1\n",
      "        71.0       0.50      1.00      0.67         1\n",
      "        72.0       0.00      0.00      0.00         1\n",
      "        73.0       0.20      1.00      0.33         1\n",
      "        74.0       1.00      1.00      1.00         1\n",
      "        75.0       1.00      1.00      1.00         1\n",
      "        76.0       0.00      0.00      0.00         1\n",
      "        77.0       0.00      0.00      0.00         1\n",
      "        78.0       0.00      0.00      0.00         1\n",
      "        79.0       0.50      1.00      0.67         1\n",
      "        80.0       1.00      1.00      1.00         1\n",
      "        81.0       0.25      1.00      0.40         1\n",
      "        82.0       0.00      0.00      0.00         1\n",
      "        83.0       0.00      0.00      0.00         1\n",
      "        84.0       0.00      0.00      0.00         1\n",
      "        85.0       0.00      0.00      0.00         1\n",
      "        86.0       0.00      0.00      0.00         1\n",
      "        87.0       0.50      1.00      0.67         1\n",
      "        88.0       0.00      0.00      0.00         1\n",
      "        89.0       0.00      0.00      0.00         1\n",
      "        90.0       1.00      1.00      1.00         1\n",
      "        91.0       0.00      0.00      0.00         1\n",
      "        92.0       1.00      1.00      1.00         1\n",
      "        93.0       0.00      0.00      0.00         1\n",
      "        94.0       0.33      1.00      0.50         1\n",
      "        95.0       1.00      1.00      1.00         1\n",
      "        96.0       0.00      0.00      0.00         1\n",
      "        97.0       0.00      0.00      0.00         1\n",
      "        98.0       0.00      0.00      0.00         1\n",
      "        99.0       0.00      0.00      0.00         1\n",
      "       100.0       0.00      0.00      0.00         1\n",
      "       101.0       0.50      1.00      0.67         1\n",
      "       102.0       0.00      0.00      0.00         1\n",
      "       103.0       0.00      0.00      0.00         1\n",
      "       104.0       0.00      0.00      0.00         1\n",
      "       105.0       0.00      0.00      0.00         1\n",
      "       106.0       0.00      0.00      0.00         1\n",
      "       107.0       0.00      0.00      0.00         1\n",
      "       108.0       1.00      1.00      1.00         1\n",
      "       109.0       0.50      1.00      0.67         1\n",
      "       110.0       1.00      1.00      1.00         1\n",
      "       111.0       0.50      1.00      0.67         1\n",
      "       112.0       0.00      0.00      0.00         1\n",
      "       113.0       0.00      0.00      0.00         1\n",
      "       114.0       0.00      0.00      0.00         1\n",
      "       115.0       1.00      1.00      1.00         1\n",
      "       116.0       0.00      0.00      0.00         1\n",
      "       117.0       0.00      0.00      0.00         1\n",
      "       118.0       0.50      1.00      0.67         1\n",
      "       119.0       0.00      0.00      0.00         1\n",
      "       120.0       0.00      0.00      0.00         1\n",
      "       121.0       0.50      1.00      0.67         1\n",
      "       122.0       0.50      1.00      0.67         1\n",
      "       123.0       0.00      0.00      0.00         1\n",
      "       124.0       0.00      0.00      0.00         1\n",
      "       125.0       0.00      0.00      0.00         1\n",
      "       126.0       0.00      0.00      0.00         1\n",
      "       127.0       1.00      1.00      1.00         1\n",
      "       128.0       0.00      0.00      0.00         1\n",
      "       129.0       0.00      0.00      0.00         1\n",
      "       130.0       0.00      0.00      0.00         1\n",
      "       131.0       1.00      1.00      1.00         1\n",
      "       132.0       1.00      1.00      1.00         1\n",
      "       133.0       0.50      1.00      0.67         1\n",
      "       134.0       0.00      0.00      0.00         1\n",
      "       135.0       0.00      0.00      0.00         1\n",
      "       136.0       0.00      0.00      0.00         1\n",
      "       137.0       0.00      0.00      0.00         1\n",
      "       138.0       0.00      0.00      0.00         1\n",
      "       139.0       0.00      0.00      0.00         1\n",
      "       140.0       0.00      0.00      0.00         1\n",
      "       141.0       0.00      0.00      0.00         1\n",
      "       142.0       0.00      0.00      0.00         1\n",
      "       143.0       0.00      0.00      0.00         1\n",
      "       144.0       1.00      1.00      1.00         1\n",
      "       145.0       0.00      0.00      0.00         1\n",
      "       146.0       0.00      0.00      0.00         1\n",
      "       147.0       1.00      1.00      1.00         1\n",
      "       148.0       1.00      1.00      1.00         1\n",
      "       149.0       0.00      0.00      0.00         1\n",
      "       150.0       0.00      0.00      0.00         1\n",
      "       151.0       1.00      1.00      1.00         1\n",
      "       152.0       0.00      0.00      0.00         1\n",
      "       153.0       0.00      0.00      0.00         1\n",
      "\n",
      "    accuracy                           0.57       155\n",
      "   macro avg       0.42      0.57      0.46       155\n",
      "weighted avg       0.42      0.57      0.46       155\n",
      "\n",
      "[[1 0 0 ... 0 0 0]\n",
      " [0 1 0 ... 0 0 0]\n",
      " [0 0 1 ... 0 0 0]\n",
      " ...\n",
      " [0 0 0 ... 1 0 0]\n",
      " [0 0 0 ... 0 0 0]\n",
      " [0 0 0 ... 0 0 0]]\n"
     ]
    },
    {
     "name": "stderr",
     "output_type": "stream",
     "text": [
      "C:\\Users\\winbase\\Anaconda3\\envs\\mids\\lib\\site-packages\\numpy\\core\\_asarray.py:83: VisibleDeprecationWarning: Creating an ndarray from ragged nested sequences (which is a list-or-tuple of lists-or-tuples-or ndarrays with different lengths or shapes) is deprecated. If you meant to do this, you must specify 'dtype=object' when creating the ndarray\n",
      "  return array(a, dtype, copy=False, order=order)\n",
      "C:\\Users\\winbase\\Anaconda3\\envs\\mids\\lib\\site-packages\\numpy\\core\\_asarray.py:83: VisibleDeprecationWarning: Creating an ndarray from ragged nested sequences (which is a list-or-tuple of lists-or-tuples-or ndarrays with different lengths or shapes) is deprecated. If you meant to do this, you must specify 'dtype=object' when creating the ndarray\n",
      "  return array(a, dtype, copy=False, order=order)\n",
      "C:\\Users\\winbase\\Anaconda3\\envs\\mids\\lib\\site-packages\\sklearn\\metrics\\_classification.py:1221: UndefinedMetricWarning: Precision and F-score are ill-defined and being set to 0.0 in labels with no predicted samples. Use `zero_division` parameter to control this behavior.\n",
      "  _warn_prf(average, modifier, msg_start, len(result))\n"
     ]
    }
   ],
   "source": [
    "from sklearn.metrics import classification_report\n",
    "\n",
    "print(gaussNB.score(cluster_models_test, cluster_labels_test))\n",
    "preds = gaussNB.predict(cluster_models_test)\n",
    "\n",
    "labels_str = []\n",
    "for l in np.unique(cluster_labels_test):\n",
    "    labels_str.append(str(l))\n",
    "\n",
    "print(classification_report(cluster_labels_test, preds, target_names=labels_str))\n",
    "\n",
    "#Create Confusion Matrix\n",
    "confMatrix = confusion_matrix(cluster_labels_test, preds, labels=np.unique(cluster_labels_test))\n",
    "print(confMatrix)"
   ]
  }
 ],
 "metadata": {
  "kernelspec": {
   "display_name": "Python 3",
   "language": "python",
   "name": "python3"
  },
  "language_info": {
   "codemirror_mode": {
    "name": "ipython",
    "version": 3
   },
   "file_extension": ".py",
   "mimetype": "text/x-python",
   "name": "python",
   "nbconvert_exporter": "python",
   "pygments_lexer": "ipython3",
   "version": "3.7.6"
  }
 },
 "nbformat": 4,
 "nbformat_minor": 2
}
