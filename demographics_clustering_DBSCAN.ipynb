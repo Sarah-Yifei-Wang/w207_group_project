{
 "cells": [
  {
   "cell_type": "code",
   "execution_count": 1,
   "metadata": {},
   "outputs": [],
   "source": [
    "import numpy as np\n",
    "\n",
    "from matplotlib import pyplot\n",
    "import matplotlib.pyplot as plt\n",
    "from sklearn.datasets import make_classification\n",
    "from sklearn.cluster import DBSCAN\n",
    "from sklearn import metrics\n",
    "from sklearn.preprocessing import StandardScaler\n",
    "from sklearn.preprocessing import MinMaxScaler\n",
    "\n",
    "import pandas as pd"
   ]
  },
  {
   "cell_type": "code",
   "execution_count": 2,
   "metadata": {},
   "outputs": [
    {
     "name": "stdout",
     "output_type": "stream",
     "text": [
      "(33120, 2151)\n"
     ]
    }
   ],
   "source": [
    "#load dataframe from csv\n",
    "demographics_data = pd.read_csv(\"data/newdata/2018_demographic_data_edited.csv\", delimiter=',')\n",
    "print(demographics_data.shape)\n",
    "demographics_data = demographics_data.drop(columns=[\"Geo_ZCTA5\", \"Geo_ZCTA3\", \"Geo_LOGRECNO\", \"Geo_GEOCOMP\", \"Geo_SUMLEV\"])"
   ]
  },
  {
   "cell_type": "code",
   "execution_count": 3,
   "metadata": {},
   "outputs": [
    {
     "name": "stdout",
     "output_type": "stream",
     "text": [
      "SE_A01004_001      564\n",
      "SE_A01004_002      843\n",
      "SE_A01004_003      897\n",
      "SE_A10003_001      726\n",
      "SE_A10003B_001    2496\n",
      "                  ... \n",
      "SE_A13007_009       35\n",
      "SE_A13007_010       35\n",
      "SE_A13007_011       35\n",
      "SE_A10064_001       35\n",
      "SE_A10064_002       35\n",
      "Length: 870, dtype: int64\n"
     ]
    }
   ],
   "source": [
    "null_counts = demographics_data.isnull().sum()\n",
    "print(null_counts[null_counts > 0])"
   ]
  },
  {
   "cell_type": "code",
   "execution_count": 4,
   "metadata": {},
   "outputs": [],
   "source": [
    "# drop any column with missing values greater than 5%\n",
    "demographics_data.drop(columns=[\"SE_A18007_006\",\"SE_A18007_007\",\"SE_A18007_005\",\"SE_A18007_004\",\n",
    "                     \"SE_A18007_003\",\"SE_A18007_002\",\"SE_A18008_011\",\n",
    "                     \"SE_A18008_010\",\"SE_A18008_009\",\"SE_A18010_002\",\n",
    "                     \"SE_A18010_003\",\"SE_A18010_004\",\"SE_A18010_005\",\n",
    "                     \"SE_A18010_006\",\"SE_A18010_007\",\"SE_A18008_001\",\"SE_A18008_002\",\n",
    "                     \"SE_A18008_003\",\"SE_A18008_008\",\"SE_A18008_007\",\"SE_A18008_006\",\"SE_A18008_005\",\n",
    "                     \"SE_A18008_004\"], axis=1, inplace=True)"
   ]
  },
  {
   "cell_type": "code",
   "execution_count": 47,
   "metadata": {},
   "outputs": [],
   "source": [
    "reduced_demos = demographics_data[[\"SE_A00002_002\", \"SE_A14028_001\", \"SE_A14011_001\", \"SE_A14008_001\", \"SE_B10040_002\", \"SE_B10040_003\"]]"
   ]
  },
  {
   "cell_type": "code",
   "execution_count": 48,
   "metadata": {},
   "outputs": [
    {
     "name": "stdout",
     "output_type": "stream",
     "text": [
      "SE_A14028_001     948\n",
      "SE_A14011_001    1662\n",
      "dtype: int64\n",
      "(31458, 2)\n"
     ]
    }
   ],
   "source": [
    "null_counts = reduced_demos.isnull().sum()\n",
    "print(null_counts[null_counts > 0])\n",
    "# reduced_demos = reduced_demos.dropna()\n",
    "print(reduced_demos.shape)\n",
    "reduced_demos = MinMaxScaler().fit_transform(reduced_demos)"
   ]
  },
  {
   "cell_type": "markdown",
   "metadata": {},
   "source": [
    "What does MinMaxScaler Scaler do to our data?"
   ]
  },
  {
   "cell_type": "code",
   "execution_count": 49,
   "metadata": {},
   "outputs": [
    {
     "name": "stdout",
     "output_type": "stream",
     "text": [
      "   SE_A14028_001  SE_A14011_001\n",
      "0         0.5238    20888.83581\n",
      "1         0.5034    27986.62033\n",
      "2         0.5666    31688.46383\n",
      "3         0.4818    18625.70601\n",
      "4         0.4689    30554.08275\n"
     ]
    }
   ],
   "source": [
    "print(reduced_demos[0:5])"
   ]
  },
  {
   "cell_type": "code",
   "execution_count": 95,
   "metadata": {},
   "outputs": [
    {
     "data": {
      "image/png": "[encoded data removed]",
      "text/plain": [
       "<Figure size 432x288 with 2 Axes>"
      ]
     },
     "metadata": {
      "needs_background": "light"
     },
     "output_type": "display_data"
    }
   ],
   "source": [
    "fig, axs = plt.subplots(1, 2, sharey=True, tight_layout=True)\n",
    "\n",
    "n_bins = 30\n",
    "\n",
    "# We can set the number of bins with the `bins` kwarg\n",
    "axs[0].hist(reduced_demos[\"SE_A14028_001\"], bins=n_bins)\n",
    "axs[1].hist(reduced_demos[\"SE_A14011_001\"], bins=n_bins)\n",
    "plt.show()"
   ]
  },
  {
   "cell_type": "markdown",
   "metadata": {},
   "source": [
    "How does our best DBSCAN approach look?"
   ]
  },
  {
   "cell_type": "markdown",
   "metadata": {},
   "source": [
    "Ok, maybe all along we've been picking bad datapoints to look at, lets just Gini index, Average household income, and rent as a percentage of income."
   ]
  },
  {
   "cell_type": "code",
   "execution_count": 196,
   "metadata": {},
   "outputs": [
    {
     "name": "stdout",
     "output_type": "stream",
     "text": [
      "SE_A14028_001     948\n",
      "SE_A14011_001    1662\n",
      "SE_A18003_001    5596\n",
      "dtype: int64\n",
      "(27474, 4)\n",
      " clusters:  135  and noise points  3815 , noise as :  0.13885855718133508\n"
     ]
    },
    {
     "data": {
      "image/png": "[encoded data removed]",
      "text/plain": [
       "<Figure size 432x288 with 1 Axes>"
      ]
     },
     "metadata": {
      "needs_background": "light"
     },
     "output_type": "display_data"
    }
   ],
   "source": [
    "\n",
    "# just gini index and average household income and vacant housing units\n",
    "reduced_demos = demographics_data[[\"zip\", \"SE_A14028_001\", \"SE_A14011_001\", \"SE_A18003_001\"]]\n",
    "\n",
    "null_counts = reduced_demos.isnull().sum()\n",
    "print(null_counts[null_counts > 0])\n",
    "reduced_demos = reduced_demos.dropna()\n",
    "print(reduced_demos.shape)\n",
    "#reduced_demos = StandardScaler().fit_transform(reduced_demos)\n",
    "\n",
    "reduced_demos_no_zip = reduced_demos.drop(\"zip\", axis=1)\n",
    "\n",
    "clusterer = hdbscan.HDBSCAN(min_cluster_size=100, min_samples=3, cluster_selection_method='leaf')\n",
    "clusterer.fit(reduced_demos_no_zip)\n",
    "\n",
    "labels = clusterer.labels_\n",
    "unique_labels = set(labels)\n",
    "print( \" clusters: \", len(unique_labels), \" and noise points \", (labels == -1).sum(), \", noise as : \", (labels == -1).sum()/len(labels))\n",
    "\n",
    "label_sum = []\n",
    "\n",
    "for k in unique_labels:\n",
    "    label_sum.append((labels == k).sum())\n",
    "    \n",
    "non_noise = labels[labels != -1]\n",
    "\n",
    "plt.hist(non_noise, bins=len(unique_labels)-1)\n",
    "plt.show()"
   ]
  },
  {
   "cell_type": "code",
   "execution_count": 197,
   "metadata": {},
   "outputs": [
    {
     "name": "stderr",
     "output_type": "stream",
     "text": [
      "C:\\Users\\winbase\\Anaconda3\\envs\\mids\\lib\\site-packages\\ipykernel_launcher.py:2: SettingWithCopyWarning: \n",
      "A value is trying to be set on a copy of a slice from a DataFrame.\n",
      "Try using .loc[row_indexer,col_indexer] = value instead\n",
      "\n",
      "See the caveats in the documentation: https://pandas.pydata.org/pandas-docs/stable/user_guide/indexing.html#returning-a-view-versus-a-copy\n",
      "  \n"
     ]
    },
    {
     "data": {
      "text/html": [
       "<div>\n",
       "<style scoped>\n",
       "    .dataframe tbody tr th:only-of-type {\n",
       "        vertical-align: middle;\n",
       "    }\n",
       "\n",
       "    .dataframe tbody tr th {\n",
       "        vertical-align: top;\n",
       "    }\n",
       "\n",
       "    .dataframe thead th {\n",
       "        text-align: right;\n",
       "    }\n",
       "</style>\n",
       "<table border=\"1\" class=\"dataframe\">\n",
       "  <thead>\n",
       "    <tr style=\"text-align: right;\">\n",
       "      <th></th>\n",
       "      <th>zip</th>\n",
       "      <th>cluster</th>\n",
       "    </tr>\n",
       "  </thead>\n",
       "  <tbody>\n",
       "    <tr>\n",
       "      <th>0</th>\n",
       "      <td>601</td>\n",
       "      <td>-1</td>\n",
       "    </tr>\n",
       "    <tr>\n",
       "      <th>1</th>\n",
       "      <td>602</td>\n",
       "      <td>3</td>\n",
       "    </tr>\n",
       "    <tr>\n",
       "      <th>2</th>\n",
       "      <td>603</td>\n",
       "      <td>3</td>\n",
       "    </tr>\n",
       "    <tr>\n",
       "      <th>3</th>\n",
       "      <td>606</td>\n",
       "      <td>-1</td>\n",
       "    </tr>\n",
       "    <tr>\n",
       "      <th>4</th>\n",
       "      <td>610</td>\n",
       "      <td>3</td>\n",
       "    </tr>\n",
       "  </tbody>\n",
       "</table>\n",
       "</div>"
      ],
      "text/plain": [
       "   zip  cluster\n",
       "0  601       -1\n",
       "1  602        3\n",
       "2  603        3\n",
       "3  606       -1\n",
       "4  610        3"
      ]
     },
     "execution_count": 197,
     "metadata": {},
     "output_type": "execute_result"
    }
   ],
   "source": [
    "clusters = reduced_demos[['zip']]\n",
    "clusters[\"cluster\"] = labels\n",
    "clusters.head()"
   ]
  },
  {
   "cell_type": "markdown",
   "metadata": {},
   "source": [
    "So using just those 3 statistics we can get some pretty reasonable clusters. Now let's join those up with the sales data."
   ]
  },
  {
   "cell_type": "code",
   "execution_count": 198,
   "metadata": {},
   "outputs": [
    {
     "name": "stdout",
     "output_type": "stream",
     "text": [
      "    zip February 2016 March 2016 April 2016 May 2016 June 2016 July 2016  \\\n",
      "0   501             0          0          0        0         0         0   \n",
      "1  1005         15.4%       5.7%     -29.7%   -24.0%     33.7%      8.6%   \n",
      "2  1010             0          0          0        0         0         0   \n",
      "3  1031        705.0%     612.0%     -24.6%   -24.6%    -83.2%    -13.7%   \n",
      "4  1037             0          0     -23.9%        0    102.7%    150.4%   \n",
      "\n",
      "  August 2016 September 2016 October 2016  ... December 2019 January 2020  \\\n",
      "0           0              0            0  ...             0            0   \n",
      "1        5.7%          -9.1%        -4.1%  ...          7.3%        -4.3%   \n",
      "2           0              0            0  ...             0            0   \n",
      "3       -3.3%          -2.0%        27.6%  ...         43.9%       -13.8%   \n",
      "4      150.4%              0            0  ...             0            0   \n",
      "\n",
      "  February 2020 March 2020 April 2020 May 2020 June 2020 July 2020  \\\n",
      "0             0          0          0        0         0         0   \n",
      "1          6.3%      -7.9%       2.2%    -4.4%     12.4%     -1.3%   \n",
      "2             0          0          0        0         0         0   \n",
      "3         70.9%     162.0%     126.9%    -1.0%    -37.8%    -48.3%   \n",
      "4             0          0          0        0         0         0   \n",
      "\n",
      "  August 2020 September 2020  \n",
      "0           0              0  \n",
      "1        4.5%           1.3%  \n",
      "2           0              0  \n",
      "3      -51.1%         681.4%  \n",
      "4      -24.4%         -14.5%  \n",
      "\n",
      "[5 rows x 57 columns]\n"
     ]
    }
   ],
   "source": [
    "sales_data = pd.read_csv(\"data/newdata/med_sale_price_yoy.csv\", delimiter=\"\t\")\n",
    "sales_data.index = sales_data.index.astype(int)\n",
    "sales_data = sales_data.rename(columns={\"Region\":\"zip\"})\n",
    "sales_data = sales_data.fillna(0)\n",
    "print(sales_data.head())"
   ]
  },
  {
   "cell_type": "code",
   "execution_count": 205,
   "metadata": {},
   "outputs": [
    {
     "data": {
      "text/html": [
       "<div>\n",
       "<style scoped>\n",
       "    .dataframe tbody tr th:only-of-type {\n",
       "        vertical-align: middle;\n",
       "    }\n",
       "\n",
       "    .dataframe tbody tr th {\n",
       "        vertical-align: top;\n",
       "    }\n",
       "\n",
       "    .dataframe thead th {\n",
       "        text-align: right;\n",
       "    }\n",
       "</style>\n",
       "<table border=\"1\" class=\"dataframe\">\n",
       "  <thead>\n",
       "    <tr style=\"text-align: right;\">\n",
       "      <th></th>\n",
       "      <th>zip</th>\n",
       "      <th>January 2020</th>\n",
       "      <th>cluster</th>\n",
       "    </tr>\n",
       "  </thead>\n",
       "  <tbody>\n",
       "    <tr>\n",
       "      <th>0</th>\n",
       "      <td>1005</td>\n",
       "      <td>-4.3</td>\n",
       "      <td>28</td>\n",
       "    </tr>\n",
       "    <tr>\n",
       "      <th>1</th>\n",
       "      <td>1010</td>\n",
       "      <td>0</td>\n",
       "      <td>29</td>\n",
       "    </tr>\n",
       "    <tr>\n",
       "      <th>2</th>\n",
       "      <td>1031</td>\n",
       "      <td>-13.8</td>\n",
       "      <td>-1</td>\n",
       "    </tr>\n",
       "    <tr>\n",
       "      <th>3</th>\n",
       "      <td>1057</td>\n",
       "      <td>0</td>\n",
       "      <td>29</td>\n",
       "    </tr>\n",
       "    <tr>\n",
       "      <th>4</th>\n",
       "      <td>1068</td>\n",
       "      <td>33.3</td>\n",
       "      <td>33</td>\n",
       "    </tr>\n",
       "  </tbody>\n",
       "</table>\n",
       "</div>"
      ],
      "text/plain": [
       "    zip January 2020  cluster\n",
       "0  1005         -4.3       28\n",
       "1  1010            0       29\n",
       "2  1031        -13.8       -1\n",
       "3  1057            0       29\n",
       "4  1068         33.3       33"
      ]
     },
     "execution_count": 205,
     "metadata": {},
     "output_type": "execute_result"
    }
   ],
   "source": [
    "Jan2020_sales = sales_data[['zip','January 2020']]\n",
    "Jan2020_sales = Jan2020_sales.merge(clusters, on=\"zip\")\n",
    "Jan2020_sales[\"January 2020\"] = Jan2020_sales[\"January 2020\"].str.replace(r'%', r'')\n",
    "Jan2020_sales = Jan2020_sales.fillna(0)\n",
    "Jan2020_sales.head()"
   ]
  },
  {
   "cell_type": "code",
   "execution_count": 219,
   "metadata": {},
   "outputs": [
    {
     "data": {
      "text/plain": [
       "<matplotlib.collections.PathCollection at 0x25383057548>"
      ]
     },
     "execution_count": 219,
     "metadata": {},
     "output_type": "execute_result"
    },
    {
     "data": {
      "image/png": "[encoded data removed]",
      "text/plain": [
       "<Figure size 1080x720 with 1 Axes>"
      ]
     },
     "metadata": {
      "needs_background": "light"
     },
     "output_type": "display_data"
    }
   ],
   "source": [
    "#colors = np.random.rand(N)\n",
    "fig, ax = plt.subplots(figsize=(15, 10))\n",
    "ax.scatter( Jan2020_sales[\"cluster\"].astype(int), Jan2020_sales[\"January 2020\"].astype(float), alpha=0.5)"
   ]
  },
  {
   "cell_type": "markdown",
   "metadata": {},
   "source": [
    "Let's get the standard deviation of each cluster and see what happens"
   ]
  },
  {
   "cell_type": "code",
   "execution_count": 189,
   "metadata": {},
   "outputs": [
    {
     "data": {
      "text/plain": [
       "<matplotlib.collections.PathCollection at 0x25381ec8908>"
      ]
     },
     "execution_count": 189,
     "metadata": {},
     "output_type": "execute_result"
    },
    {
     "data": {
      "image/png": "[encoded data removed]",
      "text/plain": [
       "<Figure size 1080x432 with 1 Axes>"
      ]
     },
     "metadata": {
      "needs_background": "light"
     },
     "output_type": "display_data"
    }
   ],
   "source": [
    "\n",
    "med_yoy_by_cluster = []\n",
    "\n",
    "for cluster in np.unique(Jan2020_sales[\"cluster\"]):\n",
    "    sub = Jan2020_sales[Jan2020_sales.cluster == cluster]\n",
    "    med_yoy_by_cluster.append(sub[\"January 2020\"].astype(float).std())\n",
    "\n",
    "\n",
    "fig, ax = plt.subplots(figsize=(15, 6))\n",
    "ax.scatter( np.unique(Jan2020_sales[\"cluster\"]), med_yoy_by_cluster, alpha=0.5)"
   ]
  },
  {
   "cell_type": "code",
   "execution_count": 231,
   "metadata": {},
   "outputs": [
    {
     "name": "stdout",
     "output_type": "stream",
     "text": [
      "(13933, 57)\n"
     ]
    },
    {
     "data": {
      "text/html": [
       "<div>\n",
       "<style scoped>\n",
       "    .dataframe tbody tr th:only-of-type {\n",
       "        vertical-align: middle;\n",
       "    }\n",
       "\n",
       "    .dataframe tbody tr th {\n",
       "        vertical-align: top;\n",
       "    }\n",
       "\n",
       "    .dataframe thead th {\n",
       "        text-align: right;\n",
       "    }\n",
       "</style>\n",
       "<table border=\"1\" class=\"dataframe\">\n",
       "  <thead>\n",
       "    <tr style=\"text-align: right;\">\n",
       "      <th></th>\n",
       "      <th>cluster</th>\n",
       "      <th>February 2016</th>\n",
       "      <th>March 2016</th>\n",
       "      <th>April 2016</th>\n",
       "      <th>May 2016</th>\n",
       "      <th>June 2016</th>\n",
       "      <th>July 2016</th>\n",
       "      <th>August 2016</th>\n",
       "      <th>September 2016</th>\n",
       "      <th>October 2016</th>\n",
       "      <th>...</th>\n",
       "      <th>December 2019</th>\n",
       "      <th>January 2020</th>\n",
       "      <th>February 2020</th>\n",
       "      <th>March 2020</th>\n",
       "      <th>April 2020</th>\n",
       "      <th>May 2020</th>\n",
       "      <th>June 2020</th>\n",
       "      <th>July 2020</th>\n",
       "      <th>August 2020</th>\n",
       "      <th>September 2020</th>\n",
       "    </tr>\n",
       "    <tr>\n",
       "      <th>zip</th>\n",
       "      <th></th>\n",
       "      <th></th>\n",
       "      <th></th>\n",
       "      <th></th>\n",
       "      <th></th>\n",
       "      <th></th>\n",
       "      <th></th>\n",
       "      <th></th>\n",
       "      <th></th>\n",
       "      <th></th>\n",
       "      <th></th>\n",
       "      <th></th>\n",
       "      <th></th>\n",
       "      <th></th>\n",
       "      <th></th>\n",
       "      <th></th>\n",
       "      <th></th>\n",
       "      <th></th>\n",
       "      <th></th>\n",
       "      <th></th>\n",
       "      <th></th>\n",
       "    </tr>\n",
       "  </thead>\n",
       "  <tbody>\n",
       "    <tr>\n",
       "      <th>1005</th>\n",
       "      <td>28.0</td>\n",
       "      <td>15.4%</td>\n",
       "      <td>5.7%</td>\n",
       "      <td>-29.7%</td>\n",
       "      <td>-24.0%</td>\n",
       "      <td>33.7%</td>\n",
       "      <td>8.6%</td>\n",
       "      <td>5.7%</td>\n",
       "      <td>-9.1%</td>\n",
       "      <td>-4.1%</td>\n",
       "      <td>...</td>\n",
       "      <td>7.3%</td>\n",
       "      <td>-4.3%</td>\n",
       "      <td>6.3%</td>\n",
       "      <td>-7.9%</td>\n",
       "      <td>2.2%</td>\n",
       "      <td>-4.4%</td>\n",
       "      <td>12.4%</td>\n",
       "      <td>-1.3%</td>\n",
       "      <td>4.5%</td>\n",
       "      <td>1.3%</td>\n",
       "    </tr>\n",
       "    <tr>\n",
       "      <th>1010</th>\n",
       "      <td>29.0</td>\n",
       "      <td>0</td>\n",
       "      <td>0</td>\n",
       "      <td>0</td>\n",
       "      <td>0</td>\n",
       "      <td>0</td>\n",
       "      <td>0</td>\n",
       "      <td>0</td>\n",
       "      <td>0</td>\n",
       "      <td>0</td>\n",
       "      <td>...</td>\n",
       "      <td>0</td>\n",
       "      <td>0</td>\n",
       "      <td>0</td>\n",
       "      <td>0</td>\n",
       "      <td>0</td>\n",
       "      <td>0</td>\n",
       "      <td>0</td>\n",
       "      <td>0</td>\n",
       "      <td>0</td>\n",
       "      <td>0</td>\n",
       "    </tr>\n",
       "    <tr>\n",
       "      <th>1031</th>\n",
       "      <td>-1.0</td>\n",
       "      <td>705.0%</td>\n",
       "      <td>612.0%</td>\n",
       "      <td>-24.6%</td>\n",
       "      <td>-24.6%</td>\n",
       "      <td>-83.2%</td>\n",
       "      <td>-13.7%</td>\n",
       "      <td>-3.3%</td>\n",
       "      <td>-2.0%</td>\n",
       "      <td>27.6%</td>\n",
       "      <td>...</td>\n",
       "      <td>43.9%</td>\n",
       "      <td>-13.8%</td>\n",
       "      <td>70.9%</td>\n",
       "      <td>162.0%</td>\n",
       "      <td>126.9%</td>\n",
       "      <td>-1.0%</td>\n",
       "      <td>-37.8%</td>\n",
       "      <td>-48.3%</td>\n",
       "      <td>-51.1%</td>\n",
       "      <td>681.4%</td>\n",
       "    </tr>\n",
       "    <tr>\n",
       "      <th>1057</th>\n",
       "      <td>29.0</td>\n",
       "      <td>0</td>\n",
       "      <td>0</td>\n",
       "      <td>0</td>\n",
       "      <td>0</td>\n",
       "      <td>0</td>\n",
       "      <td>0</td>\n",
       "      <td>0</td>\n",
       "      <td>0</td>\n",
       "      <td>0</td>\n",
       "      <td>...</td>\n",
       "      <td>0</td>\n",
       "      <td>0</td>\n",
       "      <td>0</td>\n",
       "      <td>0</td>\n",
       "      <td>0</td>\n",
       "      <td>0</td>\n",
       "      <td>0</td>\n",
       "      <td>0</td>\n",
       "      <td>0</td>\n",
       "      <td>0</td>\n",
       "    </tr>\n",
       "    <tr>\n",
       "      <th>1068</th>\n",
       "      <td>33.0</td>\n",
       "      <td>-13.2%</td>\n",
       "      <td>-17.8%</td>\n",
       "      <td>4.2%</td>\n",
       "      <td>-20.3%</td>\n",
       "      <td>-18.5%</td>\n",
       "      <td>-29.8%</td>\n",
       "      <td>5.1%</td>\n",
       "      <td>4.6%</td>\n",
       "      <td>31.4%</td>\n",
       "      <td>...</td>\n",
       "      <td>11.5%</td>\n",
       "      <td>33.3%</td>\n",
       "      <td>18.6%</td>\n",
       "      <td>18.6%</td>\n",
       "      <td>2.2%</td>\n",
       "      <td>25.0%</td>\n",
       "      <td>34.3%</td>\n",
       "      <td>50.8%</td>\n",
       "      <td>-11.5%</td>\n",
       "      <td>2.0%</td>\n",
       "    </tr>\n",
       "  </tbody>\n",
       "</table>\n",
       "<p>5 rows × 57 columns</p>\n",
       "</div>"
      ],
      "text/plain": [
       "      cluster February 2016 March 2016 April 2016 May 2016 June 2016  \\\n",
       "zip                                                                    \n",
       "1005     28.0         15.4%       5.7%     -29.7%   -24.0%     33.7%   \n",
       "1010     29.0             0          0          0        0         0   \n",
       "1031     -1.0        705.0%     612.0%     -24.6%   -24.6%    -83.2%   \n",
       "1057     29.0             0          0          0        0         0   \n",
       "1068     33.0        -13.2%     -17.8%       4.2%   -20.3%    -18.5%   \n",
       "\n",
       "     July 2016 August 2016 September 2016 October 2016  ... December 2019  \\\n",
       "zip                                                     ...                 \n",
       "1005      8.6%        5.7%          -9.1%        -4.1%  ...          7.3%   \n",
       "1010         0           0              0            0  ...             0   \n",
       "1031    -13.7%       -3.3%          -2.0%        27.6%  ...         43.9%   \n",
       "1057         0           0              0            0  ...             0   \n",
       "1068    -29.8%        5.1%           4.6%        31.4%  ...         11.5%   \n",
       "\n",
       "     January 2020 February 2020 March 2020 April 2020 May 2020 June 2020  \\\n",
       "zip                                                                        \n",
       "1005        -4.3%          6.3%      -7.9%       2.2%    -4.4%     12.4%   \n",
       "1010            0             0          0          0        0         0   \n",
       "1031       -13.8%         70.9%     162.0%     126.9%    -1.0%    -37.8%   \n",
       "1057            0             0          0          0        0         0   \n",
       "1068        33.3%         18.6%      18.6%       2.2%    25.0%     34.3%   \n",
       "\n",
       "     July 2020 August 2020 September 2020  \n",
       "zip                                        \n",
       "1005     -1.3%        4.5%           1.3%  \n",
       "1010         0           0              0  \n",
       "1031    -48.3%      -51.1%         681.4%  \n",
       "1057         0           0              0  \n",
       "1068     50.8%      -11.5%           2.0%  \n",
       "\n",
       "[5 rows x 57 columns]"
      ]
     },
     "execution_count": 231,
     "metadata": {},
     "output_type": "execute_result"
    }
   ],
   "source": [
    "\n",
    "from sklearn import linear_model\n",
    "\n",
    "#copied from emily\n",
    "def cluster_regression( regression_data, cluster_index ):\n",
    "    print('cluster_index ', cluster_index)\n",
    "    clust0 = regression_data[regression_data['cluster']==cluster_index]\n",
    "    print(clust0.shape)\n",
    "    clust0 = clust0.drop(columns=['cluster'])\n",
    "    clust0_melt = pd.melt(clust0.reset_index(), id_vars=['zip'], value_vars=list(clust0.columns), var_name='date', value_name='yoy')\n",
    "    print(clust0_melt.shape)\n",
    "    clust0 = clust0_melt.dropna()\n",
    "    clust0.reset_index(drop=True, inplace=True)\n",
    "    clust0['parsed_date'] = pd.to_datetime(clust0.loc[:,'date'], infer_datetime_format=True)\n",
    "    clust0['days_from_start'] = clust0.loc[:,'parsed_date'] - clust0.loc[0, 'parsed_date']\n",
    "    clust0['yoy'] = clust0['yoy'].str.replace(r'%', r'')\n",
    "    clust0['yoy'] = pd.to_numeric(clust0[\"yoy\"], downcast=\"float\")\n",
    "    clust0 = clust0.replace(np.nan,0) #sometimes removing the '%' gets weird\n",
    "    print(clust0.shape)\n",
    "    print(clust0.head(-10))\n",
    "    \n",
    "    x = clust0['days_from_start'].values\n",
    "    y = clust0['yoy'].values\n",
    "\n",
    "    x = x.reshape(-1, 1)\n",
    "\n",
    "    model = linear_model.LinearRegression().fit(x, y)\n",
    "    linear_model.LinearRegression(copy_X=True, fit_intercept=True, n_jobs=1, normalize=False)\n",
    "    \n",
    "    # The coefficients\n",
    "    print('Coefficients: \\n', model.coef_)\n",
    "    \n",
    "    \n",
    "#copied from emily\n",
    "def cluster_regression_with_testing( regression_data, cluster_index ):\n",
    "    print('cluster_index ', cluster_index)\n",
    "    clust0 = regression_data[regression_data['cluster']==cluster_index]\n",
    "    print(clust0.shape)\n",
    "    clust0 = clust0.drop(columns=['cluster'])\n",
    "    clust0_melt = pd.melt(clust0.reset_index(), id_vars=['zip'], value_vars=list(clust0.columns), var_name='date', value_name='yoy')\n",
    "    print(clust0_melt.shape)\n",
    "    clust0 = clust0_melt.dropna()\n",
    "    clust0.reset_index(drop=True, inplace=True)\n",
    "    clust0['parsed_date'] = pd.to_datetime(clust0.loc[:,'date'], infer_datetime_format=True)\n",
    "    clust0['days_from_start'] = clust0.loc[:,'parsed_date'] - clust0.loc[0, 'parsed_date']\n",
    "    clust0['yoy'] = clust0['yoy'].str.replace(r'%', r'')\n",
    "    clust0['yoy'] = pd.to_numeric(clust0[\"yoy\"], downcast=\"float\")\n",
    "    clust0 = clust0.replace(np.nan,0) #sometimes removing the '%' gets weird\n",
    "    print(clust0.shape)\n",
    "    #print(clust0.head(-10))\n",
    "    \n",
    "    x = clust0['days_from_start'].values\n",
    "    y = clust0['yoy'].values\n",
    "\n",
    "    x = x.reshape(-1, 1)\n",
    "\n",
    "    model = linear_model.LinearRegression().fit(x, y)\n",
    "    linear_model.LinearRegression(copy_X=True, fit_intercept=True, n_jobs=1, normalize=False)\n",
    "    \n",
    "    # The coefficients\n",
    "    print('Coefficients: \\n', model.coef_)\n",
    "    \n",
    "\n",
    "    \n",
    "#join the sales data (has less zip codes, so right join)\n",
    "joined_sales_data = clusters.set_index('zip').join(sales_data.set_index('zip'), how ='right')\n",
    "\n",
    "# we still get NaN clusters, so let's drop those\n",
    "joined_sales_data = joined_sales_data.dropna()\n",
    "joined_sales_data = joined_sales_data.replace(np.nan,0)\n",
    "print(joined_sales_data.shape)\n",
    "joined_sales_data.head()\n"
   ]
  },
  {
   "cell_type": "code",
   "execution_count": 233,
   "metadata": {},
   "outputs": [
    {
     "name": "stdout",
     "output_type": "stream",
     "text": [
      "cluster_index  0\n",
      "(122, 57)\n",
      "(6832, 3)\n",
      "(6832, 5)\n",
      "        zip            date        yoy parsed_date days_from_start\n",
      "0      1773   February 2016  20.200001  2016-02-01          0 days\n",
      "1      1776   February 2016  -7.000000  2016-02-01          0 days\n",
      "2      1778   February 2016  15.300000  2016-02-01          0 days\n",
      "3      1890   February 2016  11.200000  2016-02-01          0 days\n",
      "4      2025   February 2016   9.600000  2016-02-01          0 days\n",
      "...     ...             ...        ...         ...             ...\n",
      "6817  94025  September 2020   6.800000  2020-09-01       1674 days\n",
      "6818  94070  September 2020   8.900000  2020-09-01       1674 days\n",
      "6819  94117  September 2020 -10.900000  2020-09-01       1674 days\n",
      "6820  94304  September 2020   0.000000  2020-09-01       1674 days\n",
      "6821  94506  September 2020   8.200000  2020-09-01       1674 days\n",
      "\n",
      "[6822 rows x 5 columns]\n",
      "Coefficients: \n",
      " [-1.6001883e-17]\n"
     ]
    }
   ],
   "source": [
    "cluster_regression(joined_sales_data, 0)\n",
    "\n",
    "# for cl in np.unique(joined_sales_data[\"cluster\"]):\n",
    "#     cluster_regression(joined_sales_data, cl)"
   ]
  }
 ],
 "metadata": {
  "kernelspec": {
   "display_name": "Python 3",
   "language": "python",
   "name": "python3"
  },
  "language_info": {
   "codemirror_mode": {
    "name": "ipython",
    "version": 3
   },
   "file_extension": ".py",
   "mimetype": "text/x-python",
   "name": "python",
   "nbconvert_exporter": "python",
   "pygments_lexer": "ipython3",
   "version": "3.7.6"
  }
 },
 "nbformat": 4,
 "nbformat_minor": 2
}
