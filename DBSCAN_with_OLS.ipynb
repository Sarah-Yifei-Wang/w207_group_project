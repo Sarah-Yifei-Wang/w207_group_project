{
 "cells": [
  {
   "cell_type": "code",
   "execution_count": 30,
   "metadata": {},
   "outputs": [],
   "source": [
    "import numpy as np\n",
    "\n",
    "from matplotlib import pyplot\n",
    "import matplotlib.pyplot as plt\n",
    "from sklearn.datasets import make_classification\n",
    "from sklearn.cluster import DBSCAN\n",
    "import hdbscan\n",
    "from sklearn import metrics\n",
    "from sklearn.preprocessing import StandardScaler\n",
    "from sklearn.preprocessing import MinMaxScaler\n",
    "\n",
    "import pandas as pd"
   ]
  },
  {
   "cell_type": "code",
   "execution_count": 16,
   "metadata": {},
   "outputs": [
    {
     "name": "stdout",
     "output_type": "stream",
     "text": [
      "(33120, 2151)\n"
     ]
    }
   ],
   "source": [
    "#load dataframe from csv\n",
    "demographics_data = pd.read_csv(\"data/newdata/2018_demographic_data_edited.csv\", delimiter=',')\n",
    "print(demographics_data.shape)\n",
    "demographics_data = demographics_data.drop(columns=[\"Geo_ZCTA5\", \"Geo_ZCTA3\", \"Geo_LOGRECNO\", \"Geo_GEOCOMP\", \"Geo_SUMLEV\"])"
   ]
  },
  {
   "cell_type": "code",
   "execution_count": 17,
   "metadata": {},
   "outputs": [
    {
     "name": "stdout",
     "output_type": "stream",
     "text": [
      "SE_A01004_001      564\n",
      "SE_A01004_002      843\n",
      "SE_A01004_003      897\n",
      "SE_A10003_001      726\n",
      "SE_A10003B_001    2496\n",
      "                  ... \n",
      "SE_A13007_009       35\n",
      "SE_A13007_010       35\n",
      "SE_A13007_011       35\n",
      "SE_A10064_001       35\n",
      "SE_A10064_002       35\n",
      "Length: 870, dtype: int64\n"
     ]
    }
   ],
   "source": [
    "null_counts = demographics_data.isnull().sum()\n",
    "print(null_counts[null_counts > 0])"
   ]
  },
  {
   "cell_type": "code",
   "execution_count": 18,
   "metadata": {},
   "outputs": [],
   "source": [
    "# drop any column with missing values greater than 5%\n",
    "demographics_data.drop(columns=[\"SE_A18007_006\",\"SE_A18007_007\",\"SE_A18007_005\",\"SE_A18007_004\",\n",
    "                     \"SE_A18007_003\",\"SE_A18007_002\",\"SE_A18008_011\",\n",
    "                     \"SE_A18008_010\",\"SE_A18008_009\",\"SE_A18010_002\",\n",
    "                     \"SE_A18010_003\",\"SE_A18010_004\",\"SE_A18010_005\",\n",
    "                     \"SE_A18010_006\",\"SE_A18010_007\",\"SE_A18008_001\",\"SE_A18008_002\",\n",
    "                     \"SE_A18008_003\",\"SE_A18008_008\",\"SE_A18008_007\",\"SE_A18008_006\",\"SE_A18008_005\",\n",
    "                     \"SE_A18008_004\"], axis=1, inplace=True)"
   ]
  },
  {
   "cell_type": "markdown",
   "metadata": {},
   "source": [
    "Ok, maybe all along we've been picking bad datapoints to look at, lets just Gini index, Average household income, and rent as a percentage of income."
   ]
  },
  {
   "cell_type": "code",
   "execution_count": 31,
   "metadata": {},
   "outputs": [
    {
     "name": "stderr",
     "output_type": "stream",
     "text": [
      "C:\\Users\\winbase\\Anaconda3\\envs\\mids\\lib\\site-packages\\ipykernel_launcher.py:3: SettingWithCopyWarning: \n",
      "A value is trying to be set on a copy of a slice from a DataFrame.\n",
      "Try using .loc[row_indexer,col_indexer] = value instead\n",
      "\n",
      "See the caveats in the documentation: https://pandas.pydata.org/pandas-docs/stable/user_guide/indexing.html#returning-a-view-versus-a-copy\n",
      "  This is separate from the ipykernel package so we can avoid doing imports until\n",
      "C:\\Users\\winbase\\Anaconda3\\envs\\mids\\lib\\site-packages\\ipykernel_launcher.py:4: SettingWithCopyWarning: \n",
      "A value is trying to be set on a copy of a slice from a DataFrame.\n",
      "Try using .loc[row_indexer,col_indexer] = value instead\n",
      "\n",
      "See the caveats in the documentation: https://pandas.pydata.org/pandas-docs/stable/user_guide/indexing.html#returning-a-view-versus-a-copy\n",
      "  after removing the cwd from sys.path.\n",
      "C:\\Users\\winbase\\Anaconda3\\envs\\mids\\lib\\site-packages\\ipykernel_launcher.py:5: SettingWithCopyWarning: \n",
      "A value is trying to be set on a copy of a slice from a DataFrame.\n",
      "Try using .loc[row_indexer,col_indexer] = value instead\n",
      "\n",
      "See the caveats in the documentation: https://pandas.pydata.org/pandas-docs/stable/user_guide/indexing.html#returning-a-view-versus-a-copy\n",
      "  \"\"\"\n"
     ]
    },
    {
     "name": "stdout",
     "output_type": "stream",
     "text": [
      "SE_A14028_001           948\n",
      "SE_A14011_001          1662\n",
      "vacancy_rate            490\n",
      "income_to_homevalue    2670\n",
      "renters_pct             490\n",
      "dtype: int64\n",
      "(30450, 6)\n",
      " clusters:  155  and noise points  2913 , noise as :  0.09566502463054187\n"
     ]
    },
    {
     "data": {
      "image/png": "[encoded data removed]",
      "text/plain": [
       "<Figure size 432x288 with 1 Axes>"
      ]
     },
     "metadata": {
      "needs_background": "light"
     },
     "output_type": "display_data"
    }
   ],
   "source": [
    "\n",
    "# gini index and average household income\n",
    "reduced_demos = demographics_data[[\"zip\", \"SE_A14028_001\", \"SE_A14011_001\"]]\n",
    "reduced_demos[\"vacancy_rate\"] = demographics_data[\"SE_A10001_001\"].divide(demographics_data[\"SE_A10044_002\"])\n",
    "reduced_demos[\"income_to_homevalue\"] = demographics_data[\"SE_A10036_001\"].divide(demographics_data[\"SE_A14011_001\"])\n",
    "reduced_demos[\"renters_pct\"] = demographics_data[\"SE_A10060_003\"].divide(demographics_data[\"SE_A10001_001\"])\n",
    "\n",
    "null_counts = reduced_demos.isnull().sum()\n",
    "print(null_counts[null_counts > 0])\n",
    "reduced_demos = reduced_demos.dropna()\n",
    "print(reduced_demos.shape)\n",
    "#reduced_demos = StandardScaler().fit_transform(reduced_demos)\n",
    "\n",
    "reduced_demos_no_zip = reduced_demos.drop(\"zip\", axis=1)\n",
    "\n",
    "clusterer = hdbscan.HDBSCAN(min_cluster_size=100, min_samples=3, cluster_selection_method='leaf')\n",
    "clusterer.fit(reduced_demos_no_zip)\n",
    "\n",
    "labels = clusterer.labels_\n",
    "unique_labels = set(labels)\n",
    "print( \" clusters: \", len(unique_labels), \" and noise points \", (labels == -1).sum(), \", noise as : \", (labels == -1).sum()/len(labels))\n",
    "\n",
    "label_sum = []\n",
    "\n",
    "for k in unique_labels:\n",
    "    label_sum.append((labels == k).sum())\n",
    "    \n",
    "non_noise = labels[labels != -1]\n",
    "\n",
    "plt.hist(non_noise, bins=len(unique_labels)-1)\n",
    "plt.show()"
   ]
  },
  {
   "cell_type": "code",
   "execution_count": 32,
   "metadata": {},
   "outputs": [
    {
     "name": "stderr",
     "output_type": "stream",
     "text": [
      "C:\\Users\\winbase\\Anaconda3\\envs\\mids\\lib\\site-packages\\ipykernel_launcher.py:2: SettingWithCopyWarning: \n",
      "A value is trying to be set on a copy of a slice from a DataFrame.\n",
      "Try using .loc[row_indexer,col_indexer] = value instead\n",
      "\n",
      "See the caveats in the documentation: https://pandas.pydata.org/pandas-docs/stable/user_guide/indexing.html#returning-a-view-versus-a-copy\n",
      "  \n"
     ]
    },
    {
     "data": {
      "text/html": [
       "<div>\n",
       "<style scoped>\n",
       "    .dataframe tbody tr th:only-of-type {\n",
       "        vertical-align: middle;\n",
       "    }\n",
       "\n",
       "    .dataframe tbody tr th {\n",
       "        vertical-align: top;\n",
       "    }\n",
       "\n",
       "    .dataframe thead th {\n",
       "        text-align: right;\n",
       "    }\n",
       "</style>\n",
       "<table border=\"1\" class=\"dataframe\">\n",
       "  <thead>\n",
       "    <tr style=\"text-align: right;\">\n",
       "      <th></th>\n",
       "      <th>zip</th>\n",
       "      <th>cluster</th>\n",
       "    </tr>\n",
       "  </thead>\n",
       "  <tbody>\n",
       "    <tr>\n",
       "      <th>0</th>\n",
       "      <td>601</td>\n",
       "      <td>-1</td>\n",
       "    </tr>\n",
       "    <tr>\n",
       "      <th>1</th>\n",
       "      <td>602</td>\n",
       "      <td>-1</td>\n",
       "    </tr>\n",
       "    <tr>\n",
       "      <th>2</th>\n",
       "      <td>603</td>\n",
       "      <td>10</td>\n",
       "    </tr>\n",
       "    <tr>\n",
       "      <th>3</th>\n",
       "      <td>606</td>\n",
       "      <td>-1</td>\n",
       "    </tr>\n",
       "    <tr>\n",
       "      <th>4</th>\n",
       "      <td>610</td>\n",
       "      <td>-1</td>\n",
       "    </tr>\n",
       "  </tbody>\n",
       "</table>\n",
       "</div>"
      ],
      "text/plain": [
       "   zip  cluster\n",
       "0  601       -1\n",
       "1  602       -1\n",
       "2  603       10\n",
       "3  606       -1\n",
       "4  610       -1"
      ]
     },
     "execution_count": 32,
     "metadata": {},
     "output_type": "execute_result"
    }
   ],
   "source": [
    "clusters = reduced_demos[['zip']]\n",
    "clusters[\"cluster\"] = labels\n",
    "clusters.head()"
   ]
  },
  {
   "cell_type": "markdown",
   "metadata": {},
   "source": [
    "So using just those statistics we can get some pretty reasonable clusters. Now let's join those up with the sales data."
   ]
  },
  {
   "cell_type": "code",
   "execution_count": 48,
   "metadata": {},
   "outputs": [
    {
     "name": "stdout",
     "output_type": "stream",
     "text": [
      "    zip  February 2016  March 2016  April 2016  May 2016  June 2016  \\\n",
      "0   501            0.0         0.0         0.0       0.0        0.0   \n",
      "1  1005           15.4         5.7       -29.7     -24.0       33.7   \n",
      "2  1010            0.0         0.0         0.0       0.0        0.0   \n",
      "3  1031          705.0       612.0       -24.6     -24.6      -83.2   \n",
      "4  1037            0.0         0.0       -23.9       0.0      102.7   \n",
      "\n",
      "   July 2016  August 2016  September 2016  October 2016  ...  December 2019  \\\n",
      "0        0.0          0.0             0.0           0.0  ...            0.0   \n",
      "1        8.6          5.7            -9.1          -4.1  ...            7.3   \n",
      "2        0.0          0.0             0.0           0.0  ...            0.0   \n",
      "3      -13.7         -3.3            -2.0          27.6  ...           43.9   \n",
      "4      150.4        150.4             0.0           0.0  ...            0.0   \n",
      "\n",
      "   January 2020  February 2020  March 2020  April 2020  May 2020  June 2020  \\\n",
      "0           0.0            0.0         0.0         0.0       0.0        0.0   \n",
      "1          -4.3            6.3        -7.9         2.2      -4.4       12.4   \n",
      "2           0.0            0.0         0.0         0.0       0.0        0.0   \n",
      "3         -13.8           70.9       162.0       126.9      -1.0      -37.8   \n",
      "4           0.0            0.0         0.0         0.0       0.0        0.0   \n",
      "\n",
      "   July 2020  August 2020  September 2020  \n",
      "0        0.0          0.0             0.0  \n",
      "1       -1.3          4.5             1.3  \n",
      "2        0.0          0.0             0.0  \n",
      "3      -48.3        -51.1           681.4  \n",
      "4        0.0        -24.4           -14.5  \n",
      "\n",
      "[5 rows x 57 columns]\n"
     ]
    }
   ],
   "source": [
    "sales_data = pd.read_csv(\"data/newdata/med_sale_price_yoy_no_pct.csv\", delimiter=\"\t\")\n",
    "sales_data.index = sales_data.index.astype(int)\n",
    "sales_data = sales_data.rename(columns={\"Region\":\"zip\"})\n",
    "#sales_data.set_index('zip')\n",
    "sales_data = sales_data.fillna(0)\n",
    "print(sales_data.head())"
   ]
  },
  {
   "cell_type": "markdown",
   "metadata": {},
   "source": [
    "Now we get sales data for each of our clusters"
   ]
  },
  {
   "cell_type": "code",
   "execution_count": 50,
   "metadata": {},
   "outputs": [
    {
     "data": {
      "text/html": [
       "<div>\n",
       "<style scoped>\n",
       "    .dataframe tbody tr th:only-of-type {\n",
       "        vertical-align: middle;\n",
       "    }\n",
       "\n",
       "    .dataframe tbody tr th {\n",
       "        vertical-align: top;\n",
       "    }\n",
       "\n",
       "    .dataframe thead th {\n",
       "        text-align: right;\n",
       "    }\n",
       "</style>\n",
       "<table border=\"1\" class=\"dataframe\">\n",
       "  <thead>\n",
       "    <tr style=\"text-align: right;\">\n",
       "      <th></th>\n",
       "      <th>zip</th>\n",
       "      <th>February 2016</th>\n",
       "      <th>March 2016</th>\n",
       "      <th>April 2016</th>\n",
       "      <th>May 2016</th>\n",
       "      <th>June 2016</th>\n",
       "      <th>July 2016</th>\n",
       "      <th>August 2016</th>\n",
       "      <th>September 2016</th>\n",
       "      <th>October 2016</th>\n",
       "      <th>...</th>\n",
       "      <th>January 2020</th>\n",
       "      <th>February 2020</th>\n",
       "      <th>March 2020</th>\n",
       "      <th>April 2020</th>\n",
       "      <th>May 2020</th>\n",
       "      <th>June 2020</th>\n",
       "      <th>July 2020</th>\n",
       "      <th>August 2020</th>\n",
       "      <th>September 2020</th>\n",
       "      <th>cluster</th>\n",
       "    </tr>\n",
       "  </thead>\n",
       "  <tbody>\n",
       "    <tr>\n",
       "      <th>0</th>\n",
       "      <td>1005</td>\n",
       "      <td>15.4</td>\n",
       "      <td>5.7</td>\n",
       "      <td>-29.7</td>\n",
       "      <td>-24.0</td>\n",
       "      <td>33.7</td>\n",
       "      <td>8.6</td>\n",
       "      <td>5.7</td>\n",
       "      <td>-9.1</td>\n",
       "      <td>-4.1</td>\n",
       "      <td>...</td>\n",
       "      <td>-4.3</td>\n",
       "      <td>6.3</td>\n",
       "      <td>-7.9</td>\n",
       "      <td>2.2</td>\n",
       "      <td>-4.4</td>\n",
       "      <td>12.4</td>\n",
       "      <td>-1.3</td>\n",
       "      <td>4.5</td>\n",
       "      <td>1.3</td>\n",
       "      <td>33</td>\n",
       "    </tr>\n",
       "    <tr>\n",
       "      <th>1</th>\n",
       "      <td>1010</td>\n",
       "      <td>0.0</td>\n",
       "      <td>0.0</td>\n",
       "      <td>0.0</td>\n",
       "      <td>0.0</td>\n",
       "      <td>0.0</td>\n",
       "      <td>0.0</td>\n",
       "      <td>0.0</td>\n",
       "      <td>0.0</td>\n",
       "      <td>0.0</td>\n",
       "      <td>...</td>\n",
       "      <td>0.0</td>\n",
       "      <td>0.0</td>\n",
       "      <td>0.0</td>\n",
       "      <td>0.0</td>\n",
       "      <td>0.0</td>\n",
       "      <td>0.0</td>\n",
       "      <td>0.0</td>\n",
       "      <td>0.0</td>\n",
       "      <td>0.0</td>\n",
       "      <td>29</td>\n",
       "    </tr>\n",
       "    <tr>\n",
       "      <th>2</th>\n",
       "      <td>1031</td>\n",
       "      <td>705.0</td>\n",
       "      <td>612.0</td>\n",
       "      <td>-24.6</td>\n",
       "      <td>-24.6</td>\n",
       "      <td>-83.2</td>\n",
       "      <td>-13.7</td>\n",
       "      <td>-3.3</td>\n",
       "      <td>-2.0</td>\n",
       "      <td>27.6</td>\n",
       "      <td>...</td>\n",
       "      <td>-13.8</td>\n",
       "      <td>70.9</td>\n",
       "      <td>162.0</td>\n",
       "      <td>126.9</td>\n",
       "      <td>-1.0</td>\n",
       "      <td>-37.8</td>\n",
       "      <td>-48.3</td>\n",
       "      <td>-51.1</td>\n",
       "      <td>681.4</td>\n",
       "      <td>68</td>\n",
       "    </tr>\n",
       "    <tr>\n",
       "      <th>3</th>\n",
       "      <td>1037</td>\n",
       "      <td>0.0</td>\n",
       "      <td>0.0</td>\n",
       "      <td>-23.9</td>\n",
       "      <td>0.0</td>\n",
       "      <td>102.7</td>\n",
       "      <td>150.4</td>\n",
       "      <td>150.4</td>\n",
       "      <td>0.0</td>\n",
       "      <td>0.0</td>\n",
       "      <td>...</td>\n",
       "      <td>0.0</td>\n",
       "      <td>0.0</td>\n",
       "      <td>0.0</td>\n",
       "      <td>0.0</td>\n",
       "      <td>0.0</td>\n",
       "      <td>0.0</td>\n",
       "      <td>0.0</td>\n",
       "      <td>-24.4</td>\n",
       "      <td>-14.5</td>\n",
       "      <td>17</td>\n",
       "    </tr>\n",
       "    <tr>\n",
       "      <th>4</th>\n",
       "      <td>1057</td>\n",
       "      <td>0.0</td>\n",
       "      <td>0.0</td>\n",
       "      <td>0.0</td>\n",
       "      <td>0.0</td>\n",
       "      <td>0.0</td>\n",
       "      <td>0.0</td>\n",
       "      <td>0.0</td>\n",
       "      <td>0.0</td>\n",
       "      <td>0.0</td>\n",
       "      <td>...</td>\n",
       "      <td>0.0</td>\n",
       "      <td>0.0</td>\n",
       "      <td>0.0</td>\n",
       "      <td>0.0</td>\n",
       "      <td>0.0</td>\n",
       "      <td>0.0</td>\n",
       "      <td>0.0</td>\n",
       "      <td>0.0</td>\n",
       "      <td>0.0</td>\n",
       "      <td>29</td>\n",
       "    </tr>\n",
       "  </tbody>\n",
       "</table>\n",
       "<p>5 rows × 58 columns</p>\n",
       "</div>"
      ],
      "text/plain": [
       "    zip  February 2016  March 2016  April 2016  May 2016  June 2016  \\\n",
       "0  1005           15.4         5.7       -29.7     -24.0       33.7   \n",
       "1  1010            0.0         0.0         0.0       0.0        0.0   \n",
       "2  1031          705.0       612.0       -24.6     -24.6      -83.2   \n",
       "3  1037            0.0         0.0       -23.9       0.0      102.7   \n",
       "4  1057            0.0         0.0         0.0       0.0        0.0   \n",
       "\n",
       "   July 2016  August 2016  September 2016  October 2016  ...  January 2020  \\\n",
       "0        8.6          5.7            -9.1          -4.1  ...          -4.3   \n",
       "1        0.0          0.0             0.0           0.0  ...           0.0   \n",
       "2      -13.7         -3.3            -2.0          27.6  ...         -13.8   \n",
       "3      150.4        150.4             0.0           0.0  ...           0.0   \n",
       "4        0.0          0.0             0.0           0.0  ...           0.0   \n",
       "\n",
       "   February 2020  March 2020  April 2020  May 2020  June 2020  July 2020  \\\n",
       "0            6.3        -7.9         2.2      -4.4       12.4       -1.3   \n",
       "1            0.0         0.0         0.0       0.0        0.0        0.0   \n",
       "2           70.9       162.0       126.9      -1.0      -37.8      -48.3   \n",
       "3            0.0         0.0         0.0       0.0        0.0        0.0   \n",
       "4            0.0         0.0         0.0       0.0        0.0        0.0   \n",
       "\n",
       "   August 2020  September 2020  cluster  \n",
       "0          4.5             1.3       33  \n",
       "1          0.0             0.0       29  \n",
       "2        -51.1           681.4       68  \n",
       "3        -24.4           -14.5       17  \n",
       "4          0.0             0.0       29  \n",
       "\n",
       "[5 rows x 58 columns]"
      ]
     },
     "execution_count": 50,
     "metadata": {},
     "output_type": "execute_result"
    }
   ],
   "source": [
    "cluster_sales = sales_data.merge(clusters, on=\"zip\")\n",
    "cluster_sales = cluster_sales.fillna(0)\n",
    "cluster_sales.head()"
   ]
  },
  {
   "cell_type": "markdown",
   "metadata": {},
   "source": [
    "Now create a dataframe which contains the mean sales data across all months for each zipcode in the cluster"
   ]
  },
  {
   "cell_type": "code",
   "execution_count": 155,
   "metadata": {},
   "outputs": [
    {
     "name": "stdout",
     "output_type": "stream",
     "text": [
      "             0  cluster   zip\n",
      "1662  3.641071        1  1451\n",
      "1663  4.171429        1  1742\n",
      "1664  5.285714        1  1748\n",
      "1665  1.098214        1  1770\n",
      "1666  5.510714        1  1772\n"
     ]
    },
    {
     "data": {
      "text/plain": [
       "(192, 3)"
      ]
     },
     "execution_count": 155,
     "metadata": {},
     "output_type": "execute_result"
    }
   ],
   "source": [
    "cluster_names = []\n",
    "mean_yoy_by_cluster = pd.DataFrame()\n",
    "\n",
    "for c in np.unique(cluster_sales[\"cluster\"]):\n",
    "    sub = cluster_sales[(cluster_sales['cluster'] == c)]\n",
    "    sub_no_zip = sub.drop(columns=[\"cluster\", \"zip\"])\n",
    "    tmp_df = sub_no_zip.mean(1).to_frame()\n",
    "    #tmp_df = tmp_df.transpose()\n",
    "    tmp_df[\"cluster\"] = c\n",
    "    tmp_df[\"zip\"] = sub[\"zip\"]\n",
    "    tmp_df.set_index(\"zip\")\n",
    "    mean_yoy_by_cluster = mean_yoy_by_cluster.append(tmp_df, ignore_index=True)\n",
    "\n",
    "#we can't do this here because we need it later, but we will set the index to zip before doing the OLS\n",
    "#mean_yoy_by_cluster = mean_yoy_by_cluster.set_index(\"zip\")\n",
    "\n",
    "print(mean_yoy_by_cluster[mean_yoy_by_cluster[\"cluster\"] == 1].head())\n",
    "mean_yoy_by_cluster[mean_yoy_by_cluster[\"cluster\"] == 1].shape"
   ]
  },
  {
   "cell_type": "markdown",
   "metadata": {},
   "source": [
    "Now we need to get the demographic data of some selected fields for each cluster"
   ]
  },
  {
   "cell_type": "code",
   "execution_count": 156,
   "metadata": {},
   "outputs": [
    {
     "name": "stdout",
     "output_type": "stream",
     "text": [
      "      SE_B01001_003  SE_B01001_004  SE_A14001_014  SE_A14001_015  \\\n",
      "zip                                                                \n",
      "1440           4684           8685          572.0          389.0   \n",
      "1463           2324           5310          541.0          586.0   \n",
      "1467             94            114           12.0            9.0   \n",
      "1468            907           1788          184.0          129.0   \n",
      "1475           2386           4283          560.0          374.0   \n",
      "\n",
      "      SE_A14001_016  SE_A14001_017  cluster  \n",
      "zip                                          \n",
      "1440          280.0          270.0       -1  \n",
      "1463          469.0          515.0       -1  \n",
      "1467           11.0           33.0       -1  \n",
      "1468          132.0           89.0       -1  \n",
      "1475          252.0          135.0       -1  \n"
     ]
    },
    {
     "data": {
      "text/plain": [
       "(192, 7)"
      ]
     },
     "execution_count": 156,
     "metadata": {},
     "output_type": "execute_result"
    }
   ],
   "source": [
    "\n",
    "all_cluster_demos = pd.DataFrame()\n",
    "\n",
    "# we'll just start with 1 to see if it works, can become all later\n",
    "\n",
    "for c in np.unique(clusters[\"cluster\"]):\n",
    "    zip_codes_for_cluster = mean_yoy_by_cluster[mean_yoy_by_cluster[\"cluster\"] == c]\n",
    "    cluster_demographics = demographics_data[demographics_data['zip'].isin(zip_codes_for_cluster[\"zip\"])]\n",
    "    cluster_demographics = cluster_demographics[['zip', 'SE_B01001_003','SE_B01001_004', 'SE_A14001_014', 'SE_A14001_015', 'SE_A14001_016', 'SE_A14001_017']]\n",
    "    cluster_demographics[\"cluster\"] = c\n",
    "    all_cluster_demos = all_cluster_demos.append(cluster_demographics, ignore_index=True)\n",
    "\n",
    "all_cluster_demos = all_cluster_demos.set_index('zip')\n",
    "print(all_cluster_demos.head())\n",
    "all_cluster_demos[all_cluster_demos[\"cluster\"] == 1].shape"
   ]
  },
  {
   "cell_type": "code",
   "execution_count": 157,
   "metadata": {},
   "outputs": [],
   "source": [
    "# now use zip as the index for the demographics\n",
    "mean_yoy_by_cluster = mean_yoy_by_cluster.set_index(\"zip\")"
   ]
  },
  {
   "cell_type": "code",
   "execution_count": 159,
   "metadata": {},
   "outputs": [
    {
     "name": "stdout",
     "output_type": "stream",
     "text": [
      "                                 OLS Regression Results                                \n",
      "=======================================================================================\n",
      "Dep. Variable:                      y   R-squared (uncentered):                   0.214\n",
      "Model:                            OLS   Adj. R-squared (uncentered):              0.189\n",
      "Method:                 Least Squares   F-statistic:                              8.450\n",
      "Date:                Mon, 07 Dec 2020   Prob (F-statistic):                    4.07e-08\n",
      "Time:                        13:56:54   Log-Likelihood:                         -654.41\n",
      "No. Observations:                 192   AIC:                                      1321.\n",
      "Df Residuals:                     186   BIC:                                      1340.\n",
      "Df Model:                           6                                                  \n",
      "Covariance Type:            nonrobust                                                  \n",
      "=================================================================================\n",
      "                    coef    std err          t      P>|t|      [0.025      0.975]\n",
      "---------------------------------------------------------------------------------\n",
      "SE_B01001_003  2.779e-05      0.000      0.137      0.891      -0.000       0.000\n",
      "SE_B01001_004     0.0006      0.001      1.143      0.255      -0.000       0.002\n",
      "SE_A14001_014     0.0014      0.004      0.353      0.725      -0.006       0.009\n",
      "SE_A14001_015     0.0016      0.005      0.330      0.742      -0.008       0.011\n",
      "SE_A14001_016    -0.0022      0.004     -0.544      0.587      -0.010       0.006\n",
      "SE_A14001_017    -0.0008      0.002     -0.413      0.680      -0.005       0.003\n",
      "==============================================================================\n",
      "Omnibus:                      136.902   Durbin-Watson:                   1.461\n",
      "Prob(Omnibus):                  0.000   Jarque-Bera (JB):             1277.646\n",
      "Skew:                           2.666   Prob(JB):                    3.65e-278\n",
      "Kurtosis:                      14.457   Cond. No.                         113.\n",
      "==============================================================================\n",
      "\n",
      "Notes:\n",
      "[1] R² is computed without centering (uncentered) since the model does not contain a constant.\n",
      "[2] Standard Errors assume that the covariance matrix of the errors is correctly specified.\n"
     ]
    }
   ],
   "source": [
    "import statsmodels.api as sm\n",
    "\n",
    "X = all_cluster_demos[all_cluster_demos[\"cluster\"] == 1][['SE_B01001_003','SE_B01001_004', 'SE_A14001_014', 'SE_A14001_015', 'SE_A14001_016', 'SE_A14001_017']]\n",
    "Y = mean_yoy_by_cluster[mean_yoy_by_cluster[\"cluster\"] == 1][0]\n",
    "# print(X)\n",
    "# print(Y)\n",
    "\n",
    "model = sm.OLS(Y, X).fit()\n",
    "print(model.summary())\n",
    "\n",
    "all_models = []\n",
    "\n",
    "for c in np.unique(clusters[\"cluster\"]):\n",
    "    X = all_cluster_demos[all_cluster_demos[\"cluster\"] == c][['SE_B01001_003','SE_B01001_004', 'SE_A14001_014', 'SE_A14001_015', 'SE_A14001_016', 'SE_A14001_017']]\n",
    "    Y = mean_yoy_by_cluster[mean_yoy_by_cluster[\"cluster\"] == c][0]\n",
    "    model = sm.OLS(Y, X).fit()\n",
    "    all_models.append({\"cluster\":c, \"model\":model})\n",
    "    \n"
   ]
  },
  {
   "cell_type": "code",
   "execution_count": null,
   "metadata": {},
   "outputs": [],
   "source": [
    "rsq_adj = []\n",
    "rsq = []\n",
    "fstat = []\n",
    "\n",
    "for m in all_models:\n",
    "    rsq_adj.append(m[\"model\"].rsquared_adj)\n",
    "    rsq.append(m[\"model\"].rsquared)\n",
    "    fstat.append(m[\"model\"].fvalue)\n",
    "    \n",
    "print(\" our average rsq adjusted across all of our models is\", np.average(rsq_adj))\n",
    "print(\" our average rsq across all of our models is\", np.average(rsq))\n",
    "print(\" our average f stat across all of our models is\", np.average(fstat))"
   ]
  }
 ],
 "metadata": {
  "kernelspec": {
   "display_name": "Python 3",
   "language": "python",
   "name": "python3"
  },
  "language_info": {
   "codemirror_mode": {
    "name": "ipython",
    "version": 3
   },
   "file_extension": ".py",
   "mimetype": "text/x-python",
   "name": "python",
   "nbconvert_exporter": "python",
   "pygments_lexer": "ipython3",
   "version": "3.7.6"
  }
 },
 "nbformat": 4,
 "nbformat_minor": 2
}
