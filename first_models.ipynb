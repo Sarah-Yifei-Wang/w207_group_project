{
 "cells": [
  {
   "cell_type": "markdown",
   "metadata": {},
   "source": [
    "## Let's do some real estate data-sourcing\n",
    "\n",
    "We have 3 basic data sources:\n",
    "\n",
    "[Merged Sales](data/zip/merged_sales_stats.csv) - This is sales data by zip code for California. It came from https://www.redfin.com/news/data-center/ and it's got a lot of stats in there. Most of the data is medians so it doesn't tell us much about the outliers which almost certainly are skewing some of the data pretty heavily. There's a lot of mansions in California. The Price per SQ Foot is one way to see a little bit of how the market is shaped. These are broken out by zip code and month.\n",
    "\n",
    "[Merged Bedrooms](data/zip/merged_bedrooms.csv) - This is also sales data but broken out by the number of bedrooms in the property. That helps us get some sense of how the market is shaped, though of course there are probably $4M one bedrooms skewing things, likely most of those are small condos/townhomes, and we get a little more of a histogram-ish view of the market. These are also broken out by zip code and month though confusingly, in a way that's different than merged sales.\n",
    "\n",
    "[ca_demographics](data/zip/ca_demographics.csv) - This is 2019 demographic info about the counties in CA. It has tons of info on the county but we need to look up what county a zip code is in for this to be useful. There's examples of that below. What this tends to tell us is \"urban/rural\", \"high income/lower income\", really simple categorizations. I might be able to dig up more data by zip code but it's likely to be a bit older. Examples of how to do this are below."
   ]
  },
  {
   "cell_type": "code",
   "execution_count": 1,
   "metadata": {},
   "outputs": [],
   "source": [
    "import pandas as pd\n",
    "import numpy as np\n",
    "import pandasql as ps\n",
    "import matplotlib.pyplot as plt\n",
    "\n",
    "\n",
    "from matplotlib.ticker import MultipleLocator\n",
    "from sklearn.pipeline import Pipeline\n",
    "from sklearn.datasets import fetch_openml\n",
    "from sklearn.neighbors import KNeighborsClassifier\n",
    "from sklearn.metrics import confusion_matrix\n",
    "from sklearn.linear_model import LinearRegression\n",
    "from sklearn.naive_bayes import BernoulliNB\n",
    "from sklearn.naive_bayes import MultinomialNB\n",
    "from sklearn.naive_bayes import GaussianNB\n",
    "from sklearn.model_selection import GridSearchCV\n",
    "from sklearn.metrics import classification_report\n",
    "\n",
    "np.random.seed(0)"
   ]
  },
  {
   "cell_type": "code",
   "execution_count": 2,
   "metadata": {},
   "outputs": [
    {
     "name": "stdout",
     "output_type": "stream",
     "text": [
      "\n",
      "DataFrame Shape : (137166, 23)\n",
      "Index(['Unnamed: 0', 'Zip Code', 'Month of Period End', 'Median Sale Price',\n",
      "       'Median Sale Price MoM ', 'Median Sale Price YoY ', 'Homes Sold',\n",
      "       'Homes Sold MoM ', 'Homes Sold YoY ', 'New Listings',\n",
      "       'New Listings MoM ', 'New Listings YoY ', 'Inventory', 'Inventory MoM ',\n",
      "       ' Inventory YoY ', 'Days on Market', 'Days on Market MoM',\n",
      "       'Days on Market YoY', 'Average Sale To List',\n",
      "       'Average Sale To List MoM ', 'Average Sale To List YoY ',\n",
      "       'record_month', 'PSSF'],\n",
      "      dtype='object')\n"
     ]
    }
   ],
   "source": [
    "#load dataframe from csv\n",
    "merged_sales = pd.read_csv(\"data/zip/merged_sales_stats.csv\", delimiter='\t')\n",
    "\n",
    "#print dataframe shape\n",
    "shape = merged_sales.shape\n",
    "print('\\nDataFrame Shape :', shape)\n",
    "\n",
    "print(merged_sales.columns)"
   ]
  },
  {
   "cell_type": "markdown",
   "metadata": {},
   "source": [
    "The merged_sales_statistics file has all the statistics as columns and zip codes and dates as the rows. I tried to transpose these but it got weird. So let's get some stuff from the merged_sales:"
   ]
  },
  {
   "cell_type": "code",
   "execution_count": 3,
   "metadata": {},
   "outputs": [
    {
     "data": {
      "text/html": [
       "<div>\n",
       "<style scoped>\n",
       "    .dataframe tbody tr th:only-of-type {\n",
       "        vertical-align: middle;\n",
       "    }\n",
       "\n",
       "    .dataframe tbody tr th {\n",
       "        vertical-align: top;\n",
       "    }\n",
       "\n",
       "    .dataframe thead th {\n",
       "        text-align: right;\n",
       "    }\n",
       "</style>\n",
       "<table border=\"1\" class=\"dataframe\">\n",
       "  <thead>\n",
       "    <tr style=\"text-align: right;\">\n",
       "      <th></th>\n",
       "      <th>Unnamed: 0</th>\n",
       "      <th>Zip Code</th>\n",
       "      <th>Month of Period End</th>\n",
       "      <th>Median Sale Price</th>\n",
       "      <th>Median Sale Price MoM</th>\n",
       "      <th>Median Sale Price YoY</th>\n",
       "      <th>Homes Sold</th>\n",
       "      <th>Homes Sold MoM</th>\n",
       "      <th>Homes Sold YoY</th>\n",
       "      <th>New Listings</th>\n",
       "      <th>...</th>\n",
       "      <th>Inventory MoM</th>\n",
       "      <th>Inventory YoY</th>\n",
       "      <th>Days on Market</th>\n",
       "      <th>Days on Market MoM</th>\n",
       "      <th>Days on Market YoY</th>\n",
       "      <th>Average Sale To List</th>\n",
       "      <th>Average Sale To List MoM</th>\n",
       "      <th>Average Sale To List YoY</th>\n",
       "      <th>record_month</th>\n",
       "      <th>PSSF</th>\n",
       "    </tr>\n",
       "  </thead>\n",
       "  <tbody>\n",
       "    <tr>\n",
       "      <td>0</td>\n",
       "      <td>0</td>\n",
       "      <td>90001</td>\n",
       "      <td>February 2012</td>\n",
       "      <td>175000</td>\n",
       "      <td>0.0</td>\n",
       "      <td>-7.9</td>\n",
       "      <td>55</td>\n",
       "      <td>-17.9</td>\n",
       "      <td>-6.8</td>\n",
       "      <td>90.0</td>\n",
       "      <td>...</td>\n",
       "      <td>-15.1</td>\n",
       "      <td>-13.5</td>\n",
       "      <td>62.0</td>\n",
       "      <td>27.0</td>\n",
       "      <td>-17.0</td>\n",
       "      <td>95.7</td>\n",
       "      <td>-0.8</td>\n",
       "      <td>-4.5</td>\n",
       "      <td>Zip Code: 900012012-02-01</td>\n",
       "      <td>140.0</td>\n",
       "    </tr>\n",
       "    <tr>\n",
       "      <td>1</td>\n",
       "      <td>1</td>\n",
       "      <td>90001</td>\n",
       "      <td>March 2012</td>\n",
       "      <td>165000</td>\n",
       "      <td>-5.7</td>\n",
       "      <td>-8.3</td>\n",
       "      <td>60</td>\n",
       "      <td>9.1</td>\n",
       "      <td>-1.6</td>\n",
       "      <td>92.0</td>\n",
       "      <td>...</td>\n",
       "      <td>-3.3</td>\n",
       "      <td>-5.4</td>\n",
       "      <td>61.0</td>\n",
       "      <td>-1.0</td>\n",
       "      <td>10.0</td>\n",
       "      <td>96.1</td>\n",
       "      <td>0.5</td>\n",
       "      <td>-3.2</td>\n",
       "      <td>Zip Code: 900012012-03-01</td>\n",
       "      <td>145.0</td>\n",
       "    </tr>\n",
       "  </tbody>\n",
       "</table>\n",
       "<p>2 rows × 23 columns</p>\n",
       "</div>"
      ],
      "text/plain": [
       "   Unnamed: 0  Zip Code Month of Period End  Median Sale Price  \\\n",
       "0           0     90001       February 2012             175000   \n",
       "1           1     90001          March 2012             165000   \n",
       "\n",
       "   Median Sale Price MoM   Median Sale Price YoY   Homes Sold  \\\n",
       "0                     0.0                    -7.9          55   \n",
       "1                    -5.7                    -8.3          60   \n",
       "\n",
       "   Homes Sold MoM   Homes Sold YoY   New Listings  ...  Inventory MoM   \\\n",
       "0            -17.9             -6.8          90.0  ...           -15.1   \n",
       "1              9.1             -1.6          92.0  ...            -3.3   \n",
       "\n",
       "    Inventory YoY   Days on Market  Days on Market MoM  Days on Market YoY  \\\n",
       "0            -13.5            62.0                27.0               -17.0   \n",
       "1             -5.4            61.0                -1.0                10.0   \n",
       "\n",
       "   Average Sale To List  Average Sale To List MoM   Average Sale To List YoY   \\\n",
       "0                  95.7                       -0.8                       -4.5   \n",
       "1                  96.1                        0.5                       -3.2   \n",
       "\n",
       "                record_month   PSSF  \n",
       "0  Zip Code: 900012012-02-01  140.0  \n",
       "1  Zip Code: 900012012-03-01  145.0  \n",
       "\n",
       "[2 rows x 23 columns]"
      ]
     },
     "execution_count": 3,
     "metadata": {},
     "output_type": "execute_result"
    }
   ],
   "source": [
    "zip90001 = merged_sales[merged_sales['Zip Code'] == 90001] #zip codes are ints\n",
    "zip90001.head(2)"
   ]
  },
  {
   "cell_type": "code",
   "execution_count": 4,
   "metadata": {},
   "outputs": [
    {
     "name": "stdout",
     "output_type": "stream",
     "text": [
      "count    1347.000000\n",
      "mean       48.662955\n",
      "std        45.229537\n",
      "min         1.000000\n",
      "25%        24.000000\n",
      "50%        41.000000\n",
      "75%        56.000000\n",
      "max       654.000000\n",
      "Name: Days on Market, dtype: float64\n",
      "count    1338.000000\n",
      "mean       45.663677\n",
      "std        46.115726\n",
      "min         2.000000\n",
      "25%        22.000000\n",
      "50%        37.000000\n",
      "75%        52.000000\n",
      "max       678.000000\n",
      "Name: Days on Market, dtype: float64\n"
     ]
    }
   ],
   "source": [
    "august19 = merged_sales[merged_sales['Month of Period End'] == \"August 2019\"] #months are strings\n",
    "august20 = merged_sales[merged_sales['Month of Period End'] == \"August 2020\"] #months are strings\n",
    "\n",
    "print(august19['Days on Market'].describe())\n",
    "print(august20['Days on Market'].describe())"
   ]
  },
  {
   "cell_type": "code",
   "execution_count": 5,
   "metadata": {},
   "outputs": [
    {
     "name": "stdout",
     "output_type": "stream",
     "text": [
      "count    1348.000000\n",
      "mean       99.470178\n",
      "std         4.338202\n",
      "min        78.400000\n",
      "25%        98.200000\n",
      "50%        99.300000\n",
      "75%       100.100000\n",
      "max       179.000000\n",
      "Name: Average Sale To List, dtype: float64\n",
      "count    1339.000000\n",
      "mean       99.586482\n",
      "std         2.821165\n",
      "min        70.300000\n",
      "25%        98.700000\n",
      "50%        99.800000\n",
      "75%       100.500000\n",
      "max       119.400000\n",
      "Name: Average Sale To List, dtype: float64\n"
     ]
    }
   ],
   "source": [
    "print(august19['Average Sale To List'].describe())\n",
    "print(august20['Average Sale To List'].describe())\n"
   ]
  },
  {
   "cell_type": "code",
   "execution_count": 6,
   "metadata": {},
   "outputs": [
    {
     "name": "stdout",
     "output_type": "stream",
     "text": [
      "(1688, 682)\n",
      "Index(['Unnamed: 0', 'Zip Code', 'June 2009 1bd', 'July 2009 1bd',\n",
      "       'August 2009 1bd', 'September 2009 1bd', 'October 2009 1bd',\n",
      "       'November 2009 1bd', 'December 2009 1bd', 'January 2010 1bd',\n",
      "       ...\n",
      "       'December 2019 5bd', 'January 2020 5bd', 'February 2020 5bd',\n",
      "       'March 2020 5bd', 'April 2020 5bd', 'May 2020 5bd', 'June 2020 5bd',\n",
      "       'July 2020 5bd', 'August 2020 5bd', 'September 2020 5bd'],\n",
      "      dtype='object', length=682)\n"
     ]
    }
   ],
   "source": [
    "\n",
    "\n",
    "#load dataframe from csv\n",
    "merged_bedroom_data = pd.read_csv(\"data/zip/merged_bedrooms.csv\", delimiter='\t')\n",
    "print(merged_bedroom_data.shape)\n",
    "print(merged_bedroom_data.columns)\n"
   ]
  },
  {
   "cell_type": "code",
   "execution_count": 7,
   "metadata": {},
   "outputs": [],
   "source": [
    "# let's get all bedrooms for all zipcodes for August 2020\n",
    "aug2020_bedrooms = pd.DataFrame(merged_bedroom_data, columns=[\"Zip Code\", \"August 2020 1bd\", \"August 2020 2bd\", \"August 2020 3bd\", \"August 2020 4bd\", \"August 2020 5bd\"])"
   ]
  },
  {
   "cell_type": "code",
   "execution_count": 8,
   "metadata": {},
   "outputs": [
    {
     "data": {
      "text/html": [
       "<div>\n",
       "<style scoped>\n",
       "    .dataframe tbody tr th:only-of-type {\n",
       "        vertical-align: middle;\n",
       "    }\n",
       "\n",
       "    .dataframe tbody tr th {\n",
       "        vertical-align: top;\n",
       "    }\n",
       "\n",
       "    .dataframe thead th {\n",
       "        text-align: right;\n",
       "    }\n",
       "</style>\n",
       "<table border=\"1\" class=\"dataframe\">\n",
       "  <thead>\n",
       "    <tr style=\"text-align: right;\">\n",
       "      <th></th>\n",
       "      <th>Zip Code</th>\n",
       "      <th>August 2020 1bd</th>\n",
       "      <th>August 2020 2bd</th>\n",
       "      <th>August 2020 3bd</th>\n",
       "      <th>August 2020 4bd</th>\n",
       "      <th>August 2020 5bd</th>\n",
       "    </tr>\n",
       "  </thead>\n",
       "  <tbody>\n",
       "    <tr>\n",
       "      <td>0</td>\n",
       "      <td>94109</td>\n",
       "      <td>852358.0</td>\n",
       "      <td>1359790.0</td>\n",
       "      <td>2061146.0</td>\n",
       "      <td>4374846.0</td>\n",
       "      <td>6729337.0</td>\n",
       "    </tr>\n",
       "    <tr>\n",
       "      <td>1</td>\n",
       "      <td>90250</td>\n",
       "      <td>495890.0</td>\n",
       "      <td>646922.0</td>\n",
       "      <td>698144.0</td>\n",
       "      <td>782495.0</td>\n",
       "      <td>902262.0</td>\n",
       "    </tr>\n",
       "    <tr>\n",
       "      <td>2</td>\n",
       "      <td>94565</td>\n",
       "      <td>227150.0</td>\n",
       "      <td>333446.0</td>\n",
       "      <td>368518.0</td>\n",
       "      <td>514257.0</td>\n",
       "      <td>669362.0</td>\n",
       "    </tr>\n",
       "    <tr>\n",
       "      <td>3</td>\n",
       "      <td>90046</td>\n",
       "      <td>595040.0</td>\n",
       "      <td>1058531.0</td>\n",
       "      <td>1919896.0</td>\n",
       "      <td>2830699.0</td>\n",
       "      <td>3621369.0</td>\n",
       "    </tr>\n",
       "    <tr>\n",
       "      <td>4</td>\n",
       "      <td>94501</td>\n",
       "      <td>461911.0</td>\n",
       "      <td>863668.0</td>\n",
       "      <td>1145287.0</td>\n",
       "      <td>1317371.0</td>\n",
       "      <td>1619572.0</td>\n",
       "    </tr>\n",
       "  </tbody>\n",
       "</table>\n",
       "</div>"
      ],
      "text/plain": [
       "   Zip Code  August 2020 1bd  August 2020 2bd  August 2020 3bd  \\\n",
       "0     94109         852358.0        1359790.0        2061146.0   \n",
       "1     90250         495890.0         646922.0         698144.0   \n",
       "2     94565         227150.0         333446.0         368518.0   \n",
       "3     90046         595040.0        1058531.0        1919896.0   \n",
       "4     94501         461911.0         863668.0        1145287.0   \n",
       "\n",
       "   August 2020 4bd  August 2020 5bd  \n",
       "0        4374846.0        6729337.0  \n",
       "1         782495.0         902262.0  \n",
       "2         514257.0         669362.0  \n",
       "3        2830699.0        3621369.0  \n",
       "4        1317371.0        1619572.0  "
      ]
     },
     "execution_count": 8,
     "metadata": {},
     "output_type": "execute_result"
    }
   ],
   "source": [
    "# what's our dataframe look like?\n",
    "aug2020_bedrooms.head(5)"
   ]
  },
  {
   "cell_type": "code",
   "execution_count": 9,
   "metadata": {},
   "outputs": [
    {
     "data": {
      "text/plain": [
       "count      1550.0000\n",
       "mean     845059.2310\n",
       "std      738127.1771\n",
       "min       69945.0000\n",
       "25%      401323.7500\n",
       "50%      621232.5000\n",
       "75%      985655.7500\n",
       "max     6528913.0000\n",
       "Name: August 2020 4bd, dtype: float64"
      ]
     },
     "execution_count": 9,
     "metadata": {},
     "output_type": "execute_result"
    }
   ],
   "source": [
    "pd.options.display.float_format = '{:.4f}'.format\n",
    "# how do we find out things about just 4 bedroom houses in Aug 2020?\n",
    "aug2020_bedrooms[\"August 2020 4bd\"].describe() "
   ]
  },
  {
   "cell_type": "code",
   "execution_count": 14,
   "metadata": {},
   "outputs": [
    {
     "name": "stdout",
     "output_type": "stream",
     "text": [
      "(41, 207)\n"
     ]
    }
   ],
   "source": [
    "''' \n",
    "now for our demographic info, it's from 2019 so not super up to date, but pretty close and there's a lot of it\n",
    "'''\n",
    "demographics = pd.read_csv(\"data/zip/ca_demographics.csv\", delimiter='\t')\n",
    "zip_to_county = pd.read_csv(\"data/zip/zip_to_county.csv\", delimiter='\t')\n",
    "\n",
    "print(demographics.shape) # a lot of blank columns\n",
    "\n",
    "# for ind in demographics.columns:\n",
    "#     print(ind)"
   ]
  },
  {
   "cell_type": "markdown",
   "metadata": {},
   "source": [
    "Most of the column names are gibberish, so we'll need to use the [ca_demographics_key.txt](data/zip/ca_demographics_key.txt) to make sense of them."
   ]
  },
  {
   "cell_type": "code",
   "execution_count": 15,
   "metadata": {},
   "outputs": [
    {
     "data": {
      "text/plain": [
       "Index(['Zip Code', 'State', 'County'], dtype='object')"
      ]
     },
     "execution_count": 15,
     "metadata": {},
     "output_type": "execute_result"
    }
   ],
   "source": [
    "zip_to_county.columns # more straightforward"
   ]
  },
  {
   "cell_type": "code",
   "execution_count": 16,
   "metadata": {},
   "outputs": [
    {
     "name": "stdout",
     "output_type": "stream",
     "text": [
      "Los Angeles County\n"
     ]
    }
   ],
   "source": [
    "'''\n",
    "Ok, so let's find out some things about 90001, more or less.\n",
    "First, which county is it in?\n",
    "Then, what's that county like?\n",
    "'''\n",
    "\n",
    "county90001 = zip_to_county[zip_to_county['Zip Code'] == 90001].iloc[0]['County']\n",
    "print(county90001)"
   ]
  },
  {
   "cell_type": "code",
   "execution_count": 17,
   "metadata": {},
   "outputs": [
    {
     "name": "stdout",
     "output_type": "stream",
     "text": [
      "10   2473.7873\n",
      "Name: SE_A00002_002, dtype: float64\n"
     ]
    }
   ],
   "source": [
    "\n",
    "#convoluted, but it works\n",
    "density = demographics[demographics['Geo_NAME'] == county90001]['SE_A00002_002']\n",
    "print(density)"
   ]
  },
  {
   "cell_type": "markdown",
   "metadata": {},
   "source": [
    "So LA is urban. Wow. Mind blown :)\n",
    "Slightly more interesting: what's the gini co-efficient of LA?"
   ]
  },
  {
   "cell_type": "code",
   "execution_count": 18,
   "metadata": {},
   "outputs": [
    {
     "name": "stdout",
     "output_type": "stream",
     "text": [
      "0.494\n"
     ]
    }
   ],
   "source": [
    "print(demographics[demographics['Geo_NAME'] == county90001].iloc[0]['SE_A14028_001'])"
   ]
  },
  {
   "cell_type": "markdown",
   "metadata": {},
   "source": [
    "What percentage of houses are owner occupied?"
   ]
  },
  {
   "cell_type": "code",
   "execution_count": 19,
   "metadata": {},
   "outputs": [
    {
     "name": "stdout",
     "output_type": "stream",
     "text": [
      "0.4541608305256763\n"
     ]
    }
   ],
   "source": [
    "owner = demographics[demographics['Geo_NAME'] == county90001].iloc[0]['SE_A10060_002']\n",
    "renter = demographics[demographics['Geo_NAME'] == county90001].iloc[0]['SE_A10060_003']\n",
    "\n",
    "print(owner / (owner + renter))\n"
   ]
  },
  {
   "cell_type": "markdown",
   "metadata": {},
   "source": [
    "\n",
    "We have a lot of this same data for zip codes but it's older, but let's load it anyways. Here's the key file for this: [ca_zip_demographics_key](data/zip/ca_zip_demographics_key.txt) which we'll definitely need because again, Social Explorer uses weird codes."
   ]
  },
  {
   "cell_type": "code",
   "execution_count": 20,
   "metadata": {},
   "outputs": [
    {
     "name": "stdout",
     "output_type": "stream",
     "text": [
      "(1763, 217)\n"
     ]
    }
   ],
   "source": [
    "zipdemo = pd.read_csv(\"data/zip/ca_zip_demograhics.csv\", delimiter='\t')\n",
    "print(zipdemo.shape)"
   ]
  },
  {
   "cell_type": "code",
   "execution_count": 21,
   "metadata": {
    "scrolled": false
   },
   "outputs": [],
   "source": [
    "# again, a loooooot of data\n",
    "# for ind in demographics.columns:\n",
    "#     print(ind)"
   ]
  },
  {
   "cell_type": "code",
   "execution_count": 22,
   "metadata": {},
   "outputs": [
    {
     "data": {
      "text/plain": [
       "<matplotlib.legend.Legend at 0x7fdcb79fec10>"
      ]
     },
     "execution_count": 22,
     "metadata": {},
     "output_type": "execute_result"
    },
    {
     "data": {
      "image/png": "[encoded data removed]",
      "text/plain": [
       "<Figure size 864x432 with 1 Axes>"
      ]
     },
     "metadata": {
      "needs_background": "light"
     },
     "output_type": "display_data"
    }
   ],
   "source": [
    "# let's get a histogram\n",
    "zip90001 = zipdemo.loc[(zipdemo['Geo_ZCTA5'] == 90001) | (zipdemo['Geo_ZCTA5'] == 96130)]\n",
    "\n",
    "income_start = zip90001.columns.get_loc('SE_A14001_002')\n",
    "income_end = zip90001.columns.get_loc('SE_A14001_017') + 1\n",
    "brackets = zip90001.iloc[:, income_start:income_end]\n",
    "brackets[\"zips\"] = [\"Los Angeles 90001\", \"Susanville 96130\"]\n",
    "\n",
    "labels = [\"<$10k\",\"$10k to $15k\",\"$15k to $20k\",\"$20k to $25k\",\"$25k to $30k\",\"$30k to $35k\",\"$35k to $40k\",\"$40k to $45k\",\"$45k to $50k\",\"$50k to $60k\",\"$60k to $75k\",\"$75k to $100k\",\"$100k to $125k\",\"$125k to $150k\",\"$150k to $200k\",\"$>200k\"]\n",
    "brackets.plot(kind=\"bar\", x=\"zips\", figsize=(12,6), rot=60).legend(labels)"
   ]
  },
  {
   "cell_type": "markdown",
   "metadata": {},
   "source": [
    "There's a lot to look at in that dataset, but certainly all the key indicators about the zip should give us at least some picture of what the housing market there might look like."
   ]
  },
  {
   "cell_type": "markdown",
   "metadata": {},
   "source": [
    "##### Condensing Sale Data to Year"
   ]
  },
  {
   "cell_type": "code",
   "execution_count": 23,
   "metadata": {},
   "outputs": [],
   "source": [
    "#remove month from \"Month of Period End\"\n",
    "only_year_query = \"\"\"SELECT \"Zip Code\" as zip_code, \n",
    "                    SUBSTR(\"Month of Period End\" ,-4) as year,\n",
    "                    \"Median Sale Price\" as med_sale_price,\n",
    "                    \"Homes Sold\" as home_sold,\n",
    "                    \"New Listings\" as new_listings,\n",
    "                    \"Inventory\" as inventory,\n",
    "                    \"Days on Market\" as days_on_market,\n",
    "                    \"Average Sale To List\" as avg_sale_to_list,\n",
    "                    PSSF as ppsf\n",
    "                    FROM merged_sales\"\"\"\n",
    "only_year = ps.sqldf(only_year_query, locals())\n",
    "\n",
    "#group by year\n",
    "cond_year_query = \"\"\"SELECT zip_code, \n",
    "                            year,\n",
    "                            AVG(med_sale_price) as med_sale_price,\n",
    "                            SUM(home_sold) as homes_sold,\n",
    "                            SUM(new_listings) as new_listings,\n",
    "                            AVG(inventory) as inventory,\n",
    "                            AVG(days_on_market) as days_on_market,\n",
    "                            AVG(avg_sale_to_list) as avg_sale_to_list,\n",
    "                            AVG(ppsf) as ppsf\n",
    "                    FROM only_year\n",
    "                    GROUP BY year, zip_code\"\"\"\n",
    "cond_year = ps.sqldf(cond_year_query, locals())\n",
    "\n",
    "#filtering to 2018\n",
    "year_18_query = \"\"\"SELECT *\n",
    "                    FROM cond_year\n",
    "                    WHERE year = '2018' \"\"\"\n",
    "year_18 = ps.sqldf(year_18_query, locals())"
   ]
  },
  {
   "cell_type": "markdown",
   "metadata": {},
   "source": [
    "### 2018 Sales and Demographic data"
   ]
  },
  {
   "cell_type": "code",
   "execution_count": 24,
   "metadata": {},
   "outputs": [
    {
     "data": {
      "text/html": [
       "<div>\n",
       "<style scoped>\n",
       "    .dataframe tbody tr th:only-of-type {\n",
       "        vertical-align: middle;\n",
       "    }\n",
       "\n",
       "    .dataframe tbody tr th {\n",
       "        vertical-align: top;\n",
       "    }\n",
       "\n",
       "    .dataframe thead th {\n",
       "        text-align: right;\n",
       "    }\n",
       "</style>\n",
       "<table border=\"1\" class=\"dataframe\">\n",
       "  <thead>\n",
       "    <tr style=\"text-align: right;\">\n",
       "      <th></th>\n",
       "      <th>zip_code</th>\n",
       "      <th>year</th>\n",
       "      <th>med_sale_price</th>\n",
       "      <th>homes_sold</th>\n",
       "      <th>new_listings</th>\n",
       "      <th>inventory</th>\n",
       "      <th>days_on_market</th>\n",
       "      <th>avg_sale_to_list</th>\n",
       "      <th>ppsf</th>\n",
       "      <th>Geo_FIPS</th>\n",
       "      <th>...</th>\n",
       "      <th>SE_A08002B_005</th>\n",
       "      <th>SE_A08002B_006</th>\n",
       "      <th>SE_A10066_001</th>\n",
       "      <th>SE_A10066_002</th>\n",
       "      <th>SE_A10066_003</th>\n",
       "      <th>SE_A10066_004</th>\n",
       "      <th>SE_A10066_005</th>\n",
       "      <th>SE_A10066_006</th>\n",
       "      <th>SE_A10066_007</th>\n",
       "      <th>SE_A10066_008</th>\n",
       "    </tr>\n",
       "  </thead>\n",
       "  <tbody>\n",
       "    <tr>\n",
       "      <td>0</td>\n",
       "      <td>90001</td>\n",
       "      <td>2018</td>\n",
       "      <td>422833.3333</td>\n",
       "      <td>511</td>\n",
       "      <td>678.0000</td>\n",
       "      <td>44.3333</td>\n",
       "      <td>43.1667</td>\n",
       "      <td>100.1250</td>\n",
       "      <td>322.5000</td>\n",
       "      <td>90090001</td>\n",
       "      <td>...</td>\n",
       "      <td>144</td>\n",
       "      <td>118</td>\n",
       "      <td>13815</td>\n",
       "      <td>1834</td>\n",
       "      <td>2083</td>\n",
       "      <td>2594</td>\n",
       "      <td>2513</td>\n",
       "      <td>2045</td>\n",
       "      <td>1330</td>\n",
       "      <td>1416</td>\n",
       "    </tr>\n",
       "    <tr>\n",
       "      <td>1</td>\n",
       "      <td>90002</td>\n",
       "      <td>2018</td>\n",
       "      <td>382500.0000</td>\n",
       "      <td>964</td>\n",
       "      <td>1178.0000</td>\n",
       "      <td>74.6667</td>\n",
       "      <td>39.9167</td>\n",
       "      <td>99.9167</td>\n",
       "      <td>323.7500</td>\n",
       "      <td>90090002</td>\n",
       "      <td>...</td>\n",
       "      <td>45</td>\n",
       "      <td>124</td>\n",
       "      <td>12706</td>\n",
       "      <td>2096</td>\n",
       "      <td>2232</td>\n",
       "      <td>2020</td>\n",
       "      <td>2266</td>\n",
       "      <td>1719</td>\n",
       "      <td>895</td>\n",
       "      <td>1478</td>\n",
       "    </tr>\n",
       "    <tr>\n",
       "      <td>2</td>\n",
       "      <td>90003</td>\n",
       "      <td>2018</td>\n",
       "      <td>407666.6667</td>\n",
       "      <td>962</td>\n",
       "      <td>1222.0000</td>\n",
       "      <td>96.0000</td>\n",
       "      <td>45.4167</td>\n",
       "      <td>99.9333</td>\n",
       "      <td>314.1667</td>\n",
       "      <td>90090003</td>\n",
       "      <td>...</td>\n",
       "      <td>193</td>\n",
       "      <td>129</td>\n",
       "      <td>17127</td>\n",
       "      <td>2594</td>\n",
       "      <td>2479</td>\n",
       "      <td>2966</td>\n",
       "      <td>3345</td>\n",
       "      <td>2757</td>\n",
       "      <td>1476</td>\n",
       "      <td>1510</td>\n",
       "    </tr>\n",
       "    <tr>\n",
       "      <td>3</td>\n",
       "      <td>90004</td>\n",
       "      <td>2018</td>\n",
       "      <td>1286500.0000</td>\n",
       "      <td>747</td>\n",
       "      <td>1117.0000</td>\n",
       "      <td>85.8333</td>\n",
       "      <td>33.8333</td>\n",
       "      <td>99.2333</td>\n",
       "      <td>630.9167</td>\n",
       "      <td>90090004</td>\n",
       "      <td>...</td>\n",
       "      <td>483</td>\n",
       "      <td>463</td>\n",
       "      <td>21971</td>\n",
       "      <td>6379</td>\n",
       "      <td>6385</td>\n",
       "      <td>3842</td>\n",
       "      <td>2854</td>\n",
       "      <td>1539</td>\n",
       "      <td>721</td>\n",
       "      <td>251</td>\n",
       "    </tr>\n",
       "    <tr>\n",
       "      <td>4</td>\n",
       "      <td>90005</td>\n",
       "      <td>2018</td>\n",
       "      <td>771000.0000</td>\n",
       "      <td>314</td>\n",
       "      <td>446.0000</td>\n",
       "      <td>30.6667</td>\n",
       "      <td>30.2500</td>\n",
       "      <td>99.2250</td>\n",
       "      <td>523.0000</td>\n",
       "      <td>90090005</td>\n",
       "      <td>...</td>\n",
       "      <td>431</td>\n",
       "      <td>380</td>\n",
       "      <td>16442</td>\n",
       "      <td>6298</td>\n",
       "      <td>4939</td>\n",
       "      <td>2183</td>\n",
       "      <td>1794</td>\n",
       "      <td>832</td>\n",
       "      <td>293</td>\n",
       "      <td>103</td>\n",
       "    </tr>\n",
       "    <tr>\n",
       "      <td>...</td>\n",
       "      <td>...</td>\n",
       "      <td>...</td>\n",
       "      <td>...</td>\n",
       "      <td>...</td>\n",
       "      <td>...</td>\n",
       "      <td>...</td>\n",
       "      <td>...</td>\n",
       "      <td>...</td>\n",
       "      <td>...</td>\n",
       "      <td>...</td>\n",
       "      <td>...</td>\n",
       "      <td>...</td>\n",
       "      <td>...</td>\n",
       "      <td>...</td>\n",
       "      <td>...</td>\n",
       "      <td>...</td>\n",
       "      <td>...</td>\n",
       "      <td>...</td>\n",
       "      <td>...</td>\n",
       "      <td>...</td>\n",
       "      <td>...</td>\n",
       "    </tr>\n",
       "    <tr>\n",
       "      <td>1332</td>\n",
       "      <td>96146</td>\n",
       "      <td>2018</td>\n",
       "      <td>580750.0000</td>\n",
       "      <td>249</td>\n",
       "      <td>368.0000</td>\n",
       "      <td>62.6667</td>\n",
       "      <td>163.3333</td>\n",
       "      <td>95.6917</td>\n",
       "      <td>486.3333</td>\n",
       "      <td>96196146</td>\n",
       "      <td>...</td>\n",
       "      <td>0</td>\n",
       "      <td>9</td>\n",
       "      <td>454</td>\n",
       "      <td>152</td>\n",
       "      <td>215</td>\n",
       "      <td>31</td>\n",
       "      <td>24</td>\n",
       "      <td>32</td>\n",
       "      <td>0</td>\n",
       "      <td>0</td>\n",
       "    </tr>\n",
       "    <tr>\n",
       "      <td>1333</td>\n",
       "      <td>96148</td>\n",
       "      <td>2018</td>\n",
       "      <td>644083.3333</td>\n",
       "      <td>155</td>\n",
       "      <td>156.0000</td>\n",
       "      <td>14.5833</td>\n",
       "      <td>90.5000</td>\n",
       "      <td>96.9500</td>\n",
       "      <td>413.6667</td>\n",
       "      <td>96196148</td>\n",
       "      <td>...</td>\n",
       "      <td>24</td>\n",
       "      <td>0</td>\n",
       "      <td>210</td>\n",
       "      <td>55</td>\n",
       "      <td>62</td>\n",
       "      <td>6</td>\n",
       "      <td>50</td>\n",
       "      <td>26</td>\n",
       "      <td>0</td>\n",
       "      <td>11</td>\n",
       "    </tr>\n",
       "    <tr>\n",
       "      <td>1334</td>\n",
       "      <td>96150</td>\n",
       "      <td>2018</td>\n",
       "      <td>453666.6667</td>\n",
       "      <td>2333</td>\n",
       "      <td>3039.0000</td>\n",
       "      <td>246.3333</td>\n",
       "      <td>43.7500</td>\n",
       "      <td>97.0083</td>\n",
       "      <td>307.6667</td>\n",
       "      <td>96196150</td>\n",
       "      <td>...</td>\n",
       "      <td>461</td>\n",
       "      <td>24</td>\n",
       "      <td>11536</td>\n",
       "      <td>3645</td>\n",
       "      <td>4315</td>\n",
       "      <td>1666</td>\n",
       "      <td>1221</td>\n",
       "      <td>427</td>\n",
       "      <td>202</td>\n",
       "      <td>60</td>\n",
       "    </tr>\n",
       "    <tr>\n",
       "      <td>1335</td>\n",
       "      <td>96155</td>\n",
       "      <td>2018</td>\n",
       "      <td>234000.0000</td>\n",
       "      <td>8</td>\n",
       "      <td>nan</td>\n",
       "      <td>nan</td>\n",
       "      <td>104.0000</td>\n",
       "      <td>91.3333</td>\n",
       "      <td>145.6667</td>\n",
       "      <td>96196155</td>\n",
       "      <td>...</td>\n",
       "      <td>0</td>\n",
       "      <td>0</td>\n",
       "      <td>0</td>\n",
       "      <td>0</td>\n",
       "      <td>0</td>\n",
       "      <td>0</td>\n",
       "      <td>0</td>\n",
       "      <td>0</td>\n",
       "      <td>0</td>\n",
       "      <td>0</td>\n",
       "    </tr>\n",
       "    <tr>\n",
       "      <td>1336</td>\n",
       "      <td>96161</td>\n",
       "      <td>2018</td>\n",
       "      <td>694666.6667</td>\n",
       "      <td>2534</td>\n",
       "      <td>3015.0000</td>\n",
       "      <td>289.5000</td>\n",
       "      <td>65.2500</td>\n",
       "      <td>97.8167</td>\n",
       "      <td>367.0000</td>\n",
       "      <td>96196161</td>\n",
       "      <td>...</td>\n",
       "      <td>233</td>\n",
       "      <td>59</td>\n",
       "      <td>6929</td>\n",
       "      <td>1385</td>\n",
       "      <td>2772</td>\n",
       "      <td>1087</td>\n",
       "      <td>1437</td>\n",
       "      <td>187</td>\n",
       "      <td>0</td>\n",
       "      <td>61</td>\n",
       "    </tr>\n",
       "  </tbody>\n",
       "</table>\n",
       "<p>1337 rows × 226 columns</p>\n",
       "</div>"
      ],
      "text/plain": [
       "      zip_code  year  med_sale_price  homes_sold  new_listings  inventory  \\\n",
       "0        90001  2018     422833.3333         511      678.0000    44.3333   \n",
       "1        90002  2018     382500.0000         964     1178.0000    74.6667   \n",
       "2        90003  2018     407666.6667         962     1222.0000    96.0000   \n",
       "3        90004  2018    1286500.0000         747     1117.0000    85.8333   \n",
       "4        90005  2018     771000.0000         314      446.0000    30.6667   \n",
       "...        ...   ...             ...         ...           ...        ...   \n",
       "1332     96146  2018     580750.0000         249      368.0000    62.6667   \n",
       "1333     96148  2018     644083.3333         155      156.0000    14.5833   \n",
       "1334     96150  2018     453666.6667        2333     3039.0000   246.3333   \n",
       "1335     96155  2018     234000.0000           8           nan        nan   \n",
       "1336     96161  2018     694666.6667        2534     3015.0000   289.5000   \n",
       "\n",
       "      days_on_market  avg_sale_to_list     ppsf  Geo_FIPS  ... SE_A08002B_005  \\\n",
       "0            43.1667          100.1250 322.5000  90090001  ...            144   \n",
       "1            39.9167           99.9167 323.7500  90090002  ...             45   \n",
       "2            45.4167           99.9333 314.1667  90090003  ...            193   \n",
       "3            33.8333           99.2333 630.9167  90090004  ...            483   \n",
       "4            30.2500           99.2250 523.0000  90090005  ...            431   \n",
       "...              ...               ...      ...       ...  ...            ...   \n",
       "1332        163.3333           95.6917 486.3333  96196146  ...              0   \n",
       "1333         90.5000           96.9500 413.6667  96196148  ...             24   \n",
       "1334         43.7500           97.0083 307.6667  96196150  ...            461   \n",
       "1335        104.0000           91.3333 145.6667  96196155  ...              0   \n",
       "1336         65.2500           97.8167 367.0000  96196161  ...            233   \n",
       "\n",
       "     SE_A08002B_006 SE_A10066_001 SE_A10066_002  SE_A10066_003  SE_A10066_004  \\\n",
       "0               118         13815          1834           2083           2594   \n",
       "1               124         12706          2096           2232           2020   \n",
       "2               129         17127          2594           2479           2966   \n",
       "3               463         21971          6379           6385           3842   \n",
       "4               380         16442          6298           4939           2183   \n",
       "...             ...           ...           ...            ...            ...   \n",
       "1332              9           454           152            215             31   \n",
       "1333              0           210            55             62              6   \n",
       "1334             24         11536          3645           4315           1666   \n",
       "1335              0             0             0              0              0   \n",
       "1336             59          6929          1385           2772           1087   \n",
       "\n",
       "     SE_A10066_005  SE_A10066_006 SE_A10066_007 SE_A10066_008  \n",
       "0             2513           2045          1330          1416  \n",
       "1             2266           1719           895          1478  \n",
       "2             3345           2757          1476          1510  \n",
       "3             2854           1539           721           251  \n",
       "4             1794            832           293           103  \n",
       "...            ...            ...           ...           ...  \n",
       "1332            24             32             0             0  \n",
       "1333            50             26             0            11  \n",
       "1334          1221            427           202            60  \n",
       "1335             0              0             0             0  \n",
       "1336          1437            187             0            61  \n",
       "\n",
       "[1337 rows x 226 columns]"
      ]
     },
     "execution_count": 24,
     "metadata": {},
     "output_type": "execute_result"
    }
   ],
   "source": [
    "#zip code = Geo_ZCTA5\n",
    "\n",
    "sales_demo_query = \"\"\"SELECT year_18.*, zipdemo.*\n",
    "                    FROM year_18\n",
    "                    INNER JOIN zipdemo on zip_code = Geo_ZCTA5\n",
    "                    \"\"\"\n",
    "sales_demo = ps.sqldf(sales_demo_query, locals())\n",
    "sales_demo"
   ]
  },
  {
   "cell_type": "code",
   "execution_count": 25,
   "metadata": {},
   "outputs": [
    {
     "data": {
      "text/html": [
       "<div>\n",
       "<style scoped>\n",
       "    .dataframe tbody tr th:only-of-type {\n",
       "        vertical-align: middle;\n",
       "    }\n",
       "\n",
       "    .dataframe tbody tr th {\n",
       "        vertical-align: top;\n",
       "    }\n",
       "\n",
       "    .dataframe thead th {\n",
       "        text-align: right;\n",
       "    }\n",
       "</style>\n",
       "<table border=\"1\" class=\"dataframe\">\n",
       "  <thead>\n",
       "    <tr style=\"text-align: right;\">\n",
       "      <th></th>\n",
       "      <th>DoM_group</th>\n",
       "      <th>COUNT(zip_code)</th>\n",
       "      <th>MAX(days_on_market)</th>\n",
       "    </tr>\n",
       "  </thead>\n",
       "  <tbody>\n",
       "    <tr>\n",
       "      <td>0</td>\n",
       "      <td>1</td>\n",
       "      <td>268</td>\n",
       "      <td>21.4167</td>\n",
       "    </tr>\n",
       "    <tr>\n",
       "      <td>1</td>\n",
       "      <td>2</td>\n",
       "      <td>268</td>\n",
       "      <td>34.7500</td>\n",
       "    </tr>\n",
       "    <tr>\n",
       "      <td>2</td>\n",
       "      <td>3</td>\n",
       "      <td>267</td>\n",
       "      <td>44.0833</td>\n",
       "    </tr>\n",
       "    <tr>\n",
       "      <td>3</td>\n",
       "      <td>4</td>\n",
       "      <td>267</td>\n",
       "      <td>59.4167</td>\n",
       "    </tr>\n",
       "    <tr>\n",
       "      <td>4</td>\n",
       "      <td>5</td>\n",
       "      <td>267</td>\n",
       "      <td>2833.0000</td>\n",
       "    </tr>\n",
       "  </tbody>\n",
       "</table>\n",
       "</div>"
      ],
      "text/plain": [
       "   DoM_group  COUNT(zip_code)  MAX(days_on_market)\n",
       "0          1              268              21.4167\n",
       "1          2              268              34.7500\n",
       "2          3              267              44.0833\n",
       "3          4              267              59.4167\n",
       "4          5              267            2833.0000"
      ]
     },
     "execution_count": 25,
     "metadata": {},
     "output_type": "execute_result"
    }
   ],
   "source": [
    "#create avg_sale_to_list groups (split into 5)\n",
    "ntile_DoM_query = \"\"\"SELECT *, NTILE(5) OVER (\n",
    "                            ORDER BY days_on_market ASC) as DoM_group      \n",
    "                        FROM sales_demo\"\"\"\n",
    "ntile_DoM = ps.sqldf(ntile_DoM_query, locals())\n",
    "\n",
    "\n",
    "#see group maximums\n",
    "minmax_DoM_query = \"\"\"SELECT DoM_group, COUNT(zip_code), MAX(days_on_market)\n",
    "                        FROM ntile_DoM\n",
    "                        GROUP BY DoM_group\"\"\"\n",
    "minmax_DoM = ps.sqldf(minmax_DoM_query, locals())\n",
    "minmax_DoM"
   ]
  },
  {
   "cell_type": "code",
   "execution_count": 26,
   "metadata": {},
   "outputs": [],
   "source": [
    "#Delete non-numeric columns.\n",
    "del_col = ['Geo_FIPS', 'Geo_GEOID', 'Geo_NAME', 'Geo_QName', 'Geo_STUSAB', 'Geo_SUMLEV', \n",
    "           'Geo_GEOCOMP', 'Geo_FILEID', 'Geo_LOGRECNO', 'Geo_US', 'Geo_REGION', 'Geo_DIVISION', \n",
    "          'Geo_STATECE', 'Geo_STATE', 'Geo_COUNTY', 'Geo_COUSUB', 'Geo_PLACE', 'Geo_PLACESE', \n",
    "          'Geo_TRACT', 'Geo_BLKGRP', 'Geo_CONCIT', 'Geo_AIANHH', 'Geo_AIANHHFP', 'Geo_AIHHTLI', \n",
    "          'Geo_AITSCE', 'Geo_AITS', 'Geo_ANRC', 'Geo_CBSA', 'Geo_CSA', 'Geo_METDIV', 'Geo_MACC', \n",
    "          'Geo_MEMI', 'Geo_NECTA', 'Geo_CNECTA', 'Geo_NECTADIV', 'Geo_UA', 'Geo_UACP', 'Geo_CDCURR', \n",
    "          'Geo_SLDU', 'Geo_SLDL', 'Geo_VTD', 'Geo_ZCTA3', 'Geo_SUBMCD', 'Geo_SDELM', 'Geo_SDSEC', \n",
    "          'Geo_SDUNI', 'Geo_UR', 'Geo_PCI', 'Geo_TAZ', 'Geo_UGA', 'Geo_BTTR', 'Geo_BTBG', \n",
    "          'Geo_PUMA5', 'Geo_PUMA1', 'year','Geo_ZCTA5']\n",
    "for i in del_col:\n",
    "    del ntile_DoM[i]"
   ]
  },
  {
   "cell_type": "markdown",
   "metadata": {},
   "source": [
    "### Building the Model"
   ]
  },
  {
   "cell_type": "code",
   "execution_count": 52,
   "metadata": {},
   "outputs": [],
   "source": [
    "# Set variables to hold test and training data.\n",
    "\n",
    "# Shuffle data frame.\n",
    "shuffled = ntile_DoM.sample(frac=1).reset_index(drop=True)\n",
    "\n",
    "# Remove blanks and NaNs\n",
    "shuffled.replace('', np.nan)\n",
    "shuffled = shuffled.dropna(axis=0, how='any')\n",
    "\n",
    "# Split into data and labels.\n",
    "labels = shuffled[\"DoM_group\"]\n",
    "del shuffled[\"DoM_group\"]\n",
    "zip_codes = shuffled[\"zip_code\"]\n",
    "del shuffled[\"zip_code\"]\n",
    "shuffled = shuffled.apply(lambda x: pd.to_numeric(x))\n",
    "\n",
    "# Create 80% split point.\n",
    "split = int(len(shuffled)*0.8//1)\n",
    "\n",
    "# Store in variables.\n",
    "train_data = shuffled[:split]\n",
    "train_labels = labels[:split]\n",
    "test_data = shuffled[split+1:]\n",
    "test_labels = labels[split+1:]"
   ]
  },
  {
   "cell_type": "code",
   "execution_count": 53,
   "metadata": {},
   "outputs": [
    {
     "name": "stdout",
     "output_type": "stream",
     "text": [
      "Classification report for k=1:\n",
      "               precision    recall  f1-score   support\n",
      "\n",
      "           1       0.48      0.44      0.46        25\n",
      "           2       0.43      0.45      0.44        20\n",
      "           3       0.32      0.47      0.38        15\n",
      "           4       0.28      0.23      0.25        22\n",
      "           5       0.50      0.25      0.33         4\n",
      "\n",
      "    accuracy                           0.38        86\n",
      "   macro avg       0.40      0.37      0.37        86\n",
      "weighted avg       0.39      0.38      0.38        86\n",
      "\n",
      "k=1 \t Model Accuracy: 0.384  \n",
      "k=3 \t Model Accuracy: 0.419  \n",
      "k=5 \t Model Accuracy: 0.442  \n",
      "k=7 \t Model Accuracy: 0.384  \n",
      "k=9 \t Model Accuracy: 0.407  \n",
      "k=21 \t Model Accuracy: 0.407  \n",
      "k=201 \t Model Accuracy: 0.209  \n",
      "k=345 \t Model Accuracy: 0.174  \n"
     ]
    }
   ],
   "source": [
    "# Build KNN Model with various k values\n",
    "k_values = [1, 3, 5, 7, 9, 21, 201, len(train_data)]\n",
    "\n",
    "for i, k in enumerate(k_values):\n",
    "        # Build the models using values from the k_values list.\n",
    "        model = KNeighborsClassifier(n_neighbors=k)\n",
    "        model.fit(train_data, train_labels)\n",
    "\n",
    "        # Test model using dev data.\n",
    "        predicted_labels = model.predict(test_data)\n",
    "\n",
    "        # Show the classification report for k=1 only.\n",
    "        if k==1:\n",
    "            print(\"Classification report for k=1:\\n\", classification_report(test_labels, predicted_labels))\n",
    "\n",
    "        # Calculate number of incorrect values for each model.\n",
    "        num_wrong = sum(test_labels != predicted_labels)\n",
    "        accuracy = (len(test_labels) - num_wrong) / len(test_labels)\n",
    "        print(\"k=%d \\t Model Accuracy: %.3f  \"  % (k ,accuracy))    "
   ]
  },
  {
   "cell_type": "code",
   "execution_count": 54,
   "metadata": {},
   "outputs": [
    {
     "name": "stdout",
     "output_type": "stream",
     "text": [
      "0.1 0.2558\n",
      "0.2 0.2558\n",
      "0.3 0.2558\n",
      "0.4 0.2326\n",
      "0.5 0.2209\n",
      "0.6 0.2209\n",
      "0.7 0.2209\n",
      "0.8 0.2209\n",
      "0.9 0.2209\n"
     ]
    }
   ],
   "source": [
    "# Gaussian NB Model.\n",
    "for i in np.arange(0.1, 1, 0.1):\n",
    "    model = GaussianNB(var_smoothing=i)\n",
    "    model.fit(train_data, train_labels)\n",
    "\n",
    "    predicted_labels = model.predict(test_data)\n",
    "\n",
    "    num_wrong = sum(test_labels != predicted_labels)\n",
    "    accuracy = (len(test_labels) - num_wrong) / len(test_labels)\n",
    "    print(round(i,1), round(accuracy, 4))"
   ]
  },
  {
   "cell_type": "markdown",
   "metadata": {},
   "source": [
    "## Standardize Data and Remodel"
   ]
  },
  {
   "cell_type": "code",
   "execution_count": 68,
   "metadata": {},
   "outputs": [],
   "source": [
    "# Standardize columns\n",
    "train_data_std = train_data.apply(lambda x: (x - x.mean()) / x.std())\n",
    "train_data_mean = train_data.apply(lambda x: x.mean())\n",
    "train_data_sd = train_data.apply(lambda x: x.std())\n",
    "\n",
    "# Impart on test data.\n",
    "test_data_std = (test_data - train_data_mean)/train_data_sd"
   ]
  },
  {
   "cell_type": "code",
   "execution_count": 69,
   "metadata": {},
   "outputs": [
    {
     "name": "stdout",
     "output_type": "stream",
     "text": [
      "Classification report for k=1:\n",
      "               precision    recall  f1-score   support\n",
      "\n",
      "           1       0.69      0.80      0.74        25\n",
      "           2       0.59      0.50      0.54        20\n",
      "           3       0.35      0.60      0.44        15\n",
      "           4       0.36      0.23      0.28        22\n",
      "           5       0.00      0.00      0.00         4\n",
      "\n",
      "    accuracy                           0.51        86\n",
      "   macro avg       0.40      0.43      0.40        86\n",
      "weighted avg       0.49      0.51      0.49        86\n",
      "\n",
      "k=1 \t Model Accuracy: 0.512  \n",
      "k=3 \t Model Accuracy: 0.442  \n",
      "k=5 \t Model Accuracy: 0.488  \n",
      "k=7 \t Model Accuracy: 0.488  \n",
      "k=9 \t Model Accuracy: 0.512  \n",
      "k=21 \t Model Accuracy: 0.384  \n",
      "k=201 \t Model Accuracy: 0.279  \n",
      "k=345 \t Model Accuracy: 0.174  \n"
     ]
    },
    {
     "name": "stderr",
     "output_type": "stream",
     "text": [
      "/Users/duncanhoward/opt/anaconda3/lib/python3.7/site-packages/sklearn/metrics/classification.py:1437: UndefinedMetricWarning: Precision and F-score are ill-defined and being set to 0.0 in labels with no predicted samples.\n",
      "  'precision', 'predicted', average, warn_for)\n"
     ]
    }
   ],
   "source": [
    "# Build KNN Model with various k values\n",
    "k_values = [1, 3, 5, 7, 9, 21, 201, len(train_data)]\n",
    "\n",
    "for i, k in enumerate(k_values):\n",
    "        # Build the models using values from the k_values list.\n",
    "        model = KNeighborsClassifier(n_neighbors=k)\n",
    "        model.fit(train_data_std, train_labels)\n",
    "\n",
    "        # Test model using dev data.\n",
    "        predicted_labels = model.predict(test_data_std)\n",
    "\n",
    "        # Show the classification report for k=1.\n",
    "        if k==1:\n",
    "            print(\"Classification report for k=1:\\n\", classification_report(test_labels, predicted_labels))\n",
    "\n",
    "        # Calculate number of incorrect values for each model.\n",
    "        num_wrong = sum(test_labels != predicted_labels)\n",
    "        accuracy = (len(test_labels) - num_wrong) / len(test_labels)\n",
    "        print(\"k=%d \\t Model Accuracy: %.3f  \"  % (k ,accuracy))    "
   ]
  },
  {
   "cell_type": "code",
   "execution_count": 70,
   "metadata": {},
   "outputs": [
    {
     "name": "stdout",
     "output_type": "stream",
     "text": [
      "              precision    recall  f1-score   support\n",
      "\n",
      "           1       0.73      0.76      0.75        25\n",
      "           2       0.50      0.35      0.41        20\n",
      "           3       0.35      0.40      0.38        15\n",
      "           4       0.62      0.23      0.33        22\n",
      "           5       0.14      0.75      0.24         4\n",
      "\n",
      "    accuracy                           0.47        86\n",
      "   macro avg       0.47      0.50      0.42        86\n",
      "weighted avg       0.56      0.47      0.47        86\n",
      "\n"
     ]
    }
   ],
   "source": [
    "# Gaussian NB Model.\n",
    "model = GaussianNB(var_smoothing=0)\n",
    "model.fit(train_data_std, train_labels)\n",
    "\n",
    "predicted_labels = model.predict(test_data_std)\n",
    "\n",
    "num_wrong = sum(test_labels != predicted_labels)\n",
    "accuracy = (len(test_labels) - num_wrong) / len(test_labels)\n",
    "\n",
    "print(classification_report(test_labels, predicted_labels))"
   ]
  },
  {
   "cell_type": "markdown",
   "metadata": {},
   "source": [
    "## Scale to increase weight of non-demographic data"
   ]
  },
  {
   "cell_type": "code",
   "execution_count": 71,
   "metadata": {},
   "outputs": [
    {
     "name": "stdout",
     "output_type": "stream",
     "text": [
      "Index(['med_sale_price', 'homes_sold', 'new_listings', 'inventory',\n",
      "       'days_on_market', 'avg_sale_to_list', 'ppsf'],\n",
      "      dtype='object')\n"
     ]
    }
   ],
   "source": [
    "# Non-demographic data is in the first 7 columns\n",
    "print((train_data_std.columns[0:7]))"
   ]
  },
  {
   "cell_type": "code",
   "execution_count": 72,
   "metadata": {},
   "outputs": [],
   "source": [
    "# Multiply by a scalar.\n",
    "scale_factor = 10\n",
    "train_data_std[0:7] = train_data_std[0:7].multiply(scale_factor)\n",
    "test_data_std[0:7] = test_data_std[0:7].multiply(scale_factor)"
   ]
  },
  {
   "cell_type": "code",
   "execution_count": 73,
   "metadata": {},
   "outputs": [
    {
     "name": "stdout",
     "output_type": "stream",
     "text": [
      "Classification report for k=1:\n",
      "               precision    recall  f1-score   support\n",
      "\n",
      "           1       0.71      0.80      0.75        25\n",
      "           2       0.61      0.55      0.58        20\n",
      "           3       0.35      0.53      0.42        15\n",
      "           4       0.35      0.27      0.31        22\n",
      "           5       0.00      0.00      0.00         4\n",
      "\n",
      "    accuracy                           0.52        86\n",
      "   macro avg       0.41      0.43      0.41        86\n",
      "weighted avg       0.50      0.52      0.51        86\n",
      "\n",
      "k=1 \t Model Accuracy: 0.523  \n",
      "k=3 \t Model Accuracy: 0.465  \n",
      "k=5 \t Model Accuracy: 0.488  \n",
      "k=7 \t Model Accuracy: 0.512  \n",
      "k=9 \t Model Accuracy: 0.523  \n",
      "k=21 \t Model Accuracy: 0.395  \n",
      "k=201 \t Model Accuracy: 0.279  \n",
      "k=345 \t Model Accuracy: 0.174  \n"
     ]
    },
    {
     "name": "stderr",
     "output_type": "stream",
     "text": [
      "/Users/duncanhoward/opt/anaconda3/lib/python3.7/site-packages/sklearn/metrics/classification.py:1437: UndefinedMetricWarning: Precision and F-score are ill-defined and being set to 0.0 in labels with no predicted samples.\n",
      "  'precision', 'predicted', average, warn_for)\n"
     ]
    }
   ],
   "source": [
    "# Build KNN Model with various k values\n",
    "k_values = [1, 3, 5, 7, 9, 21, 201, len(train_data)]\n",
    "\n",
    "for i, k in enumerate(k_values):\n",
    "        # Build the models using values from the k_values list.\n",
    "        model = KNeighborsClassifier(n_neighbors=k)\n",
    "        model.fit(train_data_std, train_labels)\n",
    "\n",
    "        # Test model using dev data.\n",
    "        predicted_labels = model.predict(test_data_std)\n",
    "\n",
    "        # Show the classification report for k=1.\n",
    "        if k==1:\n",
    "            print(\"Classification report for k=1:\\n\", classification_report(test_labels, predicted_labels))\n",
    "\n",
    "        # Calculate number of incorrect values for each model.\n",
    "        num_wrong = sum(test_labels != predicted_labels)\n",
    "        accuracy = (len(test_labels) - num_wrong) / len(test_labels)\n",
    "        print(\"k=%d \\t Model Accuracy: %.3f  \"  % (k ,accuracy))    "
   ]
  },
  {
   "cell_type": "code",
   "execution_count": 81,
   "metadata": {},
   "outputs": [
    {
     "name": "stdout",
     "output_type": "stream",
     "text": [
      "              precision    recall  f1-score   support\n",
      "\n",
      "           1       0.70      0.28      0.40        25\n",
      "           2       0.25      0.10      0.14        20\n",
      "           3       0.00      0.00      0.00        15\n",
      "           4       0.23      0.41      0.30        22\n",
      "           5       0.12      0.75      0.21         4\n",
      "\n",
      "    accuracy                           0.24        86\n",
      "   macro avg       0.26      0.31      0.21        86\n",
      "weighted avg       0.33      0.24      0.23        86\n",
      "\n"
     ]
    }
   ],
   "source": [
    "# Gaussian NB Model.\n",
    "model = GaussianNB(var_smoothing=0)\n",
    "model.fit(train_data_std, train_labels)\n",
    "\n",
    "predicted_labels = model.predict(test_data_std)\n",
    "\n",
    "num_wrong = sum(test_labels != predicted_labels)\n",
    "accuracy = (len(test_labels) - num_wrong) / len(test_labels)\n",
    "\n",
    "print(classification_report(test_labels, predicted_labels))"
   ]
  },
  {
   "cell_type": "code",
   "execution_count": null,
   "metadata": {},
   "outputs": [],
   "source": []
  }
 ],
 "metadata": {
  "kernelspec": {
   "display_name": "Python 3",
   "language": "python",
   "name": "python3"
  },
  "language_info": {
   "codemirror_mode": {
    "name": "ipython",
    "version": 3
   },
   "file_extension": ".py",
   "mimetype": "text/x-python",
   "name": "python",
   "nbconvert_exporter": "python",
   "pygments_lexer": "ipython3",
   "version": "3.7.4"
  }
 },
 "nbformat": 4,
 "nbformat_minor": 2
}
